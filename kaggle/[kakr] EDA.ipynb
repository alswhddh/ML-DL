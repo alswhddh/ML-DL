{
 "cells": [
  {
   "cell_type": "code",
   "execution_count": 17,
   "metadata": {},
   "outputs": [],
   "source": [
    "import numpy as np\n",
    "import pandas as pd\n",
    "\n",
    "import matplotlib as mpl\n",
    "import matplotlib.pyplot as plt\n",
    "import seaborn as sns\n"
   ]
  },
  {
   "cell_type": "code",
   "execution_count": 49,
   "metadata": {},
   "outputs": [],
   "source": [
    "train = pd.read_csv(\"./kaggle/train.csv\")"
   ]
  },
  {
   "cell_type": "code",
   "execution_count": 4,
   "metadata": {},
   "outputs": [
    {
     "data": {
      "text/html": [
       "<div>\n",
       "<style scoped>\n",
       "    .dataframe tbody tr th:only-of-type {\n",
       "        vertical-align: middle;\n",
       "    }\n",
       "\n",
       "    .dataframe tbody tr th {\n",
       "        vertical-align: top;\n",
       "    }\n",
       "\n",
       "    .dataframe thead th {\n",
       "        text-align: right;\n",
       "    }\n",
       "</style>\n",
       "<table border=\"1\" class=\"dataframe\">\n",
       "  <thead>\n",
       "    <tr style=\"text-align: right;\">\n",
       "      <th></th>\n",
       "      <th>id</th>\n",
       "      <th>age</th>\n",
       "      <th>workclass</th>\n",
       "      <th>fnlwgt</th>\n",
       "      <th>education</th>\n",
       "      <th>education_num</th>\n",
       "      <th>marital_status</th>\n",
       "      <th>occupation</th>\n",
       "      <th>relationship</th>\n",
       "      <th>race</th>\n",
       "      <th>sex</th>\n",
       "      <th>capital_gain</th>\n",
       "      <th>capital_loss</th>\n",
       "      <th>hours_per_week</th>\n",
       "      <th>native_country</th>\n",
       "      <th>income</th>\n",
       "    </tr>\n",
       "  </thead>\n",
       "  <tbody>\n",
       "    <tr>\n",
       "      <th>0</th>\n",
       "      <td>0</td>\n",
       "      <td>40</td>\n",
       "      <td>Private</td>\n",
       "      <td>168538</td>\n",
       "      <td>HS-grad</td>\n",
       "      <td>9</td>\n",
       "      <td>Married-civ-spouse</td>\n",
       "      <td>Sales</td>\n",
       "      <td>Husband</td>\n",
       "      <td>White</td>\n",
       "      <td>Male</td>\n",
       "      <td>0</td>\n",
       "      <td>0</td>\n",
       "      <td>60</td>\n",
       "      <td>United-States</td>\n",
       "      <td>&gt;50K</td>\n",
       "    </tr>\n",
       "    <tr>\n",
       "      <th>1</th>\n",
       "      <td>1</td>\n",
       "      <td>17</td>\n",
       "      <td>Private</td>\n",
       "      <td>101626</td>\n",
       "      <td>9th</td>\n",
       "      <td>5</td>\n",
       "      <td>Never-married</td>\n",
       "      <td>Machine-op-inspct</td>\n",
       "      <td>Own-child</td>\n",
       "      <td>White</td>\n",
       "      <td>Male</td>\n",
       "      <td>0</td>\n",
       "      <td>0</td>\n",
       "      <td>20</td>\n",
       "      <td>United-States</td>\n",
       "      <td>&lt;=50K</td>\n",
       "    </tr>\n",
       "    <tr>\n",
       "      <th>2</th>\n",
       "      <td>2</td>\n",
       "      <td>18</td>\n",
       "      <td>Private</td>\n",
       "      <td>353358</td>\n",
       "      <td>Some-college</td>\n",
       "      <td>10</td>\n",
       "      <td>Never-married</td>\n",
       "      <td>Other-service</td>\n",
       "      <td>Own-child</td>\n",
       "      <td>White</td>\n",
       "      <td>Male</td>\n",
       "      <td>0</td>\n",
       "      <td>0</td>\n",
       "      <td>16</td>\n",
       "      <td>United-States</td>\n",
       "      <td>&lt;=50K</td>\n",
       "    </tr>\n",
       "    <tr>\n",
       "      <th>3</th>\n",
       "      <td>3</td>\n",
       "      <td>21</td>\n",
       "      <td>Private</td>\n",
       "      <td>151158</td>\n",
       "      <td>Some-college</td>\n",
       "      <td>10</td>\n",
       "      <td>Never-married</td>\n",
       "      <td>Prof-specialty</td>\n",
       "      <td>Own-child</td>\n",
       "      <td>White</td>\n",
       "      <td>Female</td>\n",
       "      <td>0</td>\n",
       "      <td>0</td>\n",
       "      <td>25</td>\n",
       "      <td>United-States</td>\n",
       "      <td>&lt;=50K</td>\n",
       "    </tr>\n",
       "    <tr>\n",
       "      <th>4</th>\n",
       "      <td>4</td>\n",
       "      <td>24</td>\n",
       "      <td>Private</td>\n",
       "      <td>122234</td>\n",
       "      <td>Some-college</td>\n",
       "      <td>10</td>\n",
       "      <td>Never-married</td>\n",
       "      <td>Adm-clerical</td>\n",
       "      <td>Not-in-family</td>\n",
       "      <td>Black</td>\n",
       "      <td>Female</td>\n",
       "      <td>0</td>\n",
       "      <td>0</td>\n",
       "      <td>20</td>\n",
       "      <td>?</td>\n",
       "      <td>&lt;=50K</td>\n",
       "    </tr>\n",
       "  </tbody>\n",
       "</table>\n",
       "</div>"
      ],
      "text/plain": [
       "   id  age workclass  fnlwgt     education  education_num      marital_status  \\\n",
       "0   0   40   Private  168538       HS-grad              9  Married-civ-spouse   \n",
       "1   1   17   Private  101626           9th              5       Never-married   \n",
       "2   2   18   Private  353358  Some-college             10       Never-married   \n",
       "3   3   21   Private  151158  Some-college             10       Never-married   \n",
       "4   4   24   Private  122234  Some-college             10       Never-married   \n",
       "\n",
       "          occupation   relationship   race     sex  capital_gain  \\\n",
       "0              Sales        Husband  White    Male             0   \n",
       "1  Machine-op-inspct      Own-child  White    Male             0   \n",
       "2      Other-service      Own-child  White    Male             0   \n",
       "3     Prof-specialty      Own-child  White  Female             0   \n",
       "4       Adm-clerical  Not-in-family  Black  Female             0   \n",
       "\n",
       "   capital_loss  hours_per_week native_country income  \n",
       "0             0              60  United-States   >50K  \n",
       "1             0              20  United-States  <=50K  \n",
       "2             0              16  United-States  <=50K  \n",
       "3             0              25  United-States  <=50K  \n",
       "4             0              20              ?  <=50K  "
      ]
     },
     "execution_count": 4,
     "metadata": {},
     "output_type": "execute_result"
    }
   ],
   "source": [
    "train.head()"
   ]
  },
  {
   "cell_type": "markdown",
   "metadata": {},
   "source": [
    "### 결측치 확인하기"
   ]
  },
  {
   "cell_type": "code",
   "execution_count": 5,
   "metadata": {},
   "outputs": [
    {
     "name": "stdout",
     "output_type": "stream",
     "text": [
      "<class 'pandas.core.frame.DataFrame'>\n",
      "RangeIndex: 26049 entries, 0 to 26048\n",
      "Data columns (total 16 columns):\n",
      " #   Column          Non-Null Count  Dtype \n",
      "---  ------          --------------  ----- \n",
      " 0   id              26049 non-null  int64 \n",
      " 1   age             26049 non-null  int64 \n",
      " 2   workclass       26049 non-null  object\n",
      " 3   fnlwgt          26049 non-null  int64 \n",
      " 4   education       26049 non-null  object\n",
      " 5   education_num   26049 non-null  int64 \n",
      " 6   marital_status  26049 non-null  object\n",
      " 7   occupation      26049 non-null  object\n",
      " 8   relationship    26049 non-null  object\n",
      " 9   race            26049 non-null  object\n",
      " 10  sex             26049 non-null  object\n",
      " 11  capital_gain    26049 non-null  int64 \n",
      " 12  capital_loss    26049 non-null  int64 \n",
      " 13  hours_per_week  26049 non-null  int64 \n",
      " 14  native_country  26049 non-null  object\n",
      " 15  income          26049 non-null  object\n",
      "dtypes: int64(7), object(9)\n",
      "memory usage: 3.2+ MB\n"
     ]
    }
   ],
   "source": [
    "train.info()"
   ]
  },
  {
   "cell_type": "code",
   "execution_count": 8,
   "metadata": {},
   "outputs": [
    {
     "data": {
      "text/plain": [
       "<matplotlib.axes._subplots.AxesSubplot at 0x2220e372ee0>"
      ]
     },
     "execution_count": 8,
     "metadata": {},
     "output_type": "execute_result"
    },
    {
     "data": {
      "image/png": "[encoded data removed]",
      "text/plain": [
       "<Figure size 1800x720 with 2 Axes>"
      ]
     },
     "metadata": {
      "needs_background": "light"
     },
     "output_type": "display_data"
    }
   ],
   "source": [
    "#시각화로 결측치 확인\n",
    "import missingno as msno\n",
    "\n",
    "msno.matrix(train)"
   ]
  },
  {
   "cell_type": "markdown",
   "metadata": {},
   "source": [
    "### 데이터 확인"
   ]
  },
  {
   "cell_type": "code",
   "execution_count": 9,
   "metadata": {},
   "outputs": [
    {
     "data": {
      "text/plain": [
       "Private             18123\n",
       "Self-emp-not-inc     2030\n",
       "Local-gov            1692\n",
       "?                    1502\n",
       "State-gov            1043\n",
       "Self-emp-inc          877\n",
       "Federal-gov           765\n",
       "Without-pay            11\n",
       "Never-worked            6\n",
       "Name: workclass, dtype: int64"
      ]
     },
     "execution_count": 9,
     "metadata": {},
     "output_type": "execute_result"
    }
   ],
   "source": [
    "train['workclass'].value_counts()"
   ]
  },
  {
   "cell_type": "code",
   "execution_count": 10,
   "metadata": {},
   "outputs": [
    {
     "data": {
      "text/plain": [
       "<matplotlib.axes._subplots.AxesSubplot at 0x2220da1cca0>"
      ]
     },
     "execution_count": 10,
     "metadata": {},
     "output_type": "execute_result"
    },
    {
     "data": {
      "image/png": "[encoded data removed]",
      "text/plain": [
       "<Figure size 432x288 with 1 Axes>"
      ]
     },
     "metadata": {
      "needs_background": "light"
     },
     "output_type": "display_data"
    }
   ],
   "source": [
    "sns.countplot(data=train , x='workclass')"
   ]
  },
  {
   "cell_type": "code",
   "execution_count": 19,
   "metadata": {},
   "outputs": [
    {
     "data": {
      "image/png": "[encoded data removed]",
      "text/plain": [
       "<Figure size 864x360 with 1 Axes>"
      ]
     },
     "metadata": {
      "needs_background": "light"
     },
     "output_type": "display_data"
    }
   ],
   "source": [
    "flg,ax = plt.subplots(1,1,figsize=(12,5))\n",
    "sns.countplot(data=train,x='workclass',ax=ax)\n",
    "plt.show()"
   ]
  },
  {
   "cell_type": "code",
   "execution_count": 20,
   "metadata": {},
   "outputs": [
    {
     "data": {
      "image/png": "[encoded data removed]",
      "text/plain": [
       "<Figure size 864x360 with 1 Axes>"
      ]
     },
     "metadata": {
      "needs_background": "light"
     },
     "output_type": "display_data"
    }
   ],
   "source": [
    "flg,ax = plt.subplots(1,1,figsize=(12,5))\n",
    "sns.countplot(data=train,x='race',ax=ax,hue='sex')\n",
    "plt.show()"
   ]
  },
  {
   "cell_type": "code",
   "execution_count": 21,
   "metadata": {},
   "outputs": [
    {
     "data": {
      "text/html": [
       "<div>\n",
       "<style scoped>\n",
       "    .dataframe tbody tr th:only-of-type {\n",
       "        vertical-align: middle;\n",
       "    }\n",
       "\n",
       "    .dataframe tbody tr th {\n",
       "        vertical-align: top;\n",
       "    }\n",
       "\n",
       "    .dataframe thead th {\n",
       "        text-align: right;\n",
       "    }\n",
       "</style>\n",
       "<table border=\"1\" class=\"dataframe\">\n",
       "  <thead>\n",
       "    <tr style=\"text-align: right;\">\n",
       "      <th></th>\n",
       "      <th>id</th>\n",
       "      <th>age</th>\n",
       "      <th>fnlwgt</th>\n",
       "      <th>education_num</th>\n",
       "      <th>capital_gain</th>\n",
       "      <th>capital_loss</th>\n",
       "      <th>hours_per_week</th>\n",
       "    </tr>\n",
       "  </thead>\n",
       "  <tbody>\n",
       "    <tr>\n",
       "      <th>count</th>\n",
       "      <td>26049.000000</td>\n",
       "      <td>26049.000000</td>\n",
       "      <td>2.604900e+04</td>\n",
       "      <td>26049.000000</td>\n",
       "      <td>26049.00000</td>\n",
       "      <td>26049.000000</td>\n",
       "      <td>26049.000000</td>\n",
       "    </tr>\n",
       "    <tr>\n",
       "      <th>mean</th>\n",
       "      <td>13024.000000</td>\n",
       "      <td>38.569235</td>\n",
       "      <td>1.903045e+05</td>\n",
       "      <td>10.088372</td>\n",
       "      <td>1087.68970</td>\n",
       "      <td>87.732734</td>\n",
       "      <td>40.443126</td>\n",
       "    </tr>\n",
       "    <tr>\n",
       "      <th>std</th>\n",
       "      <td>7519.842917</td>\n",
       "      <td>13.671489</td>\n",
       "      <td>1.059663e+05</td>\n",
       "      <td>2.567610</td>\n",
       "      <td>7388.85469</td>\n",
       "      <td>403.230205</td>\n",
       "      <td>12.361850</td>\n",
       "    </tr>\n",
       "    <tr>\n",
       "      <th>min</th>\n",
       "      <td>0.000000</td>\n",
       "      <td>17.000000</td>\n",
       "      <td>1.376900e+04</td>\n",
       "      <td>1.000000</td>\n",
       "      <td>0.00000</td>\n",
       "      <td>0.000000</td>\n",
       "      <td>1.000000</td>\n",
       "    </tr>\n",
       "    <tr>\n",
       "      <th>25%</th>\n",
       "      <td>6512.000000</td>\n",
       "      <td>28.000000</td>\n",
       "      <td>1.181080e+05</td>\n",
       "      <td>9.000000</td>\n",
       "      <td>0.00000</td>\n",
       "      <td>0.000000</td>\n",
       "      <td>40.000000</td>\n",
       "    </tr>\n",
       "    <tr>\n",
       "      <th>50%</th>\n",
       "      <td>13024.000000</td>\n",
       "      <td>37.000000</td>\n",
       "      <td>1.788660e+05</td>\n",
       "      <td>10.000000</td>\n",
       "      <td>0.00000</td>\n",
       "      <td>0.000000</td>\n",
       "      <td>40.000000</td>\n",
       "    </tr>\n",
       "    <tr>\n",
       "      <th>75%</th>\n",
       "      <td>19536.000000</td>\n",
       "      <td>48.000000</td>\n",
       "      <td>2.377350e+05</td>\n",
       "      <td>12.000000</td>\n",
       "      <td>0.00000</td>\n",
       "      <td>0.000000</td>\n",
       "      <td>45.000000</td>\n",
       "    </tr>\n",
       "    <tr>\n",
       "      <th>max</th>\n",
       "      <td>26048.000000</td>\n",
       "      <td>90.000000</td>\n",
       "      <td>1.484705e+06</td>\n",
       "      <td>16.000000</td>\n",
       "      <td>99999.00000</td>\n",
       "      <td>4356.000000</td>\n",
       "      <td>99.000000</td>\n",
       "    </tr>\n",
       "  </tbody>\n",
       "</table>\n",
       "</div>"
      ],
      "text/plain": [
       "                 id           age        fnlwgt  education_num  capital_gain  \\\n",
       "count  26049.000000  26049.000000  2.604900e+04   26049.000000   26049.00000   \n",
       "mean   13024.000000     38.569235  1.903045e+05      10.088372    1087.68970   \n",
       "std     7519.842917     13.671489  1.059663e+05       2.567610    7388.85469   \n",
       "min        0.000000     17.000000  1.376900e+04       1.000000       0.00000   \n",
       "25%     6512.000000     28.000000  1.181080e+05       9.000000       0.00000   \n",
       "50%    13024.000000     37.000000  1.788660e+05      10.000000       0.00000   \n",
       "75%    19536.000000     48.000000  2.377350e+05      12.000000       0.00000   \n",
       "max    26048.000000     90.000000  1.484705e+06      16.000000   99999.00000   \n",
       "\n",
       "       capital_loss  hours_per_week  \n",
       "count  26049.000000    26049.000000  \n",
       "mean      87.732734       40.443126  \n",
       "std      403.230205       12.361850  \n",
       "min        0.000000        1.000000  \n",
       "25%        0.000000       40.000000  \n",
       "50%        0.000000       40.000000  \n",
       "75%        0.000000       45.000000  \n",
       "max     4356.000000       99.000000  "
      ]
     },
     "execution_count": 21,
     "metadata": {},
     "output_type": "execute_result"
    }
   ],
   "source": [
    "train.describe()"
   ]
  },
  {
   "cell_type": "code",
   "execution_count": 26,
   "metadata": {},
   "outputs": [
    {
     "data": {
      "image/png": "[encoded data removed]",
      "text/plain": [
       "<Figure size 864x360 with 1 Axes>"
      ]
     },
     "metadata": {
      "needs_background": "light"
     },
     "output_type": "display_data"
    }
   ],
   "source": [
    "#나이의 분포 확인\n",
    "fig, ax = plt.subplots(1,1,figsize=(12,5))\n",
    "ax.hist(train['age'], width=5, edgecolor='black')\n",
    "ax.set_title('Age distribution')\n",
    "plt.show()"
   ]
  },
  {
   "cell_type": "code",
   "execution_count": 32,
   "metadata": {},
   "outputs": [
    {
     "data": {
      "text/plain": [
       "<matplotlib.axes._subplots.AxesSubplot at 0x22212ae4be0>"
      ]
     },
     "execution_count": 32,
     "metadata": {},
     "output_type": "execute_result"
    },
    {
     "data": {
      "image/png": "[encoded data removed]",
      "text/plain": [
       "<Figure size 432x288 with 1 Axes>"
      ]
     },
     "metadata": {
      "needs_background": "light"
     },
     "output_type": "display_data"
    }
   ],
   "source": [
    "#sns.distplot()\n",
    "sns.kdeplot(data=train['age'])"
   ]
  },
  {
   "cell_type": "code",
   "execution_count": 58,
   "metadata": {},
   "outputs": [],
   "source": [
    "#income 을 0과 1로 분류하기\n",
    "train['income'] = (train['income'] == '>50K').astype(int)"
   ]
  },
  {
   "cell_type": "code",
   "execution_count": 59,
   "metadata": {},
   "outputs": [
    {
     "data": {
      "text/plain": [
       "0        1\n",
       "1        0\n",
       "2        0\n",
       "3        0\n",
       "4        0\n",
       "        ..\n",
       "26044    0\n",
       "26045    0\n",
       "26046    0\n",
       "26047    0\n",
       "26048    0\n",
       "Name: income, Length: 26049, dtype: int32"
      ]
     },
     "execution_count": 59,
     "metadata": {},
     "output_type": "execute_result"
    }
   ],
   "source": [
    "train['income']"
   ]
  },
  {
   "cell_type": "code",
   "execution_count": 60,
   "metadata": {},
   "outputs": [
    {
     "data": {
      "text/html": [
       "<div>\n",
       "<style scoped>\n",
       "    .dataframe tbody tr th:only-of-type {\n",
       "        vertical-align: middle;\n",
       "    }\n",
       "\n",
       "    .dataframe tbody tr th {\n",
       "        vertical-align: top;\n",
       "    }\n",
       "\n",
       "    .dataframe thead th {\n",
       "        text-align: right;\n",
       "    }\n",
       "</style>\n",
       "<table border=\"1\" class=\"dataframe\">\n",
       "  <thead>\n",
       "    <tr style=\"text-align: right;\">\n",
       "      <th></th>\n",
       "      <th></th>\n",
       "      <th>id</th>\n",
       "      <th>age</th>\n",
       "      <th>fnlwgt</th>\n",
       "      <th>education_num</th>\n",
       "      <th>capital_gain</th>\n",
       "      <th>capital_loss</th>\n",
       "      <th>hours_per_week</th>\n",
       "      <th>income</th>\n",
       "    </tr>\n",
       "    <tr>\n",
       "      <th>race</th>\n",
       "      <th>sex</th>\n",
       "      <th></th>\n",
       "      <th></th>\n",
       "      <th></th>\n",
       "      <th></th>\n",
       "      <th></th>\n",
       "      <th></th>\n",
       "      <th></th>\n",
       "      <th></th>\n",
       "    </tr>\n",
       "  </thead>\n",
       "  <tbody>\n",
       "    <tr>\n",
       "      <th rowspan=\"2\" valign=\"top\">Amer-Indian-Eskimo</th>\n",
       "      <th>Female</th>\n",
       "      <td>12309.681818</td>\n",
       "      <td>37.454545</td>\n",
       "      <td>117238.954545</td>\n",
       "      <td>9.761364</td>\n",
       "      <td>646.636364</td>\n",
       "      <td>19.556818</td>\n",
       "      <td>36.204545</td>\n",
       "      <td>0.102273</td>\n",
       "    </tr>\n",
       "    <tr>\n",
       "      <th>Male</th>\n",
       "      <td>12441.331325</td>\n",
       "      <td>36.915663</td>\n",
       "      <td>125551.475904</td>\n",
       "      <td>9.090361</td>\n",
       "      <td>649.596386</td>\n",
       "      <td>53.662651</td>\n",
       "      <td>41.837349</td>\n",
       "      <td>0.120482</td>\n",
       "    </tr>\n",
       "    <tr>\n",
       "      <th rowspan=\"2\" valign=\"top\">Asian-Pac-Islander</th>\n",
       "      <th>Female</th>\n",
       "      <td>14562.177778</td>\n",
       "      <td>35.181481</td>\n",
       "      <td>146863.433333</td>\n",
       "      <td>10.325926</td>\n",
       "      <td>584.325926</td>\n",
       "      <td>61.122222</td>\n",
       "      <td>37.407407</td>\n",
       "      <td>0.125926</td>\n",
       "    </tr>\n",
       "    <tr>\n",
       "      <th>Male</th>\n",
       "      <td>12538.909434</td>\n",
       "      <td>38.884906</td>\n",
       "      <td>166262.398113</td>\n",
       "      <td>11.233962</td>\n",
       "      <td>2026.226415</td>\n",
       "      <td>135.403774</td>\n",
       "      <td>42.037736</td>\n",
       "      <td>0.341509</td>\n",
       "    </tr>\n",
       "    <tr>\n",
       "      <th rowspan=\"2\" valign=\"top\">Black</th>\n",
       "      <th>Female</th>\n",
       "      <td>12575.603774</td>\n",
       "      <td>37.939295</td>\n",
       "      <td>216797.705496</td>\n",
       "      <td>9.525021</td>\n",
       "      <td>487.988515</td>\n",
       "      <td>40.462674</td>\n",
       "      <td>36.796555</td>\n",
       "      <td>0.051682</td>\n",
       "    </tr>\n",
       "    <tr>\n",
       "      <th>Male</th>\n",
       "      <td>13192.518695</td>\n",
       "      <td>37.884646</td>\n",
       "      <td>243795.577566</td>\n",
       "      <td>9.482896</td>\n",
       "      <td>579.319809</td>\n",
       "      <td>76.113763</td>\n",
       "      <td>39.976134</td>\n",
       "      <td>0.190135</td>\n",
       "    </tr>\n",
       "    <tr>\n",
       "      <th rowspan=\"2\" valign=\"top\">Other</th>\n",
       "      <th>Female</th>\n",
       "      <td>13165.047059</td>\n",
       "      <td>31.435294</td>\n",
       "      <td>173440.082353</td>\n",
       "      <td>8.941176</td>\n",
       "      <td>236.129412</td>\n",
       "      <td>39.176471</td>\n",
       "      <td>36.670588</td>\n",
       "      <td>0.047059</td>\n",
       "    </tr>\n",
       "    <tr>\n",
       "      <th>Male</th>\n",
       "      <td>11760.907563</td>\n",
       "      <td>34.789916</td>\n",
       "      <td>220238.193277</td>\n",
       "      <td>8.907563</td>\n",
       "      <td>1799.764706</td>\n",
       "      <td>87.529412</td>\n",
       "      <td>41.403361</td>\n",
       "      <td>0.117647</td>\n",
       "    </tr>\n",
       "    <tr>\n",
       "      <th rowspan=\"2\" valign=\"top\">White</th>\n",
       "      <th>Female</th>\n",
       "      <td>13036.291238</td>\n",
       "      <td>36.844026</td>\n",
       "      <td>184007.053584</td>\n",
       "      <td>10.127589</td>\n",
       "      <td>580.929761</td>\n",
       "      <td>63.601738</td>\n",
       "      <td>36.209269</td>\n",
       "      <td>0.122085</td>\n",
       "    </tr>\n",
       "    <tr>\n",
       "      <th>Male</th>\n",
       "      <td>13049.281506</td>\n",
       "      <td>39.589163</td>\n",
       "      <td>189231.912524</td>\n",
       "      <td>10.149254</td>\n",
       "      <td>1386.644906</td>\n",
       "      <td>103.084945</td>\n",
       "      <td>42.687735</td>\n",
       "      <td>0.317846</td>\n",
       "    </tr>\n",
       "  </tbody>\n",
       "</table>\n",
       "</div>"
      ],
      "text/plain": [
       "                                     id        age         fnlwgt  \\\n",
       "race               sex                                              \n",
       "Amer-Indian-Eskimo Female  12309.681818  37.454545  117238.954545   \n",
       "                   Male    12441.331325  36.915663  125551.475904   \n",
       "Asian-Pac-Islander Female  14562.177778  35.181481  146863.433333   \n",
       "                   Male    12538.909434  38.884906  166262.398113   \n",
       "Black              Female  12575.603774  37.939295  216797.705496   \n",
       "                   Male    13192.518695  37.884646  243795.577566   \n",
       "Other              Female  13165.047059  31.435294  173440.082353   \n",
       "                   Male    11760.907563  34.789916  220238.193277   \n",
       "White              Female  13036.291238  36.844026  184007.053584   \n",
       "                   Male    13049.281506  39.589163  189231.912524   \n",
       "\n",
       "                           education_num  capital_gain  capital_loss  \\\n",
       "race               sex                                                 \n",
       "Amer-Indian-Eskimo Female       9.761364    646.636364     19.556818   \n",
       "                   Male         9.090361    649.596386     53.662651   \n",
       "Asian-Pac-Islander Female      10.325926    584.325926     61.122222   \n",
       "                   Male        11.233962   2026.226415    135.403774   \n",
       "Black              Female       9.525021    487.988515     40.462674   \n",
       "                   Male         9.482896    579.319809     76.113763   \n",
       "Other              Female       8.941176    236.129412     39.176471   \n",
       "                   Male         8.907563   1799.764706     87.529412   \n",
       "White              Female      10.127589    580.929761     63.601738   \n",
       "                   Male        10.149254   1386.644906    103.084945   \n",
       "\n",
       "                           hours_per_week    income  \n",
       "race               sex                               \n",
       "Amer-Indian-Eskimo Female       36.204545  0.102273  \n",
       "                   Male         41.837349  0.120482  \n",
       "Asian-Pac-Islander Female       37.407407  0.125926  \n",
       "                   Male         42.037736  0.341509  \n",
       "Black              Female       36.796555  0.051682  \n",
       "                   Male         39.976134  0.190135  \n",
       "Other              Female       36.670588  0.047059  \n",
       "                   Male         41.403361  0.117647  \n",
       "White              Female       36.209269  0.122085  \n",
       "                   Male         42.687735  0.317846  "
      ]
     },
     "execution_count": 60,
     "metadata": {},
     "output_type": "execute_result"
    }
   ],
   "source": [
    "train.groupby(['race','sex']).mean()"
   ]
  },
  {
   "cell_type": "code",
   "execution_count": 70,
   "metadata": {},
   "outputs": [
    {
     "data": {
      "text/html": [
       "<style  type=\"text/css\" >\n",
       "    #T_2a8778dc_1cad_11eb_89e7_988389a1c254row0_col0 {\n",
       "            background-color:  #779af7;\n",
       "            color:  #000000;\n",
       "        }    #T_2a8778dc_1cad_11eb_89e7_988389a1c254row1_col0 {\n",
       "            background-color:  #8caffe;\n",
       "            color:  #000000;\n",
       "        }    #T_2a8778dc_1cad_11eb_89e7_988389a1c254row2_col0 {\n",
       "            background-color:  #93b5fe;\n",
       "            color:  #000000;\n",
       "        }    #T_2a8778dc_1cad_11eb_89e7_988389a1c254row3_col0 {\n",
       "            background-color:  #b40426;\n",
       "            color:  #f1f1f1;\n",
       "        }    #T_2a8778dc_1cad_11eb_89e7_988389a1c254row4_col0 {\n",
       "            background-color:  #3f53c6;\n",
       "            color:  #f1f1f1;\n",
       "        }    #T_2a8778dc_1cad_11eb_89e7_988389a1c254row5_col0 {\n",
       "            background-color:  #d9dce1;\n",
       "            color:  #000000;\n",
       "        }    #T_2a8778dc_1cad_11eb_89e7_988389a1c254row6_col0 {\n",
       "            background-color:  #3b4cc0;\n",
       "            color:  #f1f1f1;\n",
       "        }    #T_2a8778dc_1cad_11eb_89e7_988389a1c254row7_col0 {\n",
       "            background-color:  #89acfd;\n",
       "            color:  #000000;\n",
       "        }    #T_2a8778dc_1cad_11eb_89e7_988389a1c254row8_col0 {\n",
       "            background-color:  #8fb1fe;\n",
       "            color:  #000000;\n",
       "        }    #T_2a8778dc_1cad_11eb_89e7_988389a1c254row9_col0 {\n",
       "            background-color:  #d0473d;\n",
       "            color:  #f1f1f1;\n",
       "        }</style><table id=\"T_2a8778dc_1cad_11eb_89e7_988389a1c254\" ><thead>    <tr>        <th class=\"blank\" ></th>        <th class=\"blank level0\" ></th>        <th class=\"col_heading level0 col0\" >income</th>    </tr>    <tr>        <th class=\"index_name level0\" >race</th>        <th class=\"index_name level1\" >sex</th>        <th class=\"blank\" ></th>    </tr></thead><tbody>\n",
       "                <tr>\n",
       "                        <th id=\"T_2a8778dc_1cad_11eb_89e7_988389a1c254level0_row0\" class=\"row_heading level0 row0\" rowspan=2>Amer-Indian-Eskimo</th>\n",
       "                        <th id=\"T_2a8778dc_1cad_11eb_89e7_988389a1c254level1_row0\" class=\"row_heading level1 row0\" >Female</th>\n",
       "                        <td id=\"T_2a8778dc_1cad_11eb_89e7_988389a1c254row0_col0\" class=\"data row0 col0\" >0.102273</td>\n",
       "            </tr>\n",
       "            <tr>\n",
       "                                <th id=\"T_2a8778dc_1cad_11eb_89e7_988389a1c254level1_row1\" class=\"row_heading level1 row1\" >Male</th>\n",
       "                        <td id=\"T_2a8778dc_1cad_11eb_89e7_988389a1c254row1_col0\" class=\"data row1 col0\" >0.120482</td>\n",
       "            </tr>\n",
       "            <tr>\n",
       "                        <th id=\"T_2a8778dc_1cad_11eb_89e7_988389a1c254level0_row2\" class=\"row_heading level0 row2\" rowspan=2>Asian-Pac-Islander</th>\n",
       "                        <th id=\"T_2a8778dc_1cad_11eb_89e7_988389a1c254level1_row2\" class=\"row_heading level1 row2\" >Female</th>\n",
       "                        <td id=\"T_2a8778dc_1cad_11eb_89e7_988389a1c254row2_col0\" class=\"data row2 col0\" >0.125926</td>\n",
       "            </tr>\n",
       "            <tr>\n",
       "                                <th id=\"T_2a8778dc_1cad_11eb_89e7_988389a1c254level1_row3\" class=\"row_heading level1 row3\" >Male</th>\n",
       "                        <td id=\"T_2a8778dc_1cad_11eb_89e7_988389a1c254row3_col0\" class=\"data row3 col0\" >0.341509</td>\n",
       "            </tr>\n",
       "            <tr>\n",
       "                        <th id=\"T_2a8778dc_1cad_11eb_89e7_988389a1c254level0_row4\" class=\"row_heading level0 row4\" rowspan=2>Black</th>\n",
       "                        <th id=\"T_2a8778dc_1cad_11eb_89e7_988389a1c254level1_row4\" class=\"row_heading level1 row4\" >Female</th>\n",
       "                        <td id=\"T_2a8778dc_1cad_11eb_89e7_988389a1c254row4_col0\" class=\"data row4 col0\" >0.051682</td>\n",
       "            </tr>\n",
       "            <tr>\n",
       "                                <th id=\"T_2a8778dc_1cad_11eb_89e7_988389a1c254level1_row5\" class=\"row_heading level1 row5\" >Male</th>\n",
       "                        <td id=\"T_2a8778dc_1cad_11eb_89e7_988389a1c254row5_col0\" class=\"data row5 col0\" >0.190135</td>\n",
       "            </tr>\n",
       "            <tr>\n",
       "                        <th id=\"T_2a8778dc_1cad_11eb_89e7_988389a1c254level0_row6\" class=\"row_heading level0 row6\" rowspan=2>Other</th>\n",
       "                        <th id=\"T_2a8778dc_1cad_11eb_89e7_988389a1c254level1_row6\" class=\"row_heading level1 row6\" >Female</th>\n",
       "                        <td id=\"T_2a8778dc_1cad_11eb_89e7_988389a1c254row6_col0\" class=\"data row6 col0\" >0.047059</td>\n",
       "            </tr>\n",
       "            <tr>\n",
       "                                <th id=\"T_2a8778dc_1cad_11eb_89e7_988389a1c254level1_row7\" class=\"row_heading level1 row7\" >Male</th>\n",
       "                        <td id=\"T_2a8778dc_1cad_11eb_89e7_988389a1c254row7_col0\" class=\"data row7 col0\" >0.117647</td>\n",
       "            </tr>\n",
       "            <tr>\n",
       "                        <th id=\"T_2a8778dc_1cad_11eb_89e7_988389a1c254level0_row8\" class=\"row_heading level0 row8\" rowspan=2>White</th>\n",
       "                        <th id=\"T_2a8778dc_1cad_11eb_89e7_988389a1c254level1_row8\" class=\"row_heading level1 row8\" >Female</th>\n",
       "                        <td id=\"T_2a8778dc_1cad_11eb_89e7_988389a1c254row8_col0\" class=\"data row8 col0\" >0.122085</td>\n",
       "            </tr>\n",
       "            <tr>\n",
       "                                <th id=\"T_2a8778dc_1cad_11eb_89e7_988389a1c254level1_row9\" class=\"row_heading level1 row9\" >Male</th>\n",
       "                        <td id=\"T_2a8778dc_1cad_11eb_89e7_988389a1c254row9_col0\" class=\"data row9 col0\" >0.317846</td>\n",
       "            </tr>\n",
       "    </tbody></table>"
      ],
      "text/plain": [
       "<pandas.io.formats.style.Styler at 0x2220e76ddf0>"
      ]
     },
     "execution_count": 70,
     "metadata": {},
     "output_type": "execute_result"
    }
   ],
   "source": [
    "train.groupby(['race','sex'])[['income']].mean().style.background_gradient(cmap='coolwarm')"
   ]
  },
  {
   "cell_type": "code",
   "execution_count": 75,
   "metadata": {},
   "outputs": [
    {
     "data": {
      "text/plain": [
       "<matplotlib.axes._subplots.AxesSubplot at 0x22211cb09a0>"
      ]
     },
     "execution_count": 75,
     "metadata": {},
     "output_type": "execute_result"
    },
    {
     "data": {
      "image/png": "[encoded data removed]",
      "text/plain": [
       "<Figure size 720x432 with 1 Axes>"
      ]
     },
     "metadata": {
      "needs_background": "light"
     },
     "output_type": "display_data"
    }
   ],
   "source": [
    "flg, ax = plt.subplots(1,1,figsize=(10,6))\n",
    "sns.boxplot(data=train, x='race',y='age',hue='sex')"
   ]
  },
  {
   "cell_type": "code",
   "execution_count": 76,
   "metadata": {},
   "outputs": [],
   "source": [
    "corr = train.corr()"
   ]
  },
  {
   "cell_type": "code",
   "execution_count": 82,
   "metadata": {},
   "outputs": [
    {
     "data": {
      "text/plain": [
       "<matplotlib.axes._subplots.AxesSubplot at 0x2221004d7c0>"
      ]
     },
     "execution_count": 82,
     "metadata": {},
     "output_type": "execute_result"
    },
    {
     "data": {
      "image/png": "[encoded data removed]",
      "text/plain": [
       "<Figure size 432x288 with 2 Axes>"
      ]
     },
     "metadata": {
      "needs_background": "light"
     },
     "output_type": "display_data"
    }
   ],
   "source": [
    "sns.heatmap(corr,square=True , linecolor='white',linewidths=0.7,cmap = 'coolwarm'\n",
    "           ,vmax = 1.0 , vmin= -1.0)"
   ]
  },
  {
   "cell_type": "code",
   "execution_count": null,
   "metadata": {},
   "outputs": [],
   "source": []
  }
 ],
 "metadata": {
  "kernelspec": {
   "display_name": "Python 3",
   "language": "python",
   "name": "python3"
  },
  "language_info": {
   "codemirror_mode": {
    "name": "ipython",
    "version": 3
   },
   "file_extension": ".py",
   "mimetype": "text/x-python",
   "name": "python",
   "nbconvert_exporter": "python",
   "pygments_lexer": "ipython3",
   "version": "3.7.6"
  }
 },
 "nbformat": 4,
 "nbformat_minor": 4
}
