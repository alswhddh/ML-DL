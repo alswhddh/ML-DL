{
 "cells": [
  {
   "cell_type": "code",
   "execution_count": 43,
   "metadata": {},
   "outputs": [],
   "source": [
    "import numpy as np\n",
    "import pandas as pd\n",
    "\n",
    "import matplotlib.pyplot as plt\n",
    "\n",
    "import warnings\n",
    "warnings.filterwarnings(action=\"ignore\")"
   ]
  },
  {
   "cell_type": "code",
   "execution_count": 44,
   "metadata": {},
   "outputs": [],
   "source": [
    "# 데이터 불러오기\n",
    "train = pd.read_csv(\"./kaggle/train.csv\")\n",
    "label = train['income']\n",
    "\n",
    "del train['income']\n",
    "\n",
    "test = pd.read_csv(\"./kaggle/test.csv\")"
   ]
  },
  {
   "cell_type": "code",
   "execution_count": 45,
   "metadata": {},
   "outputs": [],
   "source": [
    "# 라벨값 인코딩 현재 50 이상 50미만 기호로 되어있음 0과 1로 변환\n",
    "label = label.map(lambda x: 1 if x == '>50K' else 0)"
   ]
  },
  {
   "cell_type": "code",
   "execution_count": 46,
   "metadata": {},
   "outputs": [],
   "source": [
    "#필요없는 컬럼 삭제\n",
    "del train['id']\n",
    "del test['id']"
   ]
  },
  {
   "cell_type": "code",
   "execution_count": 47,
   "metadata": {},
   "outputs": [],
   "source": [
    "#원본데이터는 보존\n",
    "tmp_train = train.copy()\n",
    "tmp_test = test.copy()"
   ]
  },
  {
   "cell_type": "code",
   "execution_count": 48,
   "metadata": {},
   "outputs": [
    {
     "data": {
      "text/html": [
       "<div>\n",
       "<style scoped>\n",
       "    .dataframe tbody tr th:only-of-type {\n",
       "        vertical-align: middle;\n",
       "    }\n",
       "\n",
       "    .dataframe tbody tr th {\n",
       "        vertical-align: top;\n",
       "    }\n",
       "\n",
       "    .dataframe thead th {\n",
       "        text-align: right;\n",
       "    }\n",
       "</style>\n",
       "<table border=\"1\" class=\"dataframe\">\n",
       "  <thead>\n",
       "    <tr style=\"text-align: right;\">\n",
       "      <th></th>\n",
       "      <th>age</th>\n",
       "      <th>workclass</th>\n",
       "      <th>fnlwgt</th>\n",
       "      <th>education</th>\n",
       "      <th>education_num</th>\n",
       "      <th>marital_status</th>\n",
       "      <th>occupation</th>\n",
       "      <th>relationship</th>\n",
       "      <th>race</th>\n",
       "      <th>sex</th>\n",
       "      <th>capital_gain</th>\n",
       "      <th>capital_loss</th>\n",
       "      <th>hours_per_week</th>\n",
       "      <th>native_country</th>\n",
       "    </tr>\n",
       "  </thead>\n",
       "  <tbody>\n",
       "    <tr>\n",
       "      <th>6378</th>\n",
       "      <td>32</td>\n",
       "      <td>Private</td>\n",
       "      <td>177675</td>\n",
       "      <td>HS-grad</td>\n",
       "      <td>9</td>\n",
       "      <td>Never-married</td>\n",
       "      <td>Craft-repair</td>\n",
       "      <td>Own-child</td>\n",
       "      <td>White</td>\n",
       "      <td>Male</td>\n",
       "      <td>0</td>\n",
       "      <td>0</td>\n",
       "      <td>40</td>\n",
       "      <td>United-States</td>\n",
       "    </tr>\n",
       "    <tr>\n",
       "      <th>16583</th>\n",
       "      <td>49</td>\n",
       "      <td>Private</td>\n",
       "      <td>40666</td>\n",
       "      <td>Some-college</td>\n",
       "      <td>10</td>\n",
       "      <td>Married-civ-spouse</td>\n",
       "      <td>Farming-fishing</td>\n",
       "      <td>Husband</td>\n",
       "      <td>White</td>\n",
       "      <td>Male</td>\n",
       "      <td>0</td>\n",
       "      <td>0</td>\n",
       "      <td>50</td>\n",
       "      <td>United-States</td>\n",
       "    </tr>\n",
       "    <tr>\n",
       "      <th>10591</th>\n",
       "      <td>24</td>\n",
       "      <td>Private</td>\n",
       "      <td>92609</td>\n",
       "      <td>Bachelors</td>\n",
       "      <td>13</td>\n",
       "      <td>Never-married</td>\n",
       "      <td>Exec-managerial</td>\n",
       "      <td>Own-child</td>\n",
       "      <td>White</td>\n",
       "      <td>Male</td>\n",
       "      <td>0</td>\n",
       "      <td>0</td>\n",
       "      <td>45</td>\n",
       "      <td>United-States</td>\n",
       "    </tr>\n",
       "    <tr>\n",
       "      <th>21539</th>\n",
       "      <td>22</td>\n",
       "      <td>?</td>\n",
       "      <td>210802</td>\n",
       "      <td>Some-college</td>\n",
       "      <td>10</td>\n",
       "      <td>Never-married</td>\n",
       "      <td>?</td>\n",
       "      <td>Not-in-family</td>\n",
       "      <td>Black</td>\n",
       "      <td>Female</td>\n",
       "      <td>0</td>\n",
       "      <td>0</td>\n",
       "      <td>35</td>\n",
       "      <td>United-States</td>\n",
       "    </tr>\n",
       "    <tr>\n",
       "      <th>18666</th>\n",
       "      <td>58</td>\n",
       "      <td>Federal-gov</td>\n",
       "      <td>129786</td>\n",
       "      <td>10th</td>\n",
       "      <td>6</td>\n",
       "      <td>Married-civ-spouse</td>\n",
       "      <td>Craft-repair</td>\n",
       "      <td>Husband</td>\n",
       "      <td>White</td>\n",
       "      <td>Male</td>\n",
       "      <td>0</td>\n",
       "      <td>0</td>\n",
       "      <td>40</td>\n",
       "      <td>United-States</td>\n",
       "    </tr>\n",
       "    <tr>\n",
       "      <th>...</th>\n",
       "      <td>...</td>\n",
       "      <td>...</td>\n",
       "      <td>...</td>\n",
       "      <td>...</td>\n",
       "      <td>...</td>\n",
       "      <td>...</td>\n",
       "      <td>...</td>\n",
       "      <td>...</td>\n",
       "      <td>...</td>\n",
       "      <td>...</td>\n",
       "      <td>...</td>\n",
       "      <td>...</td>\n",
       "      <td>...</td>\n",
       "      <td>...</td>\n",
       "    </tr>\n",
       "    <tr>\n",
       "      <th>16354</th>\n",
       "      <td>34</td>\n",
       "      <td>Private</td>\n",
       "      <td>40067</td>\n",
       "      <td>Some-college</td>\n",
       "      <td>10</td>\n",
       "      <td>Married-civ-spouse</td>\n",
       "      <td>Craft-repair</td>\n",
       "      <td>Husband</td>\n",
       "      <td>White</td>\n",
       "      <td>Male</td>\n",
       "      <td>0</td>\n",
       "      <td>0</td>\n",
       "      <td>40</td>\n",
       "      <td>United-States</td>\n",
       "    </tr>\n",
       "    <tr>\n",
       "      <th>14182</th>\n",
       "      <td>41</td>\n",
       "      <td>Private</td>\n",
       "      <td>43945</td>\n",
       "      <td>7th-8th</td>\n",
       "      <td>4</td>\n",
       "      <td>Married-civ-spouse</td>\n",
       "      <td>Craft-repair</td>\n",
       "      <td>Husband</td>\n",
       "      <td>White</td>\n",
       "      <td>Male</td>\n",
       "      <td>0</td>\n",
       "      <td>0</td>\n",
       "      <td>40</td>\n",
       "      <td>?</td>\n",
       "    </tr>\n",
       "    <tr>\n",
       "      <th>16222</th>\n",
       "      <td>40</td>\n",
       "      <td>Private</td>\n",
       "      <td>241895</td>\n",
       "      <td>Some-college</td>\n",
       "      <td>10</td>\n",
       "      <td>Married-civ-spouse</td>\n",
       "      <td>Adm-clerical</td>\n",
       "      <td>Husband</td>\n",
       "      <td>White</td>\n",
       "      <td>Male</td>\n",
       "      <td>0</td>\n",
       "      <td>0</td>\n",
       "      <td>40</td>\n",
       "      <td>United-States</td>\n",
       "    </tr>\n",
       "    <tr>\n",
       "      <th>22703</th>\n",
       "      <td>29</td>\n",
       "      <td>Private</td>\n",
       "      <td>320451</td>\n",
       "      <td>HS-grad</td>\n",
       "      <td>9</td>\n",
       "      <td>Never-married</td>\n",
       "      <td>Protective-serv</td>\n",
       "      <td>Not-in-family</td>\n",
       "      <td>Asian-Pac-Islander</td>\n",
       "      <td>Male</td>\n",
       "      <td>0</td>\n",
       "      <td>0</td>\n",
       "      <td>40</td>\n",
       "      <td>Philippines</td>\n",
       "    </tr>\n",
       "    <tr>\n",
       "      <th>6484</th>\n",
       "      <td>50</td>\n",
       "      <td>Local-gov</td>\n",
       "      <td>100480</td>\n",
       "      <td>Masters</td>\n",
       "      <td>14</td>\n",
       "      <td>Married-civ-spouse</td>\n",
       "      <td>Exec-managerial</td>\n",
       "      <td>Husband</td>\n",
       "      <td>White</td>\n",
       "      <td>Male</td>\n",
       "      <td>0</td>\n",
       "      <td>0</td>\n",
       "      <td>60</td>\n",
       "      <td>United-States</td>\n",
       "    </tr>\n",
       "  </tbody>\n",
       "</table>\n",
       "<p>200 rows × 14 columns</p>\n",
       "</div>"
      ],
      "text/plain": [
       "       age    workclass  fnlwgt     education  education_num  \\\n",
       "6378    32      Private  177675       HS-grad              9   \n",
       "16583   49      Private   40666  Some-college             10   \n",
       "10591   24      Private   92609     Bachelors             13   \n",
       "21539   22            ?  210802  Some-college             10   \n",
       "18666   58  Federal-gov  129786          10th              6   \n",
       "...    ...          ...     ...           ...            ...   \n",
       "16354   34      Private   40067  Some-college             10   \n",
       "14182   41      Private   43945       7th-8th              4   \n",
       "16222   40      Private  241895  Some-college             10   \n",
       "22703   29      Private  320451       HS-grad              9   \n",
       "6484    50    Local-gov  100480       Masters             14   \n",
       "\n",
       "           marital_status       occupation   relationship                race  \\\n",
       "6378        Never-married     Craft-repair      Own-child               White   \n",
       "16583  Married-civ-spouse  Farming-fishing        Husband               White   \n",
       "10591       Never-married  Exec-managerial      Own-child               White   \n",
       "21539       Never-married                ?  Not-in-family               Black   \n",
       "18666  Married-civ-spouse     Craft-repair        Husband               White   \n",
       "...                   ...              ...            ...                 ...   \n",
       "16354  Married-civ-spouse     Craft-repair        Husband               White   \n",
       "14182  Married-civ-spouse     Craft-repair        Husband               White   \n",
       "16222  Married-civ-spouse     Adm-clerical        Husband               White   \n",
       "22703       Never-married  Protective-serv  Not-in-family  Asian-Pac-Islander   \n",
       "6484   Married-civ-spouse  Exec-managerial        Husband               White   \n",
       "\n",
       "          sex  capital_gain  capital_loss  hours_per_week native_country  \n",
       "6378     Male             0             0              40  United-States  \n",
       "16583    Male             0             0              50  United-States  \n",
       "10591    Male             0             0              45  United-States  \n",
       "21539  Female             0             0              35  United-States  \n",
       "18666    Male             0             0              40  United-States  \n",
       "...       ...           ...           ...             ...            ...  \n",
       "16354    Male             0             0              40  United-States  \n",
       "14182    Male             0             0              40              ?  \n",
       "16222    Male             0             0              40  United-States  \n",
       "22703    Male             0             0              40    Philippines  \n",
       "6484     Male             0             0              60  United-States  \n",
       "\n",
       "[200 rows x 14 columns]"
      ]
     },
     "execution_count": 48,
     "metadata": {},
     "output_type": "execute_result"
    }
   ],
   "source": [
    "tmp_train.sample(200)"
   ]
  },
  {
   "cell_type": "code",
   "execution_count": 49,
   "metadata": {},
   "outputs": [
    {
     "name": "stdout",
     "output_type": "stream",
     "text": [
      "<class 'pandas.core.frame.DataFrame'>\n",
      "RangeIndex: 26049 entries, 0 to 26048\n",
      "Data columns (total 14 columns):\n",
      " #   Column          Non-Null Count  Dtype \n",
      "---  ------          --------------  ----- \n",
      " 0   age             26049 non-null  int64 \n",
      " 1   workclass       26049 non-null  object\n",
      " 2   fnlwgt          26049 non-null  int64 \n",
      " 3   education       26049 non-null  object\n",
      " 4   education_num   26049 non-null  int64 \n",
      " 5   marital_status  26049 non-null  object\n",
      " 6   occupation      26049 non-null  object\n",
      " 7   relationship    26049 non-null  object\n",
      " 8   race            26049 non-null  object\n",
      " 9   sex             26049 non-null  object\n",
      " 10  capital_gain    26049 non-null  int64 \n",
      " 11  capital_loss    26049 non-null  int64 \n",
      " 12  hours_per_week  26049 non-null  int64 \n",
      " 13  native_country  26049 non-null  object\n",
      "dtypes: int64(6), object(8)\n",
      "memory usage: 2.8+ MB\n"
     ]
    }
   ],
   "source": [
    "# 결측치 확인\n",
    "tmp_train.info()"
   ]
  },
  {
   "cell_type": "code",
   "execution_count": 50,
   "metadata": {},
   "outputs": [
    {
     "data": {
      "text/html": [
       "<div>\n",
       "<style scoped>\n",
       "    .dataframe tbody tr th:only-of-type {\n",
       "        vertical-align: middle;\n",
       "    }\n",
       "\n",
       "    .dataframe tbody tr th {\n",
       "        vertical-align: top;\n",
       "    }\n",
       "\n",
       "    .dataframe thead th {\n",
       "        text-align: right;\n",
       "    }\n",
       "</style>\n",
       "<table border=\"1\" class=\"dataframe\">\n",
       "  <thead>\n",
       "    <tr style=\"text-align: right;\">\n",
       "      <th></th>\n",
       "      <th>age</th>\n",
       "      <th>fnlwgt</th>\n",
       "      <th>education_num</th>\n",
       "      <th>capital_gain</th>\n",
       "      <th>capital_loss</th>\n",
       "      <th>hours_per_week</th>\n",
       "    </tr>\n",
       "  </thead>\n",
       "  <tbody>\n",
       "    <tr>\n",
       "      <th>count</th>\n",
       "      <td>26049.000000</td>\n",
       "      <td>2.604900e+04</td>\n",
       "      <td>26049.000000</td>\n",
       "      <td>26049.00000</td>\n",
       "      <td>26049.000000</td>\n",
       "      <td>26049.000000</td>\n",
       "    </tr>\n",
       "    <tr>\n",
       "      <th>mean</th>\n",
       "      <td>38.569235</td>\n",
       "      <td>1.903045e+05</td>\n",
       "      <td>10.088372</td>\n",
       "      <td>1087.68970</td>\n",
       "      <td>87.732734</td>\n",
       "      <td>40.443126</td>\n",
       "    </tr>\n",
       "    <tr>\n",
       "      <th>std</th>\n",
       "      <td>13.671489</td>\n",
       "      <td>1.059663e+05</td>\n",
       "      <td>2.567610</td>\n",
       "      <td>7388.85469</td>\n",
       "      <td>403.230205</td>\n",
       "      <td>12.361850</td>\n",
       "    </tr>\n",
       "    <tr>\n",
       "      <th>min</th>\n",
       "      <td>17.000000</td>\n",
       "      <td>1.376900e+04</td>\n",
       "      <td>1.000000</td>\n",
       "      <td>0.00000</td>\n",
       "      <td>0.000000</td>\n",
       "      <td>1.000000</td>\n",
       "    </tr>\n",
       "    <tr>\n",
       "      <th>25%</th>\n",
       "      <td>28.000000</td>\n",
       "      <td>1.181080e+05</td>\n",
       "      <td>9.000000</td>\n",
       "      <td>0.00000</td>\n",
       "      <td>0.000000</td>\n",
       "      <td>40.000000</td>\n",
       "    </tr>\n",
       "    <tr>\n",
       "      <th>50%</th>\n",
       "      <td>37.000000</td>\n",
       "      <td>1.788660e+05</td>\n",
       "      <td>10.000000</td>\n",
       "      <td>0.00000</td>\n",
       "      <td>0.000000</td>\n",
       "      <td>40.000000</td>\n",
       "    </tr>\n",
       "    <tr>\n",
       "      <th>75%</th>\n",
       "      <td>48.000000</td>\n",
       "      <td>2.377350e+05</td>\n",
       "      <td>12.000000</td>\n",
       "      <td>0.00000</td>\n",
       "      <td>0.000000</td>\n",
       "      <td>45.000000</td>\n",
       "    </tr>\n",
       "    <tr>\n",
       "      <th>max</th>\n",
       "      <td>90.000000</td>\n",
       "      <td>1.484705e+06</td>\n",
       "      <td>16.000000</td>\n",
       "      <td>99999.00000</td>\n",
       "      <td>4356.000000</td>\n",
       "      <td>99.000000</td>\n",
       "    </tr>\n",
       "  </tbody>\n",
       "</table>\n",
       "</div>"
      ],
      "text/plain": [
       "                age        fnlwgt  education_num  capital_gain  capital_loss  \\\n",
       "count  26049.000000  2.604900e+04   26049.000000   26049.00000  26049.000000   \n",
       "mean      38.569235  1.903045e+05      10.088372    1087.68970     87.732734   \n",
       "std       13.671489  1.059663e+05       2.567610    7388.85469    403.230205   \n",
       "min       17.000000  1.376900e+04       1.000000       0.00000      0.000000   \n",
       "25%       28.000000  1.181080e+05       9.000000       0.00000      0.000000   \n",
       "50%       37.000000  1.788660e+05      10.000000       0.00000      0.000000   \n",
       "75%       48.000000  2.377350e+05      12.000000       0.00000      0.000000   \n",
       "max       90.000000  1.484705e+06      16.000000   99999.00000   4356.000000   \n",
       "\n",
       "       hours_per_week  \n",
       "count    26049.000000  \n",
       "mean        40.443126  \n",
       "std         12.361850  \n",
       "min          1.000000  \n",
       "25%         40.000000  \n",
       "50%         40.000000  \n",
       "75%         45.000000  \n",
       "max         99.000000  "
      ]
     },
     "execution_count": 50,
     "metadata": {},
     "output_type": "execute_result"
    }
   ],
   "source": [
    "#통계수치 확인\n",
    "tmp_train.describe()"
   ]
  },
  {
   "cell_type": "markdown",
   "metadata": {},
   "source": [
    "## 결측치 처리"
   ]
  },
  {
   "cell_type": "markdown",
   "metadata": {},
   "source": [
    "? 로 된 결측치가  'workclass', 'occupation', 'native_country' 칼럼에 존재함\n",
    "이 결측치들을 처리해 줘야함.\n",
    "\n",
    "이 데이터들은 범주형 변수이기 떄문에 가장 간단하게 최빈값으로 결측치를 처리함."
   ]
  },
  {
   "cell_type": "code",
   "execution_count": 51,
   "metadata": {},
   "outputs": [],
   "source": [
    "na_columns = ['workclass', 'occupation', 'native_country']"
   ]
  },
  {
   "cell_type": "code",
   "execution_count": 52,
   "metadata": {},
   "outputs": [
    {
     "data": {
      "text/plain": [
       "'Private'"
      ]
     },
     "execution_count": 52,
     "metadata": {},
     "output_type": "execute_result"
    }
   ],
   "source": [
    "#최빈값 가져오기\n",
    "# test['workclass'].mode()\n",
    "test['workclass'].mode()[0] # private 가 빈도수가 가장 높음"
   ]
  },
  {
   "cell_type": "code",
   "execution_count": 53,
   "metadata": {
    "scrolled": true
   },
   "outputs": [
    {
     "data": {
      "text/plain": [
       "11       ?\n",
       "30       ?\n",
       "34       ?\n",
       "66       ?\n",
       "67       ?\n",
       "        ..\n",
       "26009    ?\n",
       "26010    ?\n",
       "26012    ?\n",
       "26046    ?\n",
       "26048    ?\n",
       "Name: workclass, Length: 1502, dtype: object"
      ]
     },
     "execution_count": 53,
     "metadata": {},
     "output_type": "execute_result"
    }
   ],
   "source": [
    "tmp_train.loc[train['workclass'] == '?','workclass'] # 두 번쨰 인자로 열이름을 주면 해당 열에 대한 시리즈 데이터\n",
    "# 두 번쨰 인자로 열이름을 안 넣어주면 데이터프레임 출력"
   ]
  },
  {
   "cell_type": "code",
   "execution_count": 54,
   "metadata": {
    "scrolled": true
   },
   "outputs": [
    {
     "data": {
      "text/plain": [
       "0        0\n",
       "1        0\n",
       "2        0\n",
       "3        0\n",
       "4        0\n",
       "        ..\n",
       "26044    0\n",
       "26045    0\n",
       "26046    0\n",
       "26047    0\n",
       "26048    0\n",
       "Name: capital_gain, Length: 26049, dtype: int64"
      ]
     },
     "execution_count": 54,
     "metadata": {},
     "output_type": "execute_result"
    }
   ],
   "source": [
    "tmp_train['capital_gain']"
   ]
  },
  {
   "cell_type": "code",
   "execution_count": 55,
   "metadata": {},
   "outputs": [],
   "source": [
    "#최빈값 대치\n",
    "for col in na_columns:\n",
    "    tmp_train.loc[train[col] == '?',col] = train[col].mode()[0]\n",
    "    tmp_test.loc[test[col] == '?',col] = test[col].mode()[0]"
   ]
  },
  {
   "cell_type": "markdown",
   "metadata": {},
   "source": [
    "## Log 변환\n",
    "\n",
    "capital_gain 변수와 capital_loss 변수의 분포가 한쪽으로 치우친 형태이므로 Log 변환을 통해 분포의 형태를 조정해주겠습니다."
   ]
  },
  {
   "cell_type": "code",
   "execution_count": 56,
   "metadata": {
    "scrolled": false
   },
   "outputs": [
    {
     "data": {
      "text/plain": [
       "<matplotlib.axes._subplots.AxesSubplot at 0x7fd2164926d0>"
      ]
     },
     "execution_count": 56,
     "metadata": {},
     "output_type": "execute_result"
    },
    {
     "data": {
      "image/png": "[encoded data removed]",
      "text/plain": [
       "<Figure size 432x288 with 1 Axes>"
      ]
     },
     "metadata": {
      "needs_background": "light"
     },
     "output_type": "display_data"
    }
   ],
   "source": [
    "tmp_train['capital_gain'].plot.hist()\n",
    "# 왼쪽으로 너무 편향되어있음"
   ]
  },
  {
   "cell_type": "code",
   "execution_count": 57,
   "metadata": {},
   "outputs": [
    {
     "data": {
      "text/plain": [
       "<matplotlib.axes._subplots.AxesSubplot at 0x7fd216b78350>"
      ]
     },
     "execution_count": 57,
     "metadata": {},
     "output_type": "execute_result"
    },
    {
     "data": {
      "image/png": "[encoded data removed]",
      "text/plain": [
       "<Figure size 432x288 with 1 Axes>"
      ]
     },
     "metadata": {
      "needs_background": "light"
     },
     "output_type": "display_data"
    }
   ],
   "source": [
    "#map 함수를 통해 자연로그 적용\n",
    "tmp_train['log_capital_gain'] = train['capital_gain'].map(lambda x : np.log(x) if x != 0 else 0)\n",
    "tmp_test['log_capital_gain'] = test['capital_gain'].map(lambda x : np.log(x) if x != 0 else 0)\n",
    "\n",
    "tmp_train['log_capital_gain'].plot.hist()"
   ]
  },
  {
   "cell_type": "code",
   "execution_count": 58,
   "metadata": {},
   "outputs": [
    {
     "data": {
      "text/plain": [
       "<matplotlib.axes._subplots.AxesSubplot at 0x7fd216984650>"
      ]
     },
     "execution_count": 58,
     "metadata": {},
     "output_type": "execute_result"
    },
    {
     "data": {
      "image/png": "[encoded data removed]",
      "text/plain": [
       "<Figure size 432x288 with 1 Axes>"
      ]
     },
     "metadata": {
      "needs_background": "light"
     },
     "output_type": "display_data"
    }
   ],
   "source": [
    "# 똑같이 capital_loss 에 적용\n",
    "train['capital_loss'].plot.hist()"
   ]
  },
  {
   "cell_type": "code",
   "execution_count": 59,
   "metadata": {},
   "outputs": [
    {
     "data": {
      "text/plain": [
       "<matplotlib.axes._subplots.AxesSubplot at 0x7fd216a0f090>"
      ]
     },
     "execution_count": 59,
     "metadata": {},
     "output_type": "execute_result"
    },
    {
     "data": {
      "image/png": "[encoded data removed]",
      "text/plain": [
       "<Figure size 432x288 with 1 Axes>"
      ]
     },
     "metadata": {
      "needs_background": "light"
     },
     "output_type": "display_data"
    }
   ],
   "source": [
    "tmp_train['log_capital_loss'] = train['capital_loss'].map(lambda x : np.log(x) if x != 0 else 0)\n",
    "tmp_test['log_capital_loss'] = test['capital_loss'].map(lambda x : np.log(x) if x != 0 else 0)\n",
    "\n",
    "tmp_train['log_capital_loss'].plot.hist()"
   ]
  },
  {
   "cell_type": "code",
   "execution_count": 60,
   "metadata": {},
   "outputs": [],
   "source": [
    "# 로그 취하기전 데이터는 지워주기\n",
    "tmp_train = tmp_train.drop(columns=['capital_loss', 'capital_gain'])\n",
    "tmp_test  = tmp_test.drop(columns=['capital_loss', 'capital_gain'])"
   ]
  },
  {
   "cell_type": "markdown",
   "metadata": {},
   "source": [
    "\n",
    "#### 5) 데이터 쪼개기\n",
    "##### 1. Train, Valid, Test Set\n",
    "* Train Data : 모델을 학습하는데 사용하는 데이터 (모델이 알고 있는 학습할 데이터, 과거 데이터)\n",
    "* Valid Data : 학습한 모델의 성능을 검증하는 데이터 (모델이 모르는 학습하지 않을 데이터, 모델 검증에 사용하는 데이터, 과거 데이터)\n",
    "* Test Data : 학습한 모델로 예측할 데이터 (모델이 모르는 예측할 데이터, 미래 데이터)"
   ]
  },
  {
   "cell_type": "code",
   "execution_count": 61,
   "metadata": {},
   "outputs": [],
   "source": [
    "from sklearn.model_selection import train_test_split\n",
    "\n",
    "tmp_train, tmp_valid, y_train, y_valid = train_test_split(tmp_train, label, \n",
    "                                                          test_size=0.3,\n",
    "                                                          random_state=2020,\n",
    "                                                          shuffle=True,\n",
    "                                                          stratify=label)\n",
    "# test_size = 0.3 -> 테스트데이터는 0.3 비율로 나누겠다.\n",
    "# random_state = 랜덤 씨드 값\n",
    "# shuffle = True 섞은 다음 나누겠다.\n",
    "# stratify = label  훈련 테스트 데이터들이 원본의 클래스의 비율과 같은 비율을 가지도록 할 것인지 지정"
   ]
  },
  {
   "cell_type": "code",
   "execution_count": 62,
   "metadata": {},
   "outputs": [],
   "source": [
    "# 인덱스 초기화\n",
    "# 데이터를 나눌 경우 인덱스가 뒤죽박죽 섞이게 된다.\n",
    "tmp_train = tmp_train.reset_index(drop=True) # drop = True 를 하면 또다른 인덱스 생성 x 필수로해줘야함\n",
    "tmp_valid = tmp_valid.reset_index(drop=True)\n",
    "tmp_test = tmp_test.reset_index(drop=True)"
   ]
  },
  {
   "cell_type": "markdown",
   "metadata": {},
   "source": [
    "### 스케일링\n",
    "\n",
    "Scikit-learn 라이브러리에 있는 Standard Scaler를 사용해서 수치형 변수들의 표준화를 진행하겠습니다."
   ]
  },
  {
   "cell_type": "code",
   "execution_count": 63,
   "metadata": {},
   "outputs": [
    {
     "name": "stdout",
     "output_type": "stream",
     "text": [
      "범주형 변수: \n",
      "['workclass', 'education', 'marital_status', 'occupation', 'relationship', 'race', 'sex', 'native_country']\n",
      "\n",
      " 수치형 변수 : \n",
      "['age', 'fnlwgt', 'education_num', 'hours_per_week', 'log_capital_gain', 'log_capital_loss']\n",
      "\n"
     ]
    }
   ],
   "source": [
    "# 먼저 범주형 변수와 수치형 변수를 나눠줘야 함.\n",
    "cat_columns = [c for c , t in zip(tmp_train.dtypes.index, tmp_train.dtypes) if t == 'O']\n",
    "# 오브젝트 타입으로 되어있는 칼럼이름들만 저장해라\n",
    "num_columns = [c for c in tmp_train.columns if c not in cat_columns]\n",
    "# 위에 조건이 아닌 것들은 다 수치형 타입\n",
    "\n",
    "print('범주형 변수: \\n{}\\n\\n 수치형 변수 : \\n{}\\n'.format(cat_columns,num_columns))"
   ]
  },
  {
   "cell_type": "code",
   "execution_count": 64,
   "metadata": {},
   "outputs": [],
   "source": [
    "from sklearn.preprocessing import StandardScaler\n",
    "\n",
    "scaler = StandardScaler()\n",
    "tmp_train[num_columns] = scaler.fit_transform(tmp_train[num_columns])\n",
    "# 테스트 데이터의 대한 특징들을 모델이 기억해야 함으로 fit 과 transform 을 같이했다.\n",
    "tmp_valid[num_columns] = scaler.transform(tmp_valid[num_columns])\n",
    "tmp_test[num_columns]  = scaler.transform(tmp_test[num_columns])\n",
    "# 나머지는 trainsform 만 해줘야함!"
   ]
  },
  {
   "cell_type": "code",
   "execution_count": 65,
   "metadata": {},
   "outputs": [
    {
     "data": {
      "text/html": [
       "<div>\n",
       "<style scoped>\n",
       "    .dataframe tbody tr th:only-of-type {\n",
       "        vertical-align: middle;\n",
       "    }\n",
       "\n",
       "    .dataframe tbody tr th {\n",
       "        vertical-align: top;\n",
       "    }\n",
       "\n",
       "    .dataframe thead th {\n",
       "        text-align: right;\n",
       "    }\n",
       "</style>\n",
       "<table border=\"1\" class=\"dataframe\">\n",
       "  <thead>\n",
       "    <tr style=\"text-align: right;\">\n",
       "      <th></th>\n",
       "      <th>age</th>\n",
       "      <th>fnlwgt</th>\n",
       "      <th>education_num</th>\n",
       "      <th>hours_per_week</th>\n",
       "      <th>log_capital_gain</th>\n",
       "      <th>log_capital_loss</th>\n",
       "    </tr>\n",
       "  </thead>\n",
       "  <tbody>\n",
       "    <tr>\n",
       "      <th>count</th>\n",
       "      <td>1.823400e+04</td>\n",
       "      <td>1.823400e+04</td>\n",
       "      <td>1.823400e+04</td>\n",
       "      <td>1.823400e+04</td>\n",
       "      <td>1.823400e+04</td>\n",
       "      <td>1.823400e+04</td>\n",
       "    </tr>\n",
       "    <tr>\n",
       "      <th>mean</th>\n",
       "      <td>-1.353712e-16</td>\n",
       "      <td>-3.069949e-17</td>\n",
       "      <td>2.664255e-16</td>\n",
       "      <td>4.398370e-16</td>\n",
       "      <td>-1.446012e-15</td>\n",
       "      <td>3.109830e-17</td>\n",
       "    </tr>\n",
       "    <tr>\n",
       "      <th>std</th>\n",
       "      <td>1.000027e+00</td>\n",
       "      <td>1.000027e+00</td>\n",
       "      <td>1.000027e+00</td>\n",
       "      <td>1.000027e+00</td>\n",
       "      <td>1.000027e+00</td>\n",
       "      <td>1.000027e+00</td>\n",
       "    </tr>\n",
       "    <tr>\n",
       "      <th>min</th>\n",
       "      <td>-1.575121e+00</td>\n",
       "      <td>-1.661651e+00</td>\n",
       "      <td>-3.549168e+00</td>\n",
       "      <td>-3.175259e+00</td>\n",
       "      <td>-3.032959e-01</td>\n",
       "      <td>-2.209828e-01</td>\n",
       "    </tr>\n",
       "    <tr>\n",
       "      <th>25%</th>\n",
       "      <td>-8.441270e-01</td>\n",
       "      <td>-6.773644e-01</td>\n",
       "      <td>-4.287495e-01</td>\n",
       "      <td>-3.725226e-02</td>\n",
       "      <td>-3.032959e-01</td>\n",
       "      <td>-2.209828e-01</td>\n",
       "    </tr>\n",
       "    <tr>\n",
       "      <th>50%</th>\n",
       "      <td>-1.131329e-01</td>\n",
       "      <td>-1.055421e-01</td>\n",
       "      <td>-3.869719e-02</td>\n",
       "      <td>-3.725226e-02</td>\n",
       "      <td>-3.032959e-01</td>\n",
       "      <td>-2.209828e-01</td>\n",
       "    </tr>\n",
       "    <tr>\n",
       "      <th>75%</th>\n",
       "      <td>6.909606e-01</td>\n",
       "      <td>4.466872e-01</td>\n",
       "      <td>1.131460e+00</td>\n",
       "      <td>3.650563e-01</td>\n",
       "      <td>-3.032959e-01</td>\n",
       "      <td>-2.209828e-01</td>\n",
       "    </tr>\n",
       "    <tr>\n",
       "      <th>max</th>\n",
       "      <td>3.761136e+00</td>\n",
       "      <td>1.188097e+01</td>\n",
       "      <td>2.301616e+00</td>\n",
       "      <td>4.709988e+00</td>\n",
       "      <td>4.326449e+00</td>\n",
       "      <td>5.071417e+00</td>\n",
       "    </tr>\n",
       "  </tbody>\n",
       "</table>\n",
       "</div>"
      ],
      "text/plain": [
       "                age        fnlwgt  education_num  hours_per_week  \\\n",
       "count  1.823400e+04  1.823400e+04   1.823400e+04    1.823400e+04   \n",
       "mean  -1.353712e-16 -3.069949e-17   2.664255e-16    4.398370e-16   \n",
       "std    1.000027e+00  1.000027e+00   1.000027e+00    1.000027e+00   \n",
       "min   -1.575121e+00 -1.661651e+00  -3.549168e+00   -3.175259e+00   \n",
       "25%   -8.441270e-01 -6.773644e-01  -4.287495e-01   -3.725226e-02   \n",
       "50%   -1.131329e-01 -1.055421e-01  -3.869719e-02   -3.725226e-02   \n",
       "75%    6.909606e-01  4.466872e-01   1.131460e+00    3.650563e-01   \n",
       "max    3.761136e+00  1.188097e+01   2.301616e+00    4.709988e+00   \n",
       "\n",
       "       log_capital_gain  log_capital_loss  \n",
       "count      1.823400e+04      1.823400e+04  \n",
       "mean      -1.446012e-15      3.109830e-17  \n",
       "std        1.000027e+00      1.000027e+00  \n",
       "min       -3.032959e-01     -2.209828e-01  \n",
       "25%       -3.032959e-01     -2.209828e-01  \n",
       "50%       -3.032959e-01     -2.209828e-01  \n",
       "75%       -3.032959e-01     -2.209828e-01  \n",
       "max        4.326449e+00      5.071417e+00  "
      ]
     },
     "execution_count": 65,
     "metadata": {},
     "output_type": "execute_result"
    }
   ],
   "source": [
    "tmp_train.describe()\n",
    "# std 스케일러 이기 떄문에 평균이 0이고 분산이 1인지 확인해본다."
   ]
  },
  {
   "cell_type": "code",
   "execution_count": 66,
   "metadata": {},
   "outputs": [
    {
     "data": {
      "text/html": [
       "<div>\n",
       "<style scoped>\n",
       "    .dataframe tbody tr th:only-of-type {\n",
       "        vertical-align: middle;\n",
       "    }\n",
       "\n",
       "    .dataframe tbody tr th {\n",
       "        vertical-align: top;\n",
       "    }\n",
       "\n",
       "    .dataframe thead th {\n",
       "        text-align: right;\n",
       "    }\n",
       "</style>\n",
       "<table border=\"1\" class=\"dataframe\">\n",
       "  <thead>\n",
       "    <tr style=\"text-align: right;\">\n",
       "      <th></th>\n",
       "      <th>age</th>\n",
       "      <th>fnlwgt</th>\n",
       "      <th>education_num</th>\n",
       "      <th>hours_per_week</th>\n",
       "      <th>log_capital_gain</th>\n",
       "      <th>log_capital_loss</th>\n",
       "    </tr>\n",
       "  </thead>\n",
       "  <tbody>\n",
       "    <tr>\n",
       "      <th>count</th>\n",
       "      <td>7815.000000</td>\n",
       "      <td>7815.000000</td>\n",
       "      <td>7815.000000</td>\n",
       "      <td>7815.000000</td>\n",
       "      <td>7815.000000</td>\n",
       "      <td>7815.000000</td>\n",
       "    </tr>\n",
       "    <tr>\n",
       "      <th>mean</th>\n",
       "      <td>0.005257</td>\n",
       "      <td>-0.011081</td>\n",
       "      <td>-0.014091</td>\n",
       "      <td>-0.005325</td>\n",
       "      <td>-0.014643</td>\n",
       "      <td>0.006928</td>\n",
       "    </tr>\n",
       "    <tr>\n",
       "      <th>std</th>\n",
       "      <td>0.997915</td>\n",
       "      <td>0.984603</td>\n",
       "      <td>1.004929</td>\n",
       "      <td>0.982061</td>\n",
       "      <td>0.975637</td>\n",
       "      <td>1.014457</td>\n",
       "    </tr>\n",
       "    <tr>\n",
       "      <th>min</th>\n",
       "      <td>-1.575121</td>\n",
       "      <td>-1.614138</td>\n",
       "      <td>-3.549168</td>\n",
       "      <td>-3.175259</td>\n",
       "      <td>-0.303296</td>\n",
       "      <td>-0.220983</td>\n",
       "    </tr>\n",
       "    <tr>\n",
       "      <th>25%</th>\n",
       "      <td>-0.771028</td>\n",
       "      <td>-0.686258</td>\n",
       "      <td>-0.428749</td>\n",
       "      <td>-0.037252</td>\n",
       "      <td>-0.303296</td>\n",
       "      <td>-0.220983</td>\n",
       "    </tr>\n",
       "    <tr>\n",
       "      <th>50%</th>\n",
       "      <td>-0.113133</td>\n",
       "      <td>-0.119802</td>\n",
       "      <td>-0.038697</td>\n",
       "      <td>-0.037252</td>\n",
       "      <td>-0.303296</td>\n",
       "      <td>-0.220983</td>\n",
       "    </tr>\n",
       "    <tr>\n",
       "      <th>75%</th>\n",
       "      <td>0.690961</td>\n",
       "      <td>0.431563</td>\n",
       "      <td>0.741407</td>\n",
       "      <td>0.365056</td>\n",
       "      <td>-0.303296</td>\n",
       "      <td>-0.220983</td>\n",
       "    </tr>\n",
       "    <tr>\n",
       "      <th>max</th>\n",
       "      <td>3.761136</td>\n",
       "      <td>12.155926</td>\n",
       "      <td>2.301616</td>\n",
       "      <td>4.709988</td>\n",
       "      <td>4.326449</td>\n",
       "      <td>4.980164</td>\n",
       "    </tr>\n",
       "  </tbody>\n",
       "</table>\n",
       "</div>"
      ],
      "text/plain": [
       "               age       fnlwgt  education_num  hours_per_week  \\\n",
       "count  7815.000000  7815.000000    7815.000000     7815.000000   \n",
       "mean      0.005257    -0.011081      -0.014091       -0.005325   \n",
       "std       0.997915     0.984603       1.004929        0.982061   \n",
       "min      -1.575121    -1.614138      -3.549168       -3.175259   \n",
       "25%      -0.771028    -0.686258      -0.428749       -0.037252   \n",
       "50%      -0.113133    -0.119802      -0.038697       -0.037252   \n",
       "75%       0.690961     0.431563       0.741407        0.365056   \n",
       "max       3.761136    12.155926       2.301616        4.709988   \n",
       "\n",
       "       log_capital_gain  log_capital_loss  \n",
       "count       7815.000000       7815.000000  \n",
       "mean          -0.014643          0.006928  \n",
       "std            0.975637          1.014457  \n",
       "min           -0.303296         -0.220983  \n",
       "25%           -0.303296         -0.220983  \n",
       "50%           -0.303296         -0.220983  \n",
       "75%           -0.303296         -0.220983  \n",
       "max            4.326449          4.980164  "
      ]
     },
     "execution_count": 66,
     "metadata": {},
     "output_type": "execute_result"
    }
   ],
   "source": [
    "tmp_valid.describe()\n",
    "# train 데이터로 fitting 했기 떄문에 valid 는 평균이 0 이 아니고 분산도 1이 아니다."
   ]
  },
  {
   "cell_type": "markdown",
   "metadata": {},
   "source": [
    "### 인코딩\n",
    "\n",
    "범주형 변수를 수치형 변수로 인코딩 하겠습니다. 범주형 변수에는 Onehot Encoding을 적용합니다. <br>\n",
    "범주형 변수가 순서형 데이터로 크기가 의미있는 경우 라벨인코더를 사용해도 괜찮음"
   ]
  },
  {
   "cell_type": "code",
   "execution_count": 67,
   "metadata": {},
   "outputs": [
    {
     "data": {
      "text/plain": [
       "OneHotEncoder(categories='auto', drop=None, dtype=<class 'numpy.float64'>,\n",
       "              handle_unknown='error', sparse=False)"
      ]
     },
     "execution_count": 67,
     "metadata": {},
     "output_type": "execute_result"
    }
   ],
   "source": [
    "from sklearn.preprocessing import OneHotEncoder, LabelEncoder\n",
    "\n",
    "tmp_all = pd.concat([tmp_train, tmp_valid , tmp_test])\n",
    "\n",
    "ohe = OneHotEncoder(sparse=False)\n",
    "ohe.fit(tmp_all[cat_columns])"
   ]
  },
  {
   "cell_type": "code",
   "execution_count": 68,
   "metadata": {},
   "outputs": [],
   "source": [
    "#ohe.categories_"
   ]
  },
  {
   "cell_type": "code",
   "execution_count": 69,
   "metadata": {},
   "outputs": [],
   "source": [
    "ohe_columns = []\n",
    "for lst in ohe.categories_:\n",
    "    ohe_columns += lst.tolist()"
   ]
  },
  {
   "cell_type": "code",
   "execution_count": 70,
   "metadata": {},
   "outputs": [],
   "source": [
    "new_train_cat = pd.DataFrame(ohe.transform(tmp_train[cat_columns]), columns=ohe_columns)\n",
    "new_valid_cat = pd.DataFrame(ohe.transform(tmp_valid[cat_columns]), columns=ohe_columns)\n",
    "new_test_cat  = pd.DataFrame(ohe.transform(tmp_test[cat_columns]), columns=ohe_columns)"
   ]
  },
  {
   "cell_type": "markdown",
   "metadata": {},
   "source": [
    "#### 여기서 카테고리 데이터는 왜 합친다음에 인코딩을 진행하나?\n",
    "#### ( 수치형 데이터는 스케일링 할때 train 데이터만 스케일링 했는데)\n",
    "\n",
    "이유는 카테고리컬 데이터는 train 데이터에는 없으나 test 혹은 valid 데이터에만 있는 범주데이터가 있을 수 있으므로<br>\n",
    "concat() 함수로 합쳐준 후 fitting 하고 다시 나눠줘야한다."
   ]
  },
  {
   "cell_type": "code",
   "execution_count": 71,
   "metadata": {},
   "outputs": [
    {
     "data": {
      "text/html": [
       "<div>\n",
       "<style scoped>\n",
       "    .dataframe tbody tr th:only-of-type {\n",
       "        vertical-align: middle;\n",
       "    }\n",
       "\n",
       "    .dataframe tbody tr th {\n",
       "        vertical-align: top;\n",
       "    }\n",
       "\n",
       "    .dataframe thead th {\n",
       "        text-align: right;\n",
       "    }\n",
       "</style>\n",
       "<table border=\"1\" class=\"dataframe\">\n",
       "  <thead>\n",
       "    <tr style=\"text-align: right;\">\n",
       "      <th></th>\n",
       "      <th>Federal-gov</th>\n",
       "      <th>Local-gov</th>\n",
       "      <th>Never-worked</th>\n",
       "      <th>Private</th>\n",
       "      <th>Self-emp-inc</th>\n",
       "      <th>Self-emp-not-inc</th>\n",
       "      <th>State-gov</th>\n",
       "      <th>Without-pay</th>\n",
       "      <th>10th</th>\n",
       "      <th>11th</th>\n",
       "      <th>...</th>\n",
       "      <th>Portugal</th>\n",
       "      <th>Puerto-Rico</th>\n",
       "      <th>Scotland</th>\n",
       "      <th>South</th>\n",
       "      <th>Taiwan</th>\n",
       "      <th>Thailand</th>\n",
       "      <th>Trinadad&amp;Tobago</th>\n",
       "      <th>United-States</th>\n",
       "      <th>Vietnam</th>\n",
       "      <th>Yugoslavia</th>\n",
       "    </tr>\n",
       "  </thead>\n",
       "  <tbody>\n",
       "    <tr>\n",
       "      <th>0</th>\n",
       "      <td>0.0</td>\n",
       "      <td>0.0</td>\n",
       "      <td>0.0</td>\n",
       "      <td>1.0</td>\n",
       "      <td>0.0</td>\n",
       "      <td>0.0</td>\n",
       "      <td>0.0</td>\n",
       "      <td>0.0</td>\n",
       "      <td>0.0</td>\n",
       "      <td>0.0</td>\n",
       "      <td>...</td>\n",
       "      <td>0.0</td>\n",
       "      <td>0.0</td>\n",
       "      <td>0.0</td>\n",
       "      <td>0.0</td>\n",
       "      <td>0.0</td>\n",
       "      <td>0.0</td>\n",
       "      <td>0.0</td>\n",
       "      <td>1.0</td>\n",
       "      <td>0.0</td>\n",
       "      <td>0.0</td>\n",
       "    </tr>\n",
       "    <tr>\n",
       "      <th>1</th>\n",
       "      <td>0.0</td>\n",
       "      <td>0.0</td>\n",
       "      <td>0.0</td>\n",
       "      <td>1.0</td>\n",
       "      <td>0.0</td>\n",
       "      <td>0.0</td>\n",
       "      <td>0.0</td>\n",
       "      <td>0.0</td>\n",
       "      <td>0.0</td>\n",
       "      <td>0.0</td>\n",
       "      <td>...</td>\n",
       "      <td>0.0</td>\n",
       "      <td>0.0</td>\n",
       "      <td>0.0</td>\n",
       "      <td>0.0</td>\n",
       "      <td>0.0</td>\n",
       "      <td>0.0</td>\n",
       "      <td>0.0</td>\n",
       "      <td>1.0</td>\n",
       "      <td>0.0</td>\n",
       "      <td>0.0</td>\n",
       "    </tr>\n",
       "    <tr>\n",
       "      <th>2</th>\n",
       "      <td>0.0</td>\n",
       "      <td>0.0</td>\n",
       "      <td>0.0</td>\n",
       "      <td>1.0</td>\n",
       "      <td>0.0</td>\n",
       "      <td>0.0</td>\n",
       "      <td>0.0</td>\n",
       "      <td>0.0</td>\n",
       "      <td>0.0</td>\n",
       "      <td>0.0</td>\n",
       "      <td>...</td>\n",
       "      <td>0.0</td>\n",
       "      <td>0.0</td>\n",
       "      <td>0.0</td>\n",
       "      <td>0.0</td>\n",
       "      <td>0.0</td>\n",
       "      <td>0.0</td>\n",
       "      <td>0.0</td>\n",
       "      <td>1.0</td>\n",
       "      <td>0.0</td>\n",
       "      <td>0.0</td>\n",
       "    </tr>\n",
       "    <tr>\n",
       "      <th>3</th>\n",
       "      <td>0.0</td>\n",
       "      <td>0.0</td>\n",
       "      <td>0.0</td>\n",
       "      <td>1.0</td>\n",
       "      <td>0.0</td>\n",
       "      <td>0.0</td>\n",
       "      <td>0.0</td>\n",
       "      <td>0.0</td>\n",
       "      <td>0.0</td>\n",
       "      <td>0.0</td>\n",
       "      <td>...</td>\n",
       "      <td>0.0</td>\n",
       "      <td>0.0</td>\n",
       "      <td>0.0</td>\n",
       "      <td>0.0</td>\n",
       "      <td>0.0</td>\n",
       "      <td>0.0</td>\n",
       "      <td>0.0</td>\n",
       "      <td>1.0</td>\n",
       "      <td>0.0</td>\n",
       "      <td>0.0</td>\n",
       "    </tr>\n",
       "    <tr>\n",
       "      <th>4</th>\n",
       "      <td>0.0</td>\n",
       "      <td>0.0</td>\n",
       "      <td>0.0</td>\n",
       "      <td>1.0</td>\n",
       "      <td>0.0</td>\n",
       "      <td>0.0</td>\n",
       "      <td>0.0</td>\n",
       "      <td>0.0</td>\n",
       "      <td>0.0</td>\n",
       "      <td>0.0</td>\n",
       "      <td>...</td>\n",
       "      <td>0.0</td>\n",
       "      <td>0.0</td>\n",
       "      <td>0.0</td>\n",
       "      <td>0.0</td>\n",
       "      <td>0.0</td>\n",
       "      <td>0.0</td>\n",
       "      <td>0.0</td>\n",
       "      <td>1.0</td>\n",
       "      <td>0.0</td>\n",
       "      <td>0.0</td>\n",
       "    </tr>\n",
       "  </tbody>\n",
       "</table>\n",
       "<p>5 rows × 99 columns</p>\n",
       "</div>"
      ],
      "text/plain": [
       "   Federal-gov  Local-gov  Never-worked  Private  Self-emp-inc  \\\n",
       "0          0.0        0.0           0.0      1.0           0.0   \n",
       "1          0.0        0.0           0.0      1.0           0.0   \n",
       "2          0.0        0.0           0.0      1.0           0.0   \n",
       "3          0.0        0.0           0.0      1.0           0.0   \n",
       "4          0.0        0.0           0.0      1.0           0.0   \n",
       "\n",
       "   Self-emp-not-inc  State-gov  Without-pay  10th  11th  ...  Portugal  \\\n",
       "0               0.0        0.0          0.0   0.0   0.0  ...       0.0   \n",
       "1               0.0        0.0          0.0   0.0   0.0  ...       0.0   \n",
       "2               0.0        0.0          0.0   0.0   0.0  ...       0.0   \n",
       "3               0.0        0.0          0.0   0.0   0.0  ...       0.0   \n",
       "4               0.0        0.0          0.0   0.0   0.0  ...       0.0   \n",
       "\n",
       "   Puerto-Rico  Scotland  South  Taiwan  Thailand  Trinadad&Tobago  \\\n",
       "0          0.0       0.0    0.0     0.0       0.0              0.0   \n",
       "1          0.0       0.0    0.0     0.0       0.0              0.0   \n",
       "2          0.0       0.0    0.0     0.0       0.0              0.0   \n",
       "3          0.0       0.0    0.0     0.0       0.0              0.0   \n",
       "4          0.0       0.0    0.0     0.0       0.0              0.0   \n",
       "\n",
       "   United-States  Vietnam  Yugoslavia  \n",
       "0            1.0      0.0         0.0  \n",
       "1            1.0      0.0         0.0  \n",
       "2            1.0      0.0         0.0  \n",
       "3            1.0      0.0         0.0  \n",
       "4            1.0      0.0         0.0  \n",
       "\n",
       "[5 rows x 99 columns]"
      ]
     },
     "execution_count": 71,
     "metadata": {},
     "output_type": "execute_result"
    }
   ],
   "source": [
    "new_train_cat.head()"
   ]
  },
  {
   "cell_type": "code",
   "execution_count": 72,
   "metadata": {},
   "outputs": [
    {
     "data": {
      "text/plain": [
       "['workclass',\n",
       " 'education',\n",
       " 'marital_status',\n",
       " 'occupation',\n",
       " 'relationship',\n",
       " 'race',\n",
       " 'sex',\n",
       " 'native_country']"
      ]
     },
     "execution_count": 72,
     "metadata": {},
     "output_type": "execute_result"
    }
   ],
   "source": [
    "cat_columns"
   ]
  },
  {
   "cell_type": "code",
   "execution_count": 73,
   "metadata": {},
   "outputs": [],
   "source": [
    "# 인코딩된 카테고리 데이터를 뒤에 붙이고 원래있던 카테고리를 제거한다. \n",
    "tmp_train = pd.concat([tmp_train, new_train_cat], axis=1)\n",
    "tmp_valid = pd.concat([tmp_valid, new_valid_cat], axis=1)\n",
    "tmp_test = pd.concat([tmp_test, new_test_cat], axis=1)\n",
    "\n",
    "# 기존 범주형 변수 제거\n",
    "tmp_train = tmp_train.drop(columns=cat_columns)\n",
    "tmp_valid = tmp_valid.drop(columns=cat_columns)\n",
    "tmp_test = tmp_test.drop(columns=cat_columns)"
   ]
  },
  {
   "cell_type": "code",
   "execution_count": 74,
   "metadata": {},
   "outputs": [
    {
     "data": {
      "text/html": [
       "<div>\n",
       "<style scoped>\n",
       "    .dataframe tbody tr th:only-of-type {\n",
       "        vertical-align: middle;\n",
       "    }\n",
       "\n",
       "    .dataframe tbody tr th {\n",
       "        vertical-align: top;\n",
       "    }\n",
       "\n",
       "    .dataframe thead th {\n",
       "        text-align: right;\n",
       "    }\n",
       "</style>\n",
       "<table border=\"1\" class=\"dataframe\">\n",
       "  <thead>\n",
       "    <tr style=\"text-align: right;\">\n",
       "      <th></th>\n",
       "      <th>age</th>\n",
       "      <th>fnlwgt</th>\n",
       "      <th>education_num</th>\n",
       "      <th>hours_per_week</th>\n",
       "      <th>log_capital_gain</th>\n",
       "      <th>log_capital_loss</th>\n",
       "      <th>Federal-gov</th>\n",
       "      <th>Local-gov</th>\n",
       "      <th>Never-worked</th>\n",
       "      <th>Private</th>\n",
       "      <th>...</th>\n",
       "      <th>Portugal</th>\n",
       "      <th>Puerto-Rico</th>\n",
       "      <th>Scotland</th>\n",
       "      <th>South</th>\n",
       "      <th>Taiwan</th>\n",
       "      <th>Thailand</th>\n",
       "      <th>Trinadad&amp;Tobago</th>\n",
       "      <th>United-States</th>\n",
       "      <th>Vietnam</th>\n",
       "      <th>Yugoslavia</th>\n",
       "    </tr>\n",
       "  </thead>\n",
       "  <tbody>\n",
       "    <tr>\n",
       "      <th>0</th>\n",
       "      <td>0.325464</td>\n",
       "      <td>2.763660</td>\n",
       "      <td>-0.038697</td>\n",
       "      <td>-0.198176</td>\n",
       "      <td>3.038414</td>\n",
       "      <td>-0.220983</td>\n",
       "      <td>0.0</td>\n",
       "      <td>0.0</td>\n",
       "      <td>0.0</td>\n",
       "      <td>1.0</td>\n",
       "      <td>...</td>\n",
       "      <td>0.0</td>\n",
       "      <td>0.0</td>\n",
       "      <td>0.0</td>\n",
       "      <td>0.0</td>\n",
       "      <td>0.0</td>\n",
       "      <td>0.0</td>\n",
       "      <td>0.0</td>\n",
       "      <td>1.0</td>\n",
       "      <td>0.0</td>\n",
       "      <td>0.0</td>\n",
       "    </tr>\n",
       "    <tr>\n",
       "      <th>1</th>\n",
       "      <td>0.252364</td>\n",
       "      <td>-0.527452</td>\n",
       "      <td>-0.038697</td>\n",
       "      <td>-0.037252</td>\n",
       "      <td>-0.303296</td>\n",
       "      <td>-0.220983</td>\n",
       "      <td>0.0</td>\n",
       "      <td>0.0</td>\n",
       "      <td>0.0</td>\n",
       "      <td>1.0</td>\n",
       "      <td>...</td>\n",
       "      <td>0.0</td>\n",
       "      <td>0.0</td>\n",
       "      <td>0.0</td>\n",
       "      <td>0.0</td>\n",
       "      <td>0.0</td>\n",
       "      <td>0.0</td>\n",
       "      <td>0.0</td>\n",
       "      <td>1.0</td>\n",
       "      <td>0.0</td>\n",
       "      <td>0.0</td>\n",
       "    </tr>\n",
       "    <tr>\n",
       "      <th>2</th>\n",
       "      <td>0.106165</td>\n",
       "      <td>-0.130971</td>\n",
       "      <td>-0.038697</td>\n",
       "      <td>-0.037252</td>\n",
       "      <td>-0.303296</td>\n",
       "      <td>-0.220983</td>\n",
       "      <td>0.0</td>\n",
       "      <td>0.0</td>\n",
       "      <td>0.0</td>\n",
       "      <td>1.0</td>\n",
       "      <td>...</td>\n",
       "      <td>0.0</td>\n",
       "      <td>0.0</td>\n",
       "      <td>0.0</td>\n",
       "      <td>0.0</td>\n",
       "      <td>0.0</td>\n",
       "      <td>0.0</td>\n",
       "      <td>0.0</td>\n",
       "      <td>1.0</td>\n",
       "      <td>0.0</td>\n",
       "      <td>0.0</td>\n",
       "    </tr>\n",
       "    <tr>\n",
       "      <th>3</th>\n",
       "      <td>-0.697928</td>\n",
       "      <td>0.321262</td>\n",
       "      <td>-0.038697</td>\n",
       "      <td>0.365056</td>\n",
       "      <td>-0.303296</td>\n",
       "      <td>-0.220983</td>\n",
       "      <td>0.0</td>\n",
       "      <td>0.0</td>\n",
       "      <td>0.0</td>\n",
       "      <td>1.0</td>\n",
       "      <td>...</td>\n",
       "      <td>0.0</td>\n",
       "      <td>0.0</td>\n",
       "      <td>0.0</td>\n",
       "      <td>0.0</td>\n",
       "      <td>0.0</td>\n",
       "      <td>0.0</td>\n",
       "      <td>0.0</td>\n",
       "      <td>1.0</td>\n",
       "      <td>0.0</td>\n",
       "      <td>0.0</td>\n",
       "    </tr>\n",
       "    <tr>\n",
       "      <th>4</th>\n",
       "      <td>-1.282723</td>\n",
       "      <td>-0.447108</td>\n",
       "      <td>-0.428749</td>\n",
       "      <td>-0.037252</td>\n",
       "      <td>-0.303296</td>\n",
       "      <td>-0.220983</td>\n",
       "      <td>0.0</td>\n",
       "      <td>0.0</td>\n",
       "      <td>0.0</td>\n",
       "      <td>1.0</td>\n",
       "      <td>...</td>\n",
       "      <td>0.0</td>\n",
       "      <td>0.0</td>\n",
       "      <td>0.0</td>\n",
       "      <td>0.0</td>\n",
       "      <td>0.0</td>\n",
       "      <td>0.0</td>\n",
       "      <td>0.0</td>\n",
       "      <td>1.0</td>\n",
       "      <td>0.0</td>\n",
       "      <td>0.0</td>\n",
       "    </tr>\n",
       "  </tbody>\n",
       "</table>\n",
       "<p>5 rows × 105 columns</p>\n",
       "</div>"
      ],
      "text/plain": [
       "        age    fnlwgt  education_num  hours_per_week  log_capital_gain  \\\n",
       "0  0.325464  2.763660      -0.038697       -0.198176          3.038414   \n",
       "1  0.252364 -0.527452      -0.038697       -0.037252         -0.303296   \n",
       "2  0.106165 -0.130971      -0.038697       -0.037252         -0.303296   \n",
       "3 -0.697928  0.321262      -0.038697        0.365056         -0.303296   \n",
       "4 -1.282723 -0.447108      -0.428749       -0.037252         -0.303296   \n",
       "\n",
       "   log_capital_loss  Federal-gov  Local-gov  Never-worked  Private  ...  \\\n",
       "0         -0.220983          0.0        0.0           0.0      1.0  ...   \n",
       "1         -0.220983          0.0        0.0           0.0      1.0  ...   \n",
       "2         -0.220983          0.0        0.0           0.0      1.0  ...   \n",
       "3         -0.220983          0.0        0.0           0.0      1.0  ...   \n",
       "4         -0.220983          0.0        0.0           0.0      1.0  ...   \n",
       "\n",
       "   Portugal  Puerto-Rico  Scotland  South  Taiwan  Thailand  Trinadad&Tobago  \\\n",
       "0       0.0          0.0       0.0    0.0     0.0       0.0              0.0   \n",
       "1       0.0          0.0       0.0    0.0     0.0       0.0              0.0   \n",
       "2       0.0          0.0       0.0    0.0     0.0       0.0              0.0   \n",
       "3       0.0          0.0       0.0    0.0     0.0       0.0              0.0   \n",
       "4       0.0          0.0       0.0    0.0     0.0       0.0              0.0   \n",
       "\n",
       "   United-States  Vietnam  Yugoslavia  \n",
       "0            1.0      0.0         0.0  \n",
       "1            1.0      0.0         0.0  \n",
       "2            1.0      0.0         0.0  \n",
       "3            1.0      0.0         0.0  \n",
       "4            1.0      0.0         0.0  \n",
       "\n",
       "[5 rows x 105 columns]"
      ]
     },
     "execution_count": 74,
     "metadata": {},
     "output_type": "execute_result"
    }
   ],
   "source": [
    "tmp_train.head()"
   ]
  },
  {
   "cell_type": "code",
   "execution_count": 75,
   "metadata": {},
   "outputs": [],
   "source": [
    "tmp_y_train = y_train\n",
    "tmp_y_valid = y_valid"
   ]
  },
  {
   "cell_type": "markdown",
   "metadata": {},
   "source": [
    "### 2. Scikit-Learn 분류 모델 사용해보기\n",
    "Scikit-Learn의 기본 분류 모델을 사용해보겠습니다. <br>\n",
    "각 모델의 평가 메트릭은 대회 평가 메트릭인 f1_score를 사용합니다."
   ]
  },
  {
   "cell_type": "code",
   "execution_count": 76,
   "metadata": {},
   "outputs": [],
   "source": [
    "from sklearn.linear_model import LogisticRegression\n",
    "from sklearn.svm import SVC\n",
    "from sklearn.ensemble import RandomForestClassifier\n",
    "from xgboost import XGBClassifier\n",
    "from lightgbm import LGBMClassifier\n",
    "\n",
    "from sklearn.metrics import f1_score"
   ]
  },
  {
   "cell_type": "markdown",
   "metadata": {},
   "source": [
    "### 로지스틱 회귀 모델"
   ]
  },
  {
   "cell_type": "code",
   "execution_count": 35,
   "metadata": {},
   "outputs": [
    {
     "name": "stdout",
     "output_type": "stream",
     "text": [
      "Logistic Regression F1 Score: 0.8474728087012157\n"
     ]
    }
   ],
   "source": [
    "lr = LogisticRegression()\n",
    "\n",
    "lr.fit(tmp_train, tmp_y_train)\n",
    "\n",
    "y_pred = lr.predict(tmp_valid)\n",
    "\n",
    "print(f\"Logistic Regression F1 Score: {f1_score(tmp_y_valid, y_pred, average='micro')}\")"
   ]
  },
  {
   "cell_type": "markdown",
   "metadata": {},
   "source": [
    "### 서포트 벡터 머신(rbf 커널)"
   ]
  },
  {
   "cell_type": "code",
   "execution_count": 36,
   "metadata": {},
   "outputs": [
    {
     "name": "stdout",
     "output_type": "stream",
     "text": [
      "Support Vector Machine F1 Score: 0.8551503518873961\n"
     ]
    }
   ],
   "source": [
    "svc = SVC()\n",
    "\n",
    "svc.fit(tmp_train, tmp_y_train)\n",
    "\n",
    "y_pred = svc.predict(tmp_valid)\n",
    "\n",
    "print(f\"Support Vector Machine F1 Score: {f1_score(tmp_y_valid, y_pred, average='micro')}\")"
   ]
  },
  {
   "cell_type": "markdown",
   "metadata": {},
   "source": [
    "### 랜덤 포레스트"
   ]
  },
  {
   "cell_type": "code",
   "execution_count": 37,
   "metadata": {},
   "outputs": [
    {
     "name": "stdout",
     "output_type": "stream",
     "text": [
      "RandomForest F1 Score: 0.8547664747280871\n"
     ]
    }
   ],
   "source": [
    "rf = RandomForestClassifier()\n",
    "\n",
    "rf.fit(tmp_train, tmp_y_train)\n",
    "\n",
    "y_pred = rf.predict(tmp_valid)\n",
    "\n",
    "print(f\"RandomForest F1 Score: {f1_score(tmp_y_valid, y_pred, average='micro')}\")"
   ]
  },
  {
   "cell_type": "markdown",
   "metadata": {},
   "source": [
    "## XGBoost"
   ]
  },
  {
   "cell_type": "code",
   "execution_count": 38,
   "metadata": {},
   "outputs": [
    {
     "name": "stdout",
     "output_type": "stream",
     "text": [
      "XGBoost F1 Score: 0.8628278950735765\n"
     ]
    }
   ],
   "source": [
    "xgb = XGBClassifier()\n",
    "# xgb = XGBClassifier(tree_method='gpu_hist') #gpu 사용\n",
    "\n",
    "xgb.fit(tmp_train, tmp_y_train)\n",
    "\n",
    "y_pred = xgb.predict(tmp_valid)\n",
    "\n",
    "print(f\"XGBoost F1 Score: {f1_score(tmp_y_valid, y_pred, average='micro')}\")"
   ]
  },
  {
   "cell_type": "markdown",
   "metadata": {},
   "source": [
    "## LightGBM"
   ]
  },
  {
   "cell_type": "code",
   "execution_count": 39,
   "metadata": {},
   "outputs": [
    {
     "name": "stdout",
     "output_type": "stream",
     "text": [
      "LightGBM F1 Score: 0.8701215611004478\n"
     ]
    }
   ],
   "source": [
    "lgb = LGBMClassifier()\n",
    "#lgb = LGBMClassifier(tree_method='gpu_hist') #gpu 사용\n",
    "lgb.fit(tmp_train, tmp_y_train)\n",
    "\n",
    "y_pred = lgb.predict(tmp_valid)\n",
    "\n",
    "print(f\"LightGBM F1 Score: {f1_score(tmp_y_valid, y_pred, average='micro')}\")"
   ]
  },
  {
   "cell_type": "markdown",
   "metadata": {},
   "source": [
    "## k-Fold Cross Vaildation"
   ]
  },
  {
   "cell_type": "code",
   "execution_count": 81,
   "metadata": {},
   "outputs": [],
   "source": [
    "def preprocess(x_train, x_valid, x_test):\n",
    "    tmp_x_train = x_train.copy()\n",
    "    tmp_x_valid = x_valid.copy()\n",
    "    tmp_x_test  = x_test.copy()\n",
    "    \n",
    "    tmp_x_train = tmp_x_train.reset_index(drop=True)\n",
    "    tmp_x_valid = tmp_x_valid.reset_index(drop=True)\n",
    "    tmp_x_test  = tmp_x_test.reset_index(drop=True)\n",
    "    \n",
    "    for c in na_columns:\n",
    "        tmp_x_train.loc[tmp_x_train[c] == '?', c] = tmp_x_train[c].mode()[0]\n",
    "        tmp_x_valid.loc[tmp_x_valid[c] == '?', c] = tmp_x_valid[c].mode()[0]\n",
    "        tmp_x_test.loc[tmp_x_test[c]   == '?', c] = tmp_x_test[c].mode()[0]\n",
    "    \n",
    "    tmp_x_train['log_capital_loss'] = tmp_x_train['capital_loss'].map(lambda x : np.log(x) if x != 0 else 0)\n",
    "    tmp_x_valid['log_capital_loss'] = tmp_x_valid['capital_loss'].map(lambda x : np.log(x) if x != 0 else 0)\n",
    "    tmp_x_test['log_capital_loss'] = tmp_x_test['capital_loss'].map(lambda x : np.log(x) if x != 0 else 0)\n",
    "    \n",
    "    tmp_x_train['log_capital_gain'] = tmp_x_train['capital_gain'].map(lambda x : np.log(x) if x != 0 else 0)\n",
    "    tmp_x_valid['log_capital_gain'] = tmp_x_valid['capital_gain'].map(lambda x : np.log(x) if x != 0 else 0)\n",
    "    tmp_x_test['log_capital_gain'] = tmp_x_test['capital_gain'].map(lambda x : np.log(x) if x != 0 else 0)\n",
    "    \n",
    "    tmp_x_train = tmp_x_train.drop(columns=['capital_loss', 'capital_gain'])\n",
    "    tmp_x_valid = tmp_x_valid.drop(columns=['capital_loss', 'capital_gain'])\n",
    "    tmp_x_test  = tmp_x_test.drop(columns=['capital_loss', 'capital_gain'])\n",
    "    \n",
    "    scaler = StandardScaler()\n",
    "    tmp_x_train[num_columns] = scaler.fit_transform(tmp_x_train[num_columns])\n",
    "    tmp_x_valid[num_columns] = scaler.transform(tmp_x_valid[num_columns])\n",
    "    tmp_x_test[num_columns]  = scaler.transform(tmp_x_test[num_columns])\n",
    "    \n",
    "    tmp_all = pd.concat([tmp_x_train, tmp_x_valid, tmp_x_test])\n",
    "\n",
    "    ohe = OneHotEncoder(sparse=False)\n",
    "    ohe.fit(tmp_all[cat_columns])\n",
    "    \n",
    "    ohe_columns = list()\n",
    "    for lst in ohe.categories_:\n",
    "        ohe_columns += lst.tolist()\n",
    "    \n",
    "    tmp_train_cat = pd.DataFrame(ohe.transform(tmp_x_train[cat_columns]), columns=ohe_columns)\n",
    "    tmp_valid_cat = pd.DataFrame(ohe.transform(tmp_x_valid[cat_columns]), columns=ohe_columns)\n",
    "    tmp_test_cat  = pd.DataFrame(ohe.transform(tmp_x_test[cat_columns]), columns=ohe_columns)\n",
    "    \n",
    "    tmp_x_train = pd.concat([tmp_x_train, tmp_train_cat], axis=1)\n",
    "    tmp_x_valid = pd.concat([tmp_x_valid, tmp_valid_cat], axis=1)\n",
    "    tmp_x_test = pd.concat([tmp_x_test, tmp_test_cat], axis=1)\n",
    "\n",
    "    tmp_x_train = tmp_x_train.drop(columns=cat_columns)\n",
    "    tmp_x_valid = tmp_x_valid.drop(columns=cat_columns)\n",
    "    tmp_x_test = tmp_x_test.drop(columns=cat_columns)\n",
    "    \n",
    "    return tmp_x_train.values, tmp_x_valid.values, tmp_x_test.values"
   ]
  },
  {
   "cell_type": "code",
   "execution_count": 82,
   "metadata": {},
   "outputs": [],
   "source": [
    "# F1-Score 를 계산해주는 함수\n",
    "def xgb_f1(y, t, threshold=0.5):\n",
    "    t = t.get_label()\n",
    "    y_bin = (y > threshold).astype(int) \n",
    "    return 'f1',f1_score(t, y_bin, average='micro')"
   ]
  },
  {
   "cell_type": "code",
   "execution_count": 83,
   "metadata": {},
   "outputs": [],
   "source": [
    "#StartifiedKFold - 클래스 비율의 맞춰서 비율이 일정하게 나눠준다.\n",
    "# K-Fold 는 클래스비율의 상관없이 나눈다.\n",
    "from sklearn.model_selection import StratifiedKFold\n",
    "n_splits = 5\n",
    "skf = StratifiedKFold(n_splits=n_splits, shuffle=True, random_state=2020)"
   ]
  },
  {
   "cell_type": "code",
   "execution_count": 85,
   "metadata": {},
   "outputs": [
    {
     "name": "stdout",
     "output_type": "stream",
     "text": [
      "[0]\tvalidation_0-error:0.157198\tvalidation_0-f1:0.842802\n",
      "Multiple eval metrics have been passed: 'validation_0-f1' will be used for early stopping.\n",
      "\n",
      "Will train until validation_0-f1 hasn't improved in 100 rounds.\n",
      "[99]\tvalidation_0-error:0.138388\tvalidation_0-f1:0.861612\n",
      "0 Fold, train f1_score : 0.84164, validation f1_score : 0.8428\n",
      "\n",
      "[0]\tvalidation_0-error:0.155854\tvalidation_0-f1:0.844146\n",
      "Multiple eval metrics have been passed: 'validation_0-f1' will be used for early stopping.\n",
      "\n",
      "Will train until validation_0-f1 hasn't improved in 100 rounds.\n",
      "[99]\tvalidation_0-error:0.136468\tvalidation_0-f1:0.863532\n",
      "1 Fold, train f1_score : 0.84134, validation f1_score : 0.8441\n",
      "\n",
      "[0]\tvalidation_0-error:0.162764\tvalidation_0-f1:0.837236\n",
      "Multiple eval metrics have been passed: 'validation_0-f1' will be used for early stopping.\n",
      "\n",
      "Will train until validation_0-f1 hasn't improved in 100 rounds.\n",
      "[99]\tvalidation_0-error:0.140499\tvalidation_0-f1:0.859501\n",
      "2 Fold, train f1_score : 0.84314, validation f1_score : 0.8372\n",
      "\n",
      "[0]\tvalidation_0-error:0.157965\tvalidation_0-f1:0.842035\n",
      "Multiple eval metrics have been passed: 'validation_0-f1' will be used for early stopping.\n",
      "\n",
      "Will train until validation_0-f1 hasn't improved in 100 rounds.\n",
      "[99]\tvalidation_0-error:0.13858\tvalidation_0-f1:0.86142\n",
      "3 Fold, train f1_score : 0.84054, validation f1_score : 0.8420\n",
      "\n",
      "[0]\tvalidation_0-error:0.159916\tvalidation_0-f1:0.840084\n",
      "Multiple eval metrics have been passed: 'validation_0-f1' will be used for early stopping.\n",
      "\n",
      "Will train until validation_0-f1 hasn't improved in 100 rounds.\n",
      "[99]\tvalidation_0-error:0.134767\tvalidation_0-f1:0.865233\n",
      "4 Fold, train f1_score : 0.84244, validation f1_score : 0.8401\n",
      "\n",
      "Cross Validation Score : 0.8413\n"
     ]
    }
   ],
   "source": [
    "val_scores = list()\n",
    "oof_pred = np.zeros((test.shape[0],))\n",
    "\n",
    "#skf.split 을 하면 인덱스만 준다. 그래서 iloc으로 처리해줘야한다.\n",
    "for i, (trn_idx, val_idx) in enumerate(skf.split(train, label)):\n",
    "    x_train, y_train = train.iloc[trn_idx, :], label[trn_idx]\n",
    "    x_valid, y_valid = train.iloc[val_idx, :], label[val_idx]\n",
    "    \n",
    "    # 전처리\n",
    "    x_train, x_valid, x_test = preprocess(x_train, x_valid, test)\n",
    "    \n",
    "    # 모델 정의\n",
    "    clf = XGBClassifier()\n",
    "    \n",
    "    # 모델 학습\n",
    "    clf.fit(x_train, y_train,\n",
    "            eval_set = [[x_valid, y_valid]], \n",
    "            eval_metric = xgb_f1,        \n",
    "            early_stopping_rounds = 100,\n",
    "            verbose = 100,  )\n",
    "\n",
    "    # 훈련, 검증 데이터 Log Loss 확인\n",
    "    trn_f1_score = f1_score(y_train, clf.predict(x_train), average='micro')\n",
    "    val_f1_score = f1_score(y_valid, clf.predict(x_valid), average='micro')\n",
    "    print('{} Fold, train f1_score : {:.4f}4, validation f1_score : {:.4f}\\n'.format(i, trn_f1_score, val_f1_score))\n",
    "    \n",
    "    val_scores.append(val_f1_score)\n",
    "    \n",
    "\n",
    "# 교차 검증 F1 Score 평균 계산하기\n",
    "print('Cross Validation Score : {:.4f}'.format(np.mean(val_scores)))"
   ]
  },
  {
   "cell_type": "markdown",
   "metadata": {},
   "source": [
    "### 4. OOF(Out-Of-Fold) 앙상블\n",
    "k-Fold를 활용해서 모델 검증 및 각 폴드의 결과를 앙상블하는 OOF 앙상블 입니다."
   ]
  },
  {
   "cell_type": "code",
   "execution_count": 86,
   "metadata": {},
   "outputs": [
    {
     "name": "stdout",
     "output_type": "stream",
     "text": [
      "[0]\tvalidation_0-error:0.157198\tvalidation_0-f1:0.842802\n",
      "Multiple eval metrics have been passed: 'validation_0-f1' will be used for early stopping.\n",
      "\n",
      "Will train until validation_0-f1 hasn't improved in 100 rounds.\n",
      "[99]\tvalidation_0-error:0.138388\tvalidation_0-f1:0.861612\n",
      "0 Fold, train f1_score : 0.84164, validation f1_score : 0.8428\n",
      "\n",
      "[0]\tvalidation_0-error:0.155854\tvalidation_0-f1:0.844146\n",
      "Multiple eval metrics have been passed: 'validation_0-f1' will be used for early stopping.\n",
      "\n",
      "Will train until validation_0-f1 hasn't improved in 100 rounds.\n",
      "[99]\tvalidation_0-error:0.136468\tvalidation_0-f1:0.863532\n",
      "1 Fold, train f1_score : 0.84134, validation f1_score : 0.8441\n",
      "\n",
      "[0]\tvalidation_0-error:0.162764\tvalidation_0-f1:0.837236\n",
      "Multiple eval metrics have been passed: 'validation_0-f1' will be used for early stopping.\n",
      "\n",
      "Will train until validation_0-f1 hasn't improved in 100 rounds.\n",
      "[99]\tvalidation_0-error:0.140499\tvalidation_0-f1:0.859501\n",
      "2 Fold, train f1_score : 0.84314, validation f1_score : 0.8372\n",
      "\n",
      "[0]\tvalidation_0-error:0.157965\tvalidation_0-f1:0.842035\n",
      "Multiple eval metrics have been passed: 'validation_0-f1' will be used for early stopping.\n",
      "\n",
      "Will train until validation_0-f1 hasn't improved in 100 rounds.\n",
      "[99]\tvalidation_0-error:0.13858\tvalidation_0-f1:0.86142\n",
      "3 Fold, train f1_score : 0.84054, validation f1_score : 0.8420\n",
      "\n",
      "[0]\tvalidation_0-error:0.159916\tvalidation_0-f1:0.840084\n",
      "Multiple eval metrics have been passed: 'validation_0-f1' will be used for early stopping.\n",
      "\n",
      "Will train until validation_0-f1 hasn't improved in 100 rounds.\n",
      "[99]\tvalidation_0-error:0.134767\tvalidation_0-f1:0.865233\n",
      "4 Fold, train f1_score : 0.84244, validation f1_score : 0.8401\n",
      "\n",
      "Cross Validation Score : 0.8413\n"
     ]
    }
   ],
   "source": [
    "val_scores = list()\n",
    "oof_pred = np.zeros((test.shape[0], ))\n",
    "\n",
    "for i, (trn_idx, val_idx) in enumerate(skf.split(train, label)):\n",
    "    x_train, y_train = train.iloc[trn_idx, :], label[trn_idx]\n",
    "    x_valid, y_valid = train.iloc[val_idx, :], label[val_idx]\n",
    "    \n",
    "    # 전처리\n",
    "    x_train, x_valid, x_test = preprocess(x_train, x_valid, test)\n",
    "    \n",
    "    # 모델 정의\n",
    "    clf = XGBClassifier()\n",
    "    \n",
    "    # 모델 학습\n",
    "    clf.fit(x_train, y_train,\n",
    "            eval_set = [[x_valid, y_valid]], \n",
    "            eval_metric = xgb_f1,        \n",
    "            early_stopping_rounds = 100,\n",
    "            verbose = 100,  )\n",
    "\n",
    "    # 훈련, 검증 데이터 F1 Score 확인\n",
    "    trn_f1_score = f1_score(y_train, clf.predict(x_train), average='micro')\n",
    "    val_f1_score = f1_score(y_valid, clf.predict(x_valid), average='micro')\n",
    "    print('{} Fold, train f1_score : {:.4f}4, validation f1_score : {:.4f}\\n'.format(i, trn_f1_score, val_f1_score))\n",
    "    \n",
    "    val_scores.append(val_f1_score)\n",
    "    \n",
    "    oof_pred += clf.predict_proba(x_test)[:, 1] / n_splits\n",
    "    \n",
    "\n",
    "# 교차 검증 F1 Score 평균 계산하기\n",
    "print('Cross Validation Score : {:.4f}'.format(np.mean(val_scores)))"
   ]
  },
  {
   "cell_type": "markdown",
   "metadata": {},
   "source": [
    "### 5. Stacking 앙상블\n",
    "2 stage 앙상블인 Stacking 앙상블 입니다. Stacking 앙상블은 수십개의 1 stage 모델의 결과를 모아 2 stage 모델로 학습 후 결과를 내는 앙상블 방식입니다.\n",
    "\n",
    "#### 1) 1 stage 결과 모으기\n",
    "Stacking 앙상블을 진행할 1 stage 모델의 결과(train, test)를 모읍니다. "
   ]
  },
  {
   "cell_type": "code",
   "execution_count": null,
   "metadata": {},
   "outputs": [],
   "source": [
    "val_scores = list()\n",
    "\n",
    "new_x_train_list = [np.zeros((train.shape[0], 1)) for _ in range(4)]\n",
    "new_x_test_list  = [np.zeros((test.shape[0], 1)) for _ in range(4)]\n",
    "\n",
    "for i, (trn_idx, val_idx) in enumerate(skf.split(train, label)):\n",
    "    print(f\"Fold {i} Start\")\n",
    "    x_train, y_train = train.iloc[trn_idx, :], label[trn_idx]\n",
    "    x_valid, y_valid = train.iloc[val_idx, :], label[val_idx]\n",
    "    \n",
    "    # 전처리\n",
    "    x_train, x_valid, x_test = preprocess(x_train, x_valid, test)\n",
    "    \n",
    "    # 모델 정의\n",
    "    clfs = [LogisticRegression(), \n",
    "            RandomForestClassifier(), \n",
    "            XGBClassifier(tree_method='gpu_hist'), \n",
    "            LGBMClassifier(tree_method='gpu_hist')]\n",
    "    \n",
    "    for model_idx, clf in enumerate(clfs):\n",
    "        clf.fit(x_train, y_train)\n",
    "        \n",
    "        new_x_train_list[model_idx][val_idx, :] = clf.predict_proba(x_valid)[:, 1].reshape(-1, 1)\n",
    "        new_x_test_list[model_idx][:] += clf.predict_proba(x_test)[:, 1].reshape(-1, 1) / n_splitsㅠ"
   ]
  },
  {
   "cell_type": "code",
   "execution_count": null,
   "metadata": {},
   "outputs": [],
   "source": [
    "new_train = pd.DataFrame(np.concatenate(new_x_train_list, axis=1), columns=None)\n",
    "new_label = label\n",
    "new_test = pd.DataFrame(np.concatenate(new_x_test_list, axis=1), columns=None)\n",
    "\n",
    "new_train.shape, new_label.shape, new_test.shape"
   ]
  },
  {
   "cell_type": "markdown",
   "metadata": {},
   "source": [
    "#### 2) 2 Stage Meta Model 학습\n",
    "new_train, new_test에 들어있는 변수는 모두 수치형 변수이므로 Standard Scaling만 진행하겠습니다.<br>\n",
    "새로 생성한 데이터 new_train, new_test 데이터를 가지고 2 Stage Meta Model을 학습하고 결과를 만듭니다."
   ]
  },
  {
   "cell_type": "code",
   "execution_count": null,
   "metadata": {},
   "outputs": [],
   "source": [
    "val_scores = list()\n",
    "oof_pred = np.zeros((test.shape[0], ))\n",
    "\n",
    "for i, (trn_idx, val_idx) in enumerate(skf.split(new_train, new_label)):\n",
    "    x_train, y_train = new_train.iloc[trn_idx, :], new_label[trn_idx]\n",
    "    x_valid, y_valid = new_train.iloc[val_idx, :], new_label[val_idx]\n",
    "    \n",
    "    # 전처리\n",
    "    scaler = StandardScaler()\n",
    "    x_train = scaler.fit_transform(x_train)\n",
    "    x_valid = scaler.transform(x_valid)\n",
    "    x_test  = scaler.transform(new_test)\n",
    "    \n",
    "    # 모델 정의\n",
    "    clf = XGBClassifier(tree_method='gpu_hist')\n",
    "    \n",
    "    # 모델 학습\n",
    "    clf.fit(x_train, y_train,\n",
    "            eval_set = [[x_valid, y_valid]], \n",
    "            eval_metric = xgb_f1,        \n",
    "            early_stopping_rounds = 100,\n",
    "            verbose = 100,  )\n",
    "\n",
    "    # 훈련, 검증 데이터 F1 Score 확인\n",
    "    trn_f1_score = f1_score(y_train, clf.predict(x_train), average='micro')\n",
    "    val_f1_score = f1_score(y_valid, clf.predict(x_valid), average='micro')\n",
    "    print('{} Fold, train f1_score : {:.4f}4, validation f1_score : {:.4f}\\n'.format(i, trn_f1_score, val_f1_score))\n",
    "    \n",
    "    val_scores.append(val_f1_score)\n",
    "    \n",
    "    oof_pred += clf.predict_proba(x_test)[:, 1] / n_splits\n",
    "    \n",
    "\n",
    "# 교차 검증 F1 Score 평균 계산하기\n",
    "print('Cross Validation Score : {:.4f}'.format(np.mean(val_scores)))"
   ]
  },
  {
   "cell_type": "markdown",
   "metadata": {},
   "source": [
    "### 6. 결과 만들기"
   ]
  },
  {
   "cell_type": "code",
   "execution_count": null,
   "metadata": {},
   "outputs": [],
   "source": [
    "submit = pd.read_csv(\"/kaggle/input/kakr-4th-competition/sample_submission.csv\")"
   ]
  },
  {
   "cell_type": "code",
   "execution_count": null,
   "metadata": {},
   "outputs": [],
   "source": [
    "submit.loc[:, 'prediction'] = (oof_pred > 0.5).astype(int)"
   ]
  },
  {
   "cell_type": "code",
   "execution_count": null,
   "metadata": {},
   "outputs": [],
   "source": [
    "submit.head()"
   ]
  },
  {
   "cell_type": "code",
   "execution_count": null,
   "metadata": {},
   "outputs": [],
   "source": [
    "submit.to_csv('submission.csv', index=False)"
   ]
  }
 ],
 "metadata": {
  "kernelspec": {
   "display_name": "Python 3",
   "language": "python",
   "name": "python3"
  },
  "language_info": {
   "codemirror_mode": {
    "name": "ipython",
    "version": 3
   },
   "file_extension": ".py",
   "mimetype": "text/x-python",
   "name": "python",
   "nbconvert_exporter": "python",
   "pygments_lexer": "ipython3",
   "version": "3.7.6"
  }
 },
 "nbformat": 4,
 "nbformat_minor": 4
}
