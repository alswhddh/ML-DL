{
 "cells": [
  {
   "cell_type": "code",
   "execution_count": 2,
   "metadata": {},
   "outputs": [],
   "source": [
    "import warnings\n",
    "warnings.filterwarnings(\"ignore\")\n",
    "\n",
    "import pandas as pd\n",
    "import numpy as np\n",
    "import matplotlib.pyplot as plt\n",
    "import matplotlib as mpl\n",
    "\n",
    "\n",
    "import seaborn as sns\n",
    "import scipy as sp\n",
    "from scipy import stats # statistics\n",
    "from mpl_toolkits.mplot3d import Axes3D, axes3d\n",
    "\n",
    "\n",
    "from matplotlib.colors import ListedColormap\n",
    "\n",
    "# import mglearn\n",
    "\n",
    "from sklearn.datasets import make_blobs #random 한 데이터 묶음을 만들어 줌.\n",
    "from sklearn.model_selection import train_test_split\n",
    "from sklearn import datasets, preprocessing\n",
    "from tensorflow.keras.models import Sequential\n",
    "from tensorflow.keras.layers import Dense\n",
    "from tensorflow.keras.callbacks import EarlyStopping, ModelCheckpoint\n",
    "from tensorflow.keras.layers import LSTM"
   ]
  },
  {
   "cell_type": "code",
   "execution_count": 3,
   "metadata": {},
   "outputs": [
    {
     "data": {
      "text/plain": [
       "'0.9.6'"
      ]
     },
     "execution_count": 3,
     "metadata": {},
     "output_type": "execute_result"
    }
   ],
   "source": [
    "import FinanceDataReader as fdr\n",
    "fdr.__version__"
   ]
  },
  {
   "cell_type": "code",
   "execution_count": 4,
   "metadata": {},
   "outputs": [
    {
     "data": {
      "text/html": [
       "<div>\n",
       "<style scoped>\n",
       "    .dataframe tbody tr th:only-of-type {\n",
       "        vertical-align: middle;\n",
       "    }\n",
       "\n",
       "    .dataframe tbody tr th {\n",
       "        vertical-align: top;\n",
       "    }\n",
       "\n",
       "    .dataframe thead th {\n",
       "        text-align: right;\n",
       "    }\n",
       "</style>\n",
       "<table border=\"1\" class=\"dataframe\">\n",
       "  <thead>\n",
       "    <tr style=\"text-align: right;\">\n",
       "      <th></th>\n",
       "      <th>Date</th>\n",
       "      <th>시가</th>\n",
       "      <th>고가</th>\n",
       "      <th>저가</th>\n",
       "      <th>종가</th>\n",
       "      <th>거래량</th>\n",
       "      <th>수익률</th>\n",
       "    </tr>\n",
       "  </thead>\n",
       "  <tbody>\n",
       "    <tr>\n",
       "      <th>1</th>\n",
       "      <td>2002-10-30</td>\n",
       "      <td>8244</td>\n",
       "      <td>8244</td>\n",
       "      <td>8152</td>\n",
       "      <td>8245</td>\n",
       "      <td>853638</td>\n",
       "      <td>0.119332</td>\n",
       "    </tr>\n",
       "    <tr>\n",
       "      <th>2</th>\n",
       "      <td>2002-10-31</td>\n",
       "      <td>8369</td>\n",
       "      <td>8570</td>\n",
       "      <td>7641</td>\n",
       "      <td>7835</td>\n",
       "      <td>1320880</td>\n",
       "      <td>-0.049727</td>\n",
       "    </tr>\n",
       "    <tr>\n",
       "      <th>3</th>\n",
       "      <td>2002-11-01</td>\n",
       "      <td>8036</td>\n",
       "      <td>8287</td>\n",
       "      <td>7065</td>\n",
       "      <td>7349</td>\n",
       "      <td>750761</td>\n",
       "      <td>-0.062029</td>\n",
       "    </tr>\n",
       "    <tr>\n",
       "      <th>4</th>\n",
       "      <td>2002-11-04</td>\n",
       "      <td>7281</td>\n",
       "      <td>7331</td>\n",
       "      <td>6804</td>\n",
       "      <td>6981</td>\n",
       "      <td>692165</td>\n",
       "      <td>-0.050075</td>\n",
       "    </tr>\n",
       "    <tr>\n",
       "      <th>5</th>\n",
       "      <td>2002-11-05</td>\n",
       "      <td>6946</td>\n",
       "      <td>7315</td>\n",
       "      <td>6946</td>\n",
       "      <td>6973</td>\n",
       "      <td>627360</td>\n",
       "      <td>-0.001146</td>\n",
       "    </tr>\n",
       "    <tr>\n",
       "      <th>...</th>\n",
       "      <td>...</td>\n",
       "      <td>...</td>\n",
       "      <td>...</td>\n",
       "      <td>...</td>\n",
       "      <td>...</td>\n",
       "      <td>...</td>\n",
       "      <td>...</td>\n",
       "    </tr>\n",
       "    <tr>\n",
       "      <th>4243</th>\n",
       "      <td>2019-12-23</td>\n",
       "      <td>185000</td>\n",
       "      <td>185500</td>\n",
       "      <td>182000</td>\n",
       "      <td>184000</td>\n",
       "      <td>250256</td>\n",
       "      <td>0.002725</td>\n",
       "    </tr>\n",
       "    <tr>\n",
       "      <th>4244</th>\n",
       "      <td>2019-12-24</td>\n",
       "      <td>184000</td>\n",
       "      <td>184000</td>\n",
       "      <td>179000</td>\n",
       "      <td>182000</td>\n",
       "      <td>193440</td>\n",
       "      <td>-0.010870</td>\n",
       "    </tr>\n",
       "    <tr>\n",
       "      <th>4245</th>\n",
       "      <td>2019-12-26</td>\n",
       "      <td>181500</td>\n",
       "      <td>183000</td>\n",
       "      <td>179000</td>\n",
       "      <td>180500</td>\n",
       "      <td>173426</td>\n",
       "      <td>-0.008242</td>\n",
       "    </tr>\n",
       "    <tr>\n",
       "      <th>4246</th>\n",
       "      <td>2019-12-27</td>\n",
       "      <td>182000</td>\n",
       "      <td>185000</td>\n",
       "      <td>179000</td>\n",
       "      <td>183500</td>\n",
       "      <td>323473</td>\n",
       "      <td>0.016620</td>\n",
       "    </tr>\n",
       "    <tr>\n",
       "      <th>4247</th>\n",
       "      <td>2019-12-30</td>\n",
       "      <td>183500</td>\n",
       "      <td>190000</td>\n",
       "      <td>183500</td>\n",
       "      <td>186500</td>\n",
       "      <td>376541</td>\n",
       "      <td>0.016349</td>\n",
       "    </tr>\n",
       "  </tbody>\n",
       "</table>\n",
       "<p>4247 rows × 7 columns</p>\n",
       "</div>"
      ],
      "text/plain": [
       "           Date      시가      고가      저가      종가      거래량       수익률\n",
       "1    2002-10-30    8244    8244    8152    8245   853638  0.119332\n",
       "2    2002-10-31    8369    8570    7641    7835  1320880 -0.049727\n",
       "3    2002-11-01    8036    8287    7065    7349   750761 -0.062029\n",
       "4    2002-11-04    7281    7331    6804    6981   692165 -0.050075\n",
       "5    2002-11-05    6946    7315    6946    6973   627360 -0.001146\n",
       "...         ...     ...     ...     ...     ...      ...       ...\n",
       "4243 2019-12-23  185000  185500  182000  184000   250256  0.002725\n",
       "4244 2019-12-24  184000  184000  179000  182000   193440 -0.010870\n",
       "4245 2019-12-26  181500  183000  179000  180500   173426 -0.008242\n",
       "4246 2019-12-27  182000  185000  179000  183500   323473  0.016620\n",
       "4247 2019-12-30  183500  190000  183500  186500   376541  0.016349\n",
       "\n",
       "[4247 rows x 7 columns]"
      ]
     },
     "execution_count": 4,
     "metadata": {},
     "output_type": "execute_result"
    }
   ],
   "source": [
    "df_KOSPI_price_naver = fdr.DataReader('035420', '20021029','20200101')\n",
    "df_KOSPI_price_naver.rename(columns = {'Date':'일자','Open':'시가','High':'고가','Low':'저가','Close':'종가','Volume':'거래량','Change':'수익률'}, inplace=True)\n",
    "df_KOSPI_price_naver = df_KOSPI_price_naver.reset_index()\n",
    "df_KOSPI_price_naver = df_KOSPI_price_naver.dropna(axis=0)\n",
    "df_KOSPI_price_naver"
   ]
  },
  {
   "cell_type": "code",
   "execution_count": 5,
   "metadata": {},
   "outputs": [
    {
     "data": {
      "text/html": [
       "<div>\n",
       "<style scoped>\n",
       "    .dataframe tbody tr th:only-of-type {\n",
       "        vertical-align: middle;\n",
       "    }\n",
       "\n",
       "    .dataframe tbody tr th {\n",
       "        vertical-align: top;\n",
       "    }\n",
       "\n",
       "    .dataframe thead th {\n",
       "        text-align: right;\n",
       "    }\n",
       "</style>\n",
       "<table border=\"1\" class=\"dataframe\">\n",
       "  <thead>\n",
       "    <tr style=\"text-align: right;\">\n",
       "      <th></th>\n",
       "      <th>일자</th>\n",
       "      <th>시가</th>\n",
       "      <th>고가</th>\n",
       "      <th>저가</th>\n",
       "      <th>종가</th>\n",
       "      <th>거래량</th>\n",
       "      <th>수익률</th>\n",
       "    </tr>\n",
       "  </thead>\n",
       "  <tbody>\n",
       "    <tr>\n",
       "      <th>1</th>\n",
       "      <td>2002-10-30</td>\n",
       "      <td>8244</td>\n",
       "      <td>8244</td>\n",
       "      <td>8152</td>\n",
       "      <td>8245</td>\n",
       "      <td>853638</td>\n",
       "      <td>0.119332</td>\n",
       "    </tr>\n",
       "    <tr>\n",
       "      <th>2</th>\n",
       "      <td>2002-10-31</td>\n",
       "      <td>8369</td>\n",
       "      <td>8570</td>\n",
       "      <td>7641</td>\n",
       "      <td>7835</td>\n",
       "      <td>1320880</td>\n",
       "      <td>-0.049727</td>\n",
       "    </tr>\n",
       "    <tr>\n",
       "      <th>3</th>\n",
       "      <td>2002-11-01</td>\n",
       "      <td>8036</td>\n",
       "      <td>8287</td>\n",
       "      <td>7065</td>\n",
       "      <td>7349</td>\n",
       "      <td>750761</td>\n",
       "      <td>-0.062029</td>\n",
       "    </tr>\n",
       "    <tr>\n",
       "      <th>4</th>\n",
       "      <td>2002-11-04</td>\n",
       "      <td>7281</td>\n",
       "      <td>7331</td>\n",
       "      <td>6804</td>\n",
       "      <td>6981</td>\n",
       "      <td>692165</td>\n",
       "      <td>-0.050075</td>\n",
       "    </tr>\n",
       "    <tr>\n",
       "      <th>5</th>\n",
       "      <td>2002-11-05</td>\n",
       "      <td>6946</td>\n",
       "      <td>7315</td>\n",
       "      <td>6946</td>\n",
       "      <td>6973</td>\n",
       "      <td>627360</td>\n",
       "      <td>-0.001146</td>\n",
       "    </tr>\n",
       "    <tr>\n",
       "      <th>...</th>\n",
       "      <td>...</td>\n",
       "      <td>...</td>\n",
       "      <td>...</td>\n",
       "      <td>...</td>\n",
       "      <td>...</td>\n",
       "      <td>...</td>\n",
       "      <td>...</td>\n",
       "    </tr>\n",
       "    <tr>\n",
       "      <th>4243</th>\n",
       "      <td>2019-12-23</td>\n",
       "      <td>185000</td>\n",
       "      <td>185500</td>\n",
       "      <td>182000</td>\n",
       "      <td>184000</td>\n",
       "      <td>250256</td>\n",
       "      <td>0.002725</td>\n",
       "    </tr>\n",
       "    <tr>\n",
       "      <th>4244</th>\n",
       "      <td>2019-12-24</td>\n",
       "      <td>184000</td>\n",
       "      <td>184000</td>\n",
       "      <td>179000</td>\n",
       "      <td>182000</td>\n",
       "      <td>193440</td>\n",
       "      <td>-0.010870</td>\n",
       "    </tr>\n",
       "    <tr>\n",
       "      <th>4245</th>\n",
       "      <td>2019-12-26</td>\n",
       "      <td>181500</td>\n",
       "      <td>183000</td>\n",
       "      <td>179000</td>\n",
       "      <td>180500</td>\n",
       "      <td>173426</td>\n",
       "      <td>-0.008242</td>\n",
       "    </tr>\n",
       "    <tr>\n",
       "      <th>4246</th>\n",
       "      <td>2019-12-27</td>\n",
       "      <td>182000</td>\n",
       "      <td>185000</td>\n",
       "      <td>179000</td>\n",
       "      <td>183500</td>\n",
       "      <td>323473</td>\n",
       "      <td>0.016620</td>\n",
       "    </tr>\n",
       "    <tr>\n",
       "      <th>4247</th>\n",
       "      <td>2019-12-30</td>\n",
       "      <td>183500</td>\n",
       "      <td>190000</td>\n",
       "      <td>183500</td>\n",
       "      <td>186500</td>\n",
       "      <td>376541</td>\n",
       "      <td>0.016349</td>\n",
       "    </tr>\n",
       "  </tbody>\n",
       "</table>\n",
       "<p>4247 rows × 7 columns</p>\n",
       "</div>"
      ],
      "text/plain": [
       "             일자      시가      고가      저가      종가      거래량       수익률\n",
       "1    2002-10-30    8244    8244    8152    8245   853638  0.119332\n",
       "2    2002-10-31    8369    8570    7641    7835  1320880 -0.049727\n",
       "3    2002-11-01    8036    8287    7065    7349   750761 -0.062029\n",
       "4    2002-11-04    7281    7331    6804    6981   692165 -0.050075\n",
       "5    2002-11-05    6946    7315    6946    6973   627360 -0.001146\n",
       "...         ...     ...     ...     ...     ...      ...       ...\n",
       "4243 2019-12-23  185000  185500  182000  184000   250256  0.002725\n",
       "4244 2019-12-24  184000  184000  179000  182000   193440 -0.010870\n",
       "4245 2019-12-26  181500  183000  179000  180500   173426 -0.008242\n",
       "4246 2019-12-27  182000  185000  179000  183500   323473  0.016620\n",
       "4247 2019-12-30  183500  190000  183500  186500   376541  0.016349\n",
       "\n",
       "[4247 rows x 7 columns]"
      ]
     },
     "execution_count": 5,
     "metadata": {},
     "output_type": "execute_result"
    }
   ],
   "source": [
    "df_KOSPI_price_naver.rename(columns = {'Date':'일자'}, inplace=True)\n",
    "\n",
    "df_KOSPI_price_naver"
   ]
  },
  {
   "cell_type": "code",
   "execution_count": 6,
   "metadata": {},
   "outputs": [],
   "source": [
    "pd.to_datetime(df_KOSPI_price_naver['일자'], format='%Y%m%d')\n",
    "# 0      2020-01-07\n",
    "# 1      2020-01-06\n",
    "# 2      2020-01-03\n",
    "# 3      2020-01-02\n",
    "# 4      2019-12-30\n",
    "\n",
    "df_KOSPI_price_naver['일자'] = pd.to_datetime(df_KOSPI_price_naver['일자'], format='%Y%m%d')\n",
    "df_KOSPI_price_naver['연도'] =df_KOSPI_price_naver['일자'].dt.year\n",
    "df_KOSPI_price_naver['월'] =df_KOSPI_price_naver['일자'].dt.month\n",
    "df_KOSPI_price_naver['일'] =df_KOSPI_price_naver['일자'].dt.day"
   ]
  },
  {
   "cell_type": "code",
   "execution_count": 7,
   "metadata": {},
   "outputs": [
    {
     "name": "stdout",
     "output_type": "stream",
     "text": [
      "<class 'pandas.core.frame.DataFrame'>\n",
      "Int64Index: 4247 entries, 1 to 4247\n",
      "Data columns (total 10 columns):\n",
      " #   Column  Non-Null Count  Dtype         \n",
      "---  ------  --------------  -----         \n",
      " 0   일자      4247 non-null   datetime64[ns]\n",
      " 1   시가      4247 non-null   int64         \n",
      " 2   고가      4247 non-null   int64         \n",
      " 3   저가      4247 non-null   int64         \n",
      " 4   종가      4247 non-null   int64         \n",
      " 5   거래량     4247 non-null   int64         \n",
      " 6   수익률     4247 non-null   float64       \n",
      " 7   연도      4247 non-null   int64         \n",
      " 8   월       4247 non-null   int64         \n",
      " 9   일       4247 non-null   int64         \n",
      "dtypes: datetime64[ns](1), float64(1), int64(8)\n",
      "memory usage: 365.0 KB\n"
     ]
    }
   ],
   "source": [
    "df_KOSPI_price_naver.info()"
   ]
  },
  {
   "cell_type": "code",
   "execution_count": 8,
   "metadata": {},
   "outputs": [
    {
     "data": {
      "text/html": [
       "<div>\n",
       "<style scoped>\n",
       "    .dataframe tbody tr th:only-of-type {\n",
       "        vertical-align: middle;\n",
       "    }\n",
       "\n",
       "    .dataframe tbody tr th {\n",
       "        vertical-align: top;\n",
       "    }\n",
       "\n",
       "    .dataframe thead th {\n",
       "        text-align: right;\n",
       "    }\n",
       "</style>\n",
       "<table border=\"1\" class=\"dataframe\">\n",
       "  <thead>\n",
       "    <tr style=\"text-align: right;\">\n",
       "      <th></th>\n",
       "      <th>일자</th>\n",
       "      <th>시가</th>\n",
       "      <th>고가</th>\n",
       "      <th>저가</th>\n",
       "      <th>종가</th>\n",
       "      <th>거래량</th>\n",
       "      <th>수익률</th>\n",
       "      <th>연도</th>\n",
       "      <th>월</th>\n",
       "      <th>일</th>\n",
       "    </tr>\n",
       "  </thead>\n",
       "  <tbody>\n",
       "    <tr>\n",
       "      <th>1</th>\n",
       "      <td>2002-10-30</td>\n",
       "      <td>8244</td>\n",
       "      <td>8244</td>\n",
       "      <td>8152</td>\n",
       "      <td>8245</td>\n",
       "      <td>853638</td>\n",
       "      <td>0.119332</td>\n",
       "      <td>2002</td>\n",
       "      <td>10</td>\n",
       "      <td>30</td>\n",
       "    </tr>\n",
       "    <tr>\n",
       "      <th>2</th>\n",
       "      <td>2002-10-31</td>\n",
       "      <td>8369</td>\n",
       "      <td>8570</td>\n",
       "      <td>7641</td>\n",
       "      <td>7835</td>\n",
       "      <td>1320880</td>\n",
       "      <td>-0.049727</td>\n",
       "      <td>2002</td>\n",
       "      <td>10</td>\n",
       "      <td>31</td>\n",
       "    </tr>\n",
       "    <tr>\n",
       "      <th>3</th>\n",
       "      <td>2002-11-01</td>\n",
       "      <td>8036</td>\n",
       "      <td>8287</td>\n",
       "      <td>7065</td>\n",
       "      <td>7349</td>\n",
       "      <td>750761</td>\n",
       "      <td>-0.062029</td>\n",
       "      <td>2002</td>\n",
       "      <td>11</td>\n",
       "      <td>1</td>\n",
       "    </tr>\n",
       "    <tr>\n",
       "      <th>4</th>\n",
       "      <td>2002-11-04</td>\n",
       "      <td>7281</td>\n",
       "      <td>7331</td>\n",
       "      <td>6804</td>\n",
       "      <td>6981</td>\n",
       "      <td>692165</td>\n",
       "      <td>-0.050075</td>\n",
       "      <td>2002</td>\n",
       "      <td>11</td>\n",
       "      <td>4</td>\n",
       "    </tr>\n",
       "    <tr>\n",
       "      <th>5</th>\n",
       "      <td>2002-11-05</td>\n",
       "      <td>6946</td>\n",
       "      <td>7315</td>\n",
       "      <td>6946</td>\n",
       "      <td>6973</td>\n",
       "      <td>627360</td>\n",
       "      <td>-0.001146</td>\n",
       "      <td>2002</td>\n",
       "      <td>11</td>\n",
       "      <td>5</td>\n",
       "    </tr>\n",
       "    <tr>\n",
       "      <th>...</th>\n",
       "      <td>...</td>\n",
       "      <td>...</td>\n",
       "      <td>...</td>\n",
       "      <td>...</td>\n",
       "      <td>...</td>\n",
       "      <td>...</td>\n",
       "      <td>...</td>\n",
       "      <td>...</td>\n",
       "      <td>...</td>\n",
       "      <td>...</td>\n",
       "    </tr>\n",
       "    <tr>\n",
       "      <th>4243</th>\n",
       "      <td>2019-12-23</td>\n",
       "      <td>185000</td>\n",
       "      <td>185500</td>\n",
       "      <td>182000</td>\n",
       "      <td>184000</td>\n",
       "      <td>250256</td>\n",
       "      <td>0.002725</td>\n",
       "      <td>2019</td>\n",
       "      <td>12</td>\n",
       "      <td>23</td>\n",
       "    </tr>\n",
       "    <tr>\n",
       "      <th>4244</th>\n",
       "      <td>2019-12-24</td>\n",
       "      <td>184000</td>\n",
       "      <td>184000</td>\n",
       "      <td>179000</td>\n",
       "      <td>182000</td>\n",
       "      <td>193440</td>\n",
       "      <td>-0.010870</td>\n",
       "      <td>2019</td>\n",
       "      <td>12</td>\n",
       "      <td>24</td>\n",
       "    </tr>\n",
       "    <tr>\n",
       "      <th>4245</th>\n",
       "      <td>2019-12-26</td>\n",
       "      <td>181500</td>\n",
       "      <td>183000</td>\n",
       "      <td>179000</td>\n",
       "      <td>180500</td>\n",
       "      <td>173426</td>\n",
       "      <td>-0.008242</td>\n",
       "      <td>2019</td>\n",
       "      <td>12</td>\n",
       "      <td>26</td>\n",
       "    </tr>\n",
       "    <tr>\n",
       "      <th>4246</th>\n",
       "      <td>2019-12-27</td>\n",
       "      <td>182000</td>\n",
       "      <td>185000</td>\n",
       "      <td>179000</td>\n",
       "      <td>183500</td>\n",
       "      <td>323473</td>\n",
       "      <td>0.016620</td>\n",
       "      <td>2019</td>\n",
       "      <td>12</td>\n",
       "      <td>27</td>\n",
       "    </tr>\n",
       "    <tr>\n",
       "      <th>4247</th>\n",
       "      <td>2019-12-30</td>\n",
       "      <td>183500</td>\n",
       "      <td>190000</td>\n",
       "      <td>183500</td>\n",
       "      <td>186500</td>\n",
       "      <td>376541</td>\n",
       "      <td>0.016349</td>\n",
       "      <td>2019</td>\n",
       "      <td>12</td>\n",
       "      <td>30</td>\n",
       "    </tr>\n",
       "  </tbody>\n",
       "</table>\n",
       "<p>4247 rows × 10 columns</p>\n",
       "</div>"
      ],
      "text/plain": [
       "             일자      시가      고가      저가      종가      거래량       수익률    연도   월  \\\n",
       "1    2002-10-30    8244    8244    8152    8245   853638  0.119332  2002  10   \n",
       "2    2002-10-31    8369    8570    7641    7835  1320880 -0.049727  2002  10   \n",
       "3    2002-11-01    8036    8287    7065    7349   750761 -0.062029  2002  11   \n",
       "4    2002-11-04    7281    7331    6804    6981   692165 -0.050075  2002  11   \n",
       "5    2002-11-05    6946    7315    6946    6973   627360 -0.001146  2002  11   \n",
       "...         ...     ...     ...     ...     ...      ...       ...   ...  ..   \n",
       "4243 2019-12-23  185000  185500  182000  184000   250256  0.002725  2019  12   \n",
       "4244 2019-12-24  184000  184000  179000  182000   193440 -0.010870  2019  12   \n",
       "4245 2019-12-26  181500  183000  179000  180500   173426 -0.008242  2019  12   \n",
       "4246 2019-12-27  182000  185000  179000  183500   323473  0.016620  2019  12   \n",
       "4247 2019-12-30  183500  190000  183500  186500   376541  0.016349  2019  12   \n",
       "\n",
       "       일  \n",
       "1     30  \n",
       "2     31  \n",
       "3      1  \n",
       "4      4  \n",
       "5      5  \n",
       "...   ..  \n",
       "4243  23  \n",
       "4244  24  \n",
       "4245  26  \n",
       "4246  27  \n",
       "4247  30  \n",
       "\n",
       "[4247 rows x 10 columns]"
      ]
     },
     "execution_count": 8,
     "metadata": {},
     "output_type": "execute_result"
    }
   ],
   "source": [
    "df_KOSPI_price_naver"
   ]
  },
  {
   "cell_type": "code",
   "execution_count": 10,
   "metadata": {},
   "outputs": [
    {
     "name": "stdout",
     "output_type": "stream",
     "text": [
      "            시가        고가        저가        종가       거래량       수익률\n",
      "0     0.027946  0.027480  0.028908  0.007332  0.160927  0.967306\n",
      "1     0.028369  0.028567  0.027096  0.005913  0.249010  0.760185\n",
      "2     0.027241  0.027623  0.025053  0.004230  0.141532  0.745113\n",
      "3     0.024681  0.024437  0.024128  0.002956  0.130486  0.759759\n",
      "4     0.023546  0.024383  0.024631  0.002929  0.118269  0.819704\n",
      "...        ...       ...       ...       ...       ...       ...\n",
      "4242  0.627119  0.618333  0.645390  0.615748  0.047178  0.824446\n",
      "4243  0.623729  0.613333  0.634752  0.608825  0.036467  0.807791\n",
      "4244  0.615254  0.610000  0.634752  0.603632  0.032694  0.811010\n",
      "4245  0.616949  0.616667  0.634752  0.614017  0.060981  0.841470\n",
      "4246  0.622034  0.633333  0.650709  0.624402  0.070985  0.841137\n",
      "\n",
      "[4247 rows x 6 columns]\n"
     ]
    }
   ],
   "source": [
    "from sklearn.preprocessing import MinMaxScaler\n",
    "\n",
    "scaler = MinMaxScaler()\n",
    "scale_cols = ['시가', '고가', '저가', '종가', '거래량','수익률']\n",
    "df_KOSPI_price_naver_scaled = scaler.fit_transform(df_KOSPI_price_naver[scale_cols])\n",
    "\n",
    "df_KOSPI_price_naver_scaled = pd.DataFrame(df_KOSPI_price_naver_scaled)\n",
    "df_KOSPI_price_naver_scaled.columns = scale_cols\n",
    "\n",
    "print(df_KOSPI_price_naver_scaled)"
   ]
  },
  {
   "cell_type": "code",
   "execution_count": 13,
   "metadata": {},
   "outputs": [],
   "source": [
    "TEST_SIZE = 200"
   ]
  },
  {
   "cell_type": "code",
   "execution_count": 14,
   "metadata": {},
   "outputs": [],
   "source": [
    "train = df_KOSPI_price_naver_scaled[:-TEST_SIZE]\n",
    "test = df_KOSPI_price_naver_scaled[-TEST_SIZE:]"
   ]
  },
  {
   "cell_type": "code",
   "execution_count": 15,
   "metadata": {},
   "outputs": [],
   "source": [
    "def make_dataset(data, label, window_size=20):\n",
    "    feature_list = []\n",
    "    label_list = []\n",
    "    for i in range(len(data) - window_size):\n",
    "        feature_list.append(np.array(data.iloc[i:i+window_size]))\n",
    "        label_list.append(np.array(label.iloc[i+window_size]))\n",
    "    return np.array(feature_list), np.array(label_list)"
   ]
  },
  {
   "cell_type": "code",
   "execution_count": 16,
   "metadata": {},
   "outputs": [
    {
     "data": {
      "text/plain": [
       "((3221, 20, 5), (806, 20, 5))"
      ]
     },
     "execution_count": 16,
     "metadata": {},
     "output_type": "execute_result"
    }
   ],
   "source": [
    "feature_cols = ['시가', '고가', '저가', '거래량','수익률']\n",
    "label_cols = ['종가']\n",
    "\n",
    "train_feature = train[feature_cols]\n",
    "train_label = train[label_cols]\n",
    "test_feature = test[feature_cols]\n",
    "test_label = test[label_cols]\n",
    "\n",
    "# train dataset\n",
    "train_feature, train_label = make_dataset(train_feature, train_label, 20)\n",
    "\n",
    "# train, validation set 생성\n",
    "from sklearn.model_selection import train_test_split\n",
    "x_train, x_valid, y_train, y_valid = train_test_split(train_feature, train_label, test_size=0.2)\n",
    "\n",
    "x_train.shape, x_valid.shape\n",
    "# ((6086, 20, 4), (1522, 20, 4))\n",
    "\n",
    "# test dataset (실제 예측 해볼 데이터)\n",
    "# test_feature, test_label = make_dataset(test_feature, test_label, 20)\n",
    "# test_feature.shape, test_label.shape\n",
    "# ((180, 20, 4), (180, 1))"
   ]
  },
  {
   "cell_type": "code",
   "execution_count": 17,
   "metadata": {},
   "outputs": [
    {
     "data": {
      "text/plain": [
       "((180, 20, 5), (180, 1))"
      ]
     },
     "execution_count": 17,
     "metadata": {},
     "output_type": "execute_result"
    }
   ],
   "source": [
    "test_feature, test_label = make_dataset(test_feature, test_label, 20)\n",
    "test_feature.shape, test_label.shape"
   ]
  },
  {
   "cell_type": "code",
   "execution_count": 18,
   "metadata": {},
   "outputs": [
    {
     "name": "stdout",
     "output_type": "stream",
     "text": [
      "WARNING:tensorflow:From /opt/anaconda3/lib/python3.7/site-packages/tensorflow/python/ops/resource_variable_ops.py:435: colocate_with (from tensorflow.python.framework.ops) is deprecated and will be removed in a future version.\n",
      "Instructions for updating:\n",
      "Colocations handled automatically by placer.\n"
     ]
    }
   ],
   "source": [
    "model = Sequential()\n",
    "model.add(LSTM(16, \n",
    "               input_shape=(train_feature.shape[1], train_feature.shape[2]), \n",
    "               activation='relu', \n",
    "               return_sequences=False)\n",
    "          )\n",
    "model.add(Dense(1))"
   ]
  },
  {
   "cell_type": "code",
   "execution_count": 19,
   "metadata": {},
   "outputs": [
    {
     "name": "stdout",
     "output_type": "stream",
     "text": [
      "WARNING:tensorflow:From /opt/anaconda3/lib/python3.7/site-packages/tensorflow/python/keras/utils/losses_utils.py:170: to_float (from tensorflow.python.ops.math_ops) is deprecated and will be removed in a future version.\n",
      "Instructions for updating:\n",
      "Use tf.cast instead.\n",
      "Train on 3221 samples, validate on 806 samples\n",
      "WARNING:tensorflow:From /opt/anaconda3/lib/python3.7/site-packages/tensorflow/python/ops/math_ops.py:3066: to_int32 (from tensorflow.python.ops.math_ops) is deprecated and will be removed in a future version.\n",
      "Instructions for updating:\n",
      "Use tf.cast instead.\n",
      "Epoch 1/200\n",
      "3216/3221 [============================>.] - ETA: 0s - loss: 0.0035\n",
      "Epoch 00001: val_loss improved from inf to 0.00070, saving model to checkpoint-epoch-batch-trial-001.h5\n",
      "3221/3221 [==============================] - 9s 3ms/sample - loss: 0.0035 - val_loss: 6.9656e-04\n",
      "Epoch 2/200\n",
      "3216/3221 [============================>.] - ETA: 0s - loss: 6.0520e-04\n",
      "Epoch 00002: val_loss improved from 0.00070 to 0.00053, saving model to checkpoint-epoch-batch-trial-001.h5\n",
      "3221/3221 [==============================] - 7s 2ms/sample - loss: 6.0567e-04 - val_loss: 5.2811e-04\n",
      "Epoch 3/200\n",
      "3216/3221 [============================>.] - ETA: 0s - loss: 4.7601e-04\n",
      "Epoch 00003: val_loss improved from 0.00053 to 0.00040, saving model to checkpoint-epoch-batch-trial-001.h5\n",
      "3221/3221 [==============================] - 7s 2ms/sample - loss: 4.7537e-04 - val_loss: 3.9840e-04\n",
      "Epoch 4/200\n",
      "3216/3221 [============================>.] - ETA: 0s - loss: 3.4913e-04\n",
      "Epoch 00004: val_loss improved from 0.00040 to 0.00031, saving model to checkpoint-epoch-batch-trial-001.h5\n",
      "3221/3221 [==============================] - 7s 2ms/sample - loss: 3.4895e-04 - val_loss: 3.0556e-04\n",
      "Epoch 5/200\n",
      "3216/3221 [============================>.] - ETA: 0s - loss: 3.2105e-04\n",
      "Epoch 00005: val_loss did not improve from 0.00031\n",
      "3221/3221 [==============================] - 7s 2ms/sample - loss: 3.2078e-04 - val_loss: 3.9414e-04\n",
      "Epoch 6/200\n",
      "3216/3221 [============================>.] - ETA: 0s - loss: 3.0441e-04\n",
      "Epoch 00006: val_loss improved from 0.00031 to 0.00028, saving model to checkpoint-epoch-batch-trial-001.h5\n",
      "3221/3221 [==============================] - 7s 2ms/sample - loss: 3.0440e-04 - val_loss: 2.7581e-04\n",
      "Epoch 7/200\n",
      "3216/3221 [============================>.] - ETA: 0s - loss: 3.0138e-04\n",
      "Epoch 00007: val_loss improved from 0.00028 to 0.00023, saving model to checkpoint-epoch-batch-trial-001.h5\n",
      "3221/3221 [==============================] - 7s 2ms/sample - loss: 3.0104e-04 - val_loss: 2.2915e-04\n",
      "Epoch 8/200\n",
      "3216/3221 [============================>.] - ETA: 0s - loss: 2.6185e-04\n",
      "Epoch 00008: val_loss did not improve from 0.00023\n",
      "3221/3221 [==============================] - 7s 2ms/sample - loss: 2.6152e-04 - val_loss: 2.8950e-04\n",
      "Epoch 9/200\n",
      "3216/3221 [============================>.] - ETA: 0s - loss: 2.6277e-04\n",
      "Epoch 00009: val_loss did not improve from 0.00023\n",
      "3221/3221 [==============================] - 7s 2ms/sample - loss: 2.6275e-04 - val_loss: 2.5060e-04\n",
      "Epoch 10/200\n",
      "3216/3221 [============================>.] - ETA: 0s - loss: 2.5120e-04\n",
      "Epoch 00010: val_loss improved from 0.00023 to 0.00020, saving model to checkpoint-epoch-batch-trial-001.h5\n",
      "3221/3221 [==============================] - 7s 2ms/sample - loss: 2.5094e-04 - val_loss: 1.9851e-04\n",
      "Epoch 11/200\n",
      "3216/3221 [============================>.] - ETA: 0s - loss: 2.5341e-04\n",
      "Epoch 00011: val_loss did not improve from 0.00020\n",
      "3221/3221 [==============================] - 7s 2ms/sample - loss: 2.5341e-04 - val_loss: 3.2437e-04\n",
      "Epoch 12/200\n",
      "3216/3221 [============================>.] - ETA: 0s - loss: 2.7266e-04\n",
      "Epoch 00012: val_loss did not improve from 0.00020\n",
      "3221/3221 [==============================] - 7s 2ms/sample - loss: 2.7239e-04 - val_loss: 2.2641e-04\n",
      "Epoch 13/200\n",
      "3216/3221 [============================>.] - ETA: 0s - loss: 2.3621e-04\n",
      "Epoch 00013: val_loss did not improve from 0.00020\n",
      "3221/3221 [==============================] - 7s 2ms/sample - loss: 2.3600e-04 - val_loss: 1.9944e-04\n",
      "Epoch 14/200\n",
      "3216/3221 [============================>.] - ETA: 0s - loss: 2.1545e-04\n",
      "Epoch 00014: val_loss improved from 0.00020 to 0.00019, saving model to checkpoint-epoch-batch-trial-001.h5\n",
      "3221/3221 [==============================] - 7s 2ms/sample - loss: 2.1520e-04 - val_loss: 1.9342e-04\n",
      "Epoch 15/200\n",
      "3216/3221 [============================>.] - ETA: 0s - loss: 2.1912e-04\n",
      "Epoch 00015: val_loss improved from 0.00019 to 0.00018, saving model to checkpoint-epoch-batch-trial-001.h5\n",
      "3221/3221 [==============================] - 7s 2ms/sample - loss: 2.1886e-04 - val_loss: 1.8463e-04\n",
      "Epoch 16/200\n",
      "3216/3221 [============================>.] - ETA: 0s - loss: 2.0752e-04\n",
      "Epoch 00016: val_loss improved from 0.00018 to 0.00016, saving model to checkpoint-epoch-batch-trial-001.h5\n",
      "3221/3221 [==============================] - 7s 2ms/sample - loss: 2.0722e-04 - val_loss: 1.6005e-04\n",
      "Epoch 17/200\n",
      "3216/3221 [============================>.] - ETA: 0s - loss: 1.9864e-04\n",
      "Epoch 00017: val_loss did not improve from 0.00016\n",
      "3221/3221 [==============================] - 7s 2ms/sample - loss: 1.9850e-04 - val_loss: 1.7524e-04\n",
      "Epoch 18/200\n",
      "3216/3221 [============================>.] - ETA: 0s - loss: 2.3163e-04\n",
      "Epoch 00018: val_loss improved from 0.00016 to 0.00016, saving model to checkpoint-epoch-batch-trial-001.h5\n",
      "3221/3221 [==============================] - 7s 2ms/sample - loss: 2.3139e-04 - val_loss: 1.5738e-04\n",
      "Epoch 19/200\n",
      "3216/3221 [============================>.] - ETA: 0s - loss: 1.8707e-04\n",
      "Epoch 00019: val_loss did not improve from 0.00016\n",
      "3221/3221 [==============================] - 7s 2ms/sample - loss: 1.8739e-04 - val_loss: 1.8304e-04\n",
      "Epoch 20/200\n",
      "3216/3221 [============================>.] - ETA: 0s - loss: 1.9820e-04\n",
      "Epoch 00020: val_loss did not improve from 0.00016\n",
      "3221/3221 [==============================] - 7s 2ms/sample - loss: 1.9805e-04 - val_loss: 1.9532e-04\n",
      "Epoch 21/200\n",
      "3216/3221 [============================>.] - ETA: 0s - loss: 2.0107e-04\n",
      "Epoch 00021: val_loss did not improve from 0.00016\n",
      "3221/3221 [==============================] - 7s 2ms/sample - loss: 2.0093e-04 - val_loss: 1.6651e-04\n",
      "Epoch 22/200\n",
      "3216/3221 [============================>.] - ETA: 0s - loss: 2.1186e-04\n",
      "Epoch 00022: val_loss did not improve from 0.00016\n",
      "3221/3221 [==============================] - 7s 2ms/sample - loss: 2.1156e-04 - val_loss: 1.5943e-04\n",
      "Epoch 23/200\n",
      "3216/3221 [============================>.] - ETA: 0s - loss: 1.9174e-04\n",
      "Epoch 00023: val_loss did not improve from 0.00016\n",
      "3221/3221 [==============================] - 7s 2ms/sample - loss: 1.9148e-04 - val_loss: 1.6960e-04\n"
     ]
    }
   ],
   "source": [
    "model.compile(loss='mean_squared_error', optimizer='adam')\n",
    "early_stop = EarlyStopping(monitor='val_loss', patience=5)\n",
    "filename = 'checkpoint-epoch-batch-trial-001.h5'\n",
    "checkpoint = ModelCheckpoint(filename, monitor='val_loss', verbose=1, save_best_only=True, mode='auto')\n",
    "\n",
    "history = model.fit(x_train, y_train, \n",
    "                    epochs=200, \n",
    "                    batch_size=16,\n",
    "                    validation_data=(x_valid, y_valid), \n",
    "                    callbacks=[early_stop, checkpoint])"
   ]
  },
  {
   "cell_type": "code",
   "execution_count": 20,
   "metadata": {},
   "outputs": [],
   "source": [
    "model.load_weights(filename)"
   ]
  },
  {
   "cell_type": "code",
   "execution_count": 21,
   "metadata": {},
   "outputs": [
    {
     "data": {
      "text/plain": [
       "180"
      ]
     },
     "execution_count": 21,
     "metadata": {},
     "output_type": "execute_result"
    }
   ],
   "source": [
    "pred = model.predict(test_feature)\n",
    "len(pred)\n",
    "#print(pred)"
   ]
  },
  {
   "cell_type": "code",
   "execution_count": 22,
   "metadata": {},
   "outputs": [
    {
     "data": {
      "text/plain": [
       "array([ 0.00000000e+00,  0.00000000e+00,  0.00000000e+00,  6.12700000e+03,\n",
       "        0.00000000e+00, -6.70214408e-01])"
      ]
     },
     "execution_count": 22,
     "metadata": {},
     "output_type": "execute_result"
    }
   ],
   "source": [
    "scaler.data_min_"
   ]
  },
  {
   "cell_type": "code",
   "execution_count": 23,
   "metadata": {},
   "outputs": [
    {
     "data": {
      "text/plain": [
       "array([2.95000000e+05, 3.00000000e+05, 2.82000000e+05, 2.95000000e+05,\n",
       "       5.30451900e+06, 1.46017699e-01])"
      ]
     },
     "execution_count": 23,
     "metadata": {},
     "output_type": "execute_result"
    }
   ],
   "source": [
    "scaler.data_max_"
   ]
  },
  {
   "cell_type": "code",
   "execution_count": 24,
   "metadata": {},
   "outputs": [
    {
     "data": {
      "text/plain": [
       "0.00733194171833297"
      ]
     },
     "execution_count": 24,
     "metadata": {},
     "output_type": "execute_result"
    }
   ],
   "source": [
    "# 8245\n",
    "# 0.007332  \n",
    "(8245 - 6127)/(295000 - 6127)"
   ]
  },
  {
   "cell_type": "code",
   "execution_count": 25,
   "metadata": {},
   "outputs": [
    {
     "data": {
      "text/plain": [
       "8245.016835999999"
      ]
     },
     "execution_count": 25,
     "metadata": {},
     "output_type": "execute_result"
    }
   ],
   "source": [
    " ( 0.007332  * (295000 - 6127) ) +  6127"
   ]
  },
  {
   "cell_type": "code",
   "execution_count": 28,
   "metadata": {},
   "outputs": [
    {
     "ename": "IndexError",
     "evalue": "index 1479 is out of bounds for axis 0 with size 180",
     "output_type": "error",
     "traceback": [
      "\u001b[0;31m---------------------------------------------------------------------------\u001b[0m",
      "\u001b[0;31mIndexError\u001b[0m                                Traceback (most recent call last)",
      "\u001b[0;32m<ipython-input-28-2a20744dd24b>\u001b[0m in \u001b[0;36m<module>\u001b[0;34m\u001b[0m\n\u001b[0;32m----> 1\u001b[0;31m \u001b[0;34m(\u001b[0m\u001b[0mpred\u001b[0m\u001b[0;34m[\u001b[0m\u001b[0;36m1479\u001b[0m\u001b[0;34m]\u001b[0m \u001b[0;34m*\u001b[0m \u001b[0;34m(\u001b[0m\u001b[0;36m295000\u001b[0m \u001b[0;34m-\u001b[0m \u001b[0;36m6127\u001b[0m\u001b[0;34m)\u001b[0m \u001b[0;34m)\u001b[0m \u001b[0;34m+\u001b[0m  \u001b[0;36m6127\u001b[0m\u001b[0;34m\u001b[0m\u001b[0;34m\u001b[0m\u001b[0m\n\u001b[0m",
      "\u001b[0;31mIndexError\u001b[0m: index 1479 is out of bounds for axis 0 with size 180"
     ]
    }
   ],
   "source": [
    "(pred[1479] * (295000 - 6127) ) +  6127"
   ]
  },
  {
   "cell_type": "code",
   "execution_count": 27,
   "metadata": {},
   "outputs": [
    {
     "data": {
      "image/png": "[encoded data removed]",
      "text/plain": [
       "<Figure size 864x648 with 1 Axes>"
      ]
     },
     "metadata": {
      "needs_background": "light"
     },
     "output_type": "display_data"
    }
   ],
   "source": [
    "plt.figure(figsize=(12, 9))\n",
    "plt.plot(test_label, label='actual')\n",
    "plt.plot(pred, label='prediction')\n",
    "plt.legend()\n",
    "plt.show()"
   ]
  },
  {
   "cell_type": "code",
   "execution_count": null,
   "metadata": {},
   "outputs": [],
   "source": []
  }
 ],
 "metadata": {
  "kernelspec": {
   "display_name": "Python 3",
   "language": "python",
   "name": "python3"
  },
  "language_info": {
   "codemirror_mode": {
    "name": "ipython",
    "version": 3
   },
   "file_extension": ".py",
   "mimetype": "text/x-python",
   "name": "python",
   "nbconvert_exporter": "python",
   "pygments_lexer": "ipython3",
   "version": "3.7.6"
  }
 },
 "nbformat": 4,
 "nbformat_minor": 2
}
