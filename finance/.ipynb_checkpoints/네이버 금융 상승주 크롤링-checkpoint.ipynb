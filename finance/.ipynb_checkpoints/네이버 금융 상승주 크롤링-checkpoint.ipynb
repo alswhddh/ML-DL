{
 "cells": [
  {
   "cell_type": "code",
   "execution_count": 1,
   "metadata": {},
   "outputs": [],
   "source": [
    "import requests\n",
    "from bs4 import BeautifulSoup"
   ]
  },
  {
   "cell_type": "code",
   "execution_count": 4,
   "metadata": {},
   "outputs": [],
   "source": [
    "url = 'http://finance.naver.com'\n",
    "res = requests.get(url)\n",
    "soup = BeautifulSoup(res.text, 'html.parser')"
   ]
  },
  {
   "cell_type": "code",
   "execution_count": 19,
   "metadata": {},
   "outputs": [
    {
     "name": "stdout",
     "output_type": "stream",
     "text": [
      "루미마이크로 : 현재가 2,310, 어제보다 30 상승, 백분율 변환 시+1.32%\n",
      "KODEX 200선물인버스2X : 현재가 4,200, 어제보다 65 하락, 백분율 변환 시-1.52%\n",
      "아주IB투자 : 현재가 2,375, 어제보다 350 상승, 백분율 변환 시+17.28%\n",
      "우리기술 : 현재가 1,485, 어제보다 140 상승, 백분율 변환 시+10.41%\n",
      "모트렉스 : 현재가 6,810, 어제보다 420 상승, 백분율 변환 시+6.57%\n",
      "콤텍시스템 : 현재가 1,625, 어제보다 10 하락, 백분율 변환 시-0.61%\n",
      "\n",
      "어제보다 상승한 종목은 [ 루미마이크로, 아주IB투자, 우리기술, 모트렉스 ]입니다.\n",
      "어제보다 가장 많이 상승한 종목은 [ 아주IB투자 (+17.28%) ]입니다.\n"
     ]
    }
   ],
   "source": [
    "top_items = soup.find('tbody', {'id':'_topItems1'})\n",
    "item_rows = top_items.find_all('tr') \n",
    "\n",
    "plus_items = [] # 백분율 변화량이 + 부호인 종목들을 모을 list\n",
    "highest_item = {'top_name':'', 'percent_change':0} # 백분율 변화량이 + 부호인 종목 중 가장 큰 비율로 증가한 종목을 담을 dict\n",
    "\n",
    "for item in item_rows:\n",
    "    item_name = item.find('th').get_text()\n",
    "    item_price = item.find_all('td')[0].get_text()\n",
    "    item_delta_price = item.find_all('td')[1].get_text()\n",
    "    item_delta_percent = item.find_all('td')[2].get_text().strip()\n",
    "    \n",
    "    print('{} : 현재가 {}, 어제보다 {} {}, 백분율 변환 시{}'.format(\n",
    "        item_name, item_price, item_delta_price[3:], item_delta_price[:2], item_delta_percent))\n",
    "    \n",
    "    # 백분율 변화량 기호가 '+' 이면\n",
    "    if item_delta_percent[0] == '+':\n",
    "        plus_items.append(item_name)\n",
    "        \n",
    "        # 백분율 변화량 기호가 '+' 이고 변화량 수치(+4.84% -> 4.84)가 기존 가장 큰 증가 비율보다 클 경우, \n",
    "        if float(item_delta_percent[1:-1]) > highest_item['percent_change']:\n",
    "            highest_item['top_name'] = item_name\n",
    "            highest_item['percent_change'] = float(item_delta_percent[1:-1])\n",
    "        \n",
    "plus_items = ', '.join(plus_items)\n",
    "print('\\n어제보다 상승한 종목은 [ {} ]입니다.'.format(plus_items))\n",
    "print('어제보다 가장 많이 상승한 종목은 [ {} (+{}%) ]입니다.'.format(\n",
    "    highest_item['top_name'], highest_item['percent_change']))"
   ]
  }
 ],
 "metadata": {
  "kernelspec": {
   "display_name": "Python 3",
   "language": "python",
   "name": "python3"
  },
  "language_info": {
   "codemirror_mode": {
    "name": "ipython",
    "version": 3
   },
   "file_extension": ".py",
   "mimetype": "text/x-python",
   "name": "python",
   "nbconvert_exporter": "python",
   "pygments_lexer": "ipython3",
   "version": "3.7.6"
  }
 },
 "nbformat": 4,
 "nbformat_minor": 4
}
