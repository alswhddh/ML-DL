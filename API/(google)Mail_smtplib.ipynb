{
 "cells": [
  {
   "cell_type": "code",
   "execution_count": 2,
   "metadata": {},
   "outputs": [],
   "source": [
    "import smtplib\n",
    "from email.mime.text import MIMEText"
   ]
  },
  {
   "cell_type": "markdown",
   "metadata": {},
   "source": [
    "구글 지메일 앱비밀번호 필요함<br>\n",
    "https://myaccount.google.com/security?rapt=AEjHL4MDcEsAlXxvJB9I3Jo7nNV05waz8iXNFnkzX52NJo47Utjmy03dRPhL4G3de4nmNlK85atfGUbTw4g5wyJydE_-sNYgyQ"
   ]
  },
  {
   "cell_type": "code",
   "execution_count": 3,
   "metadata": {},
   "outputs": [],
   "source": [
    "# 참고하여 지메일 사전 세팅 필요 @ https://goo.gl/ET1RMc\n",
    "myKey = \"aiizygmwkevhuxsf\""
   ]
  },
  {
   "cell_type": "code",
   "execution_count": 15,
   "metadata": {},
   "outputs": [],
   "source": [
    "def sendMail(sender, receiver, msg):\n",
    "    \"\"\"\n",
    "    sender : 내 지메일주소\n",
    "    receiver : 받는 사람 메일주소\n",
    "    msg : 본문 내용\n",
    "    \"\"\"\n",
    "    smtp = smtplib.SMTP_SSL('smtp.gmail.com', 465)\n",
    "    smtp.login(sender,myKey) # 지메일 \"앱 비밀번호\" 를 입력해주세요.\n",
    "    msg = MIMEText(msg)\n",
    "    msg['Subject'] = '메일 제목입니다.'\n",
    "    smtp.sendmail(sender, receiver, msg.as_string())\n",
    "    smtp.quit()"
   ]
  },
  {
   "cell_type": "code",
   "execution_count": 16,
   "metadata": {},
   "outputs": [],
   "source": [
    "sendMail(\"alswhddh3@gmail.com\",\"alswhddh@naver.com\",\"안녕하세요 메일테스트입니다.\")"
   ]
  }
 ],
 "metadata": {
  "kernelspec": {
   "display_name": "Python 3",
   "language": "python",
   "name": "python3"
  },
  "language_info": {
   "codemirror_mode": {
    "name": "ipython",
    "version": 3
   },
   "file_extension": ".py",
   "mimetype": "text/x-python",
   "name": "python",
   "nbconvert_exporter": "python",
   "pygments_lexer": "ipython3",
   "version": "3.7.6"
  }
 },
 "nbformat": 4,
 "nbformat_minor": 4
}
