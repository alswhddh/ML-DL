{
 "cells": [
  {
   "cell_type": "code",
   "execution_count": 1,
   "metadata": {},
   "outputs": [
    {
     "name": "stderr",
     "output_type": "stream",
     "text": [
      "[nltk_data] Downloading package stopwords to\n",
      "[nltk_data]     /Users/acdong/nltk_data...\n",
      "[nltk_data]   Package stopwords is already up-to-date!\n"
     ]
    }
   ],
   "source": [
    "from nltk import download\n",
    "from nltk import word_tokenize\n",
    "from nltk.corpus import stopwords\n",
    "from nltk.stem.lancaster import LancasterStemmer\n",
    "from nltk.stem import WordNetLemmatizer\n",
    "import nltk\n",
    "download('stopwords')\n",
    "stop_words = stopwords.words('english')\n",
    "\n",
    "import pandas as pd\n",
    "import numpy as np"
   ]
  },
  {
   "cell_type": "code",
   "execution_count": 2,
   "metadata": {},
   "outputs": [],
   "source": [
    "def _preprocess(doc):\n",
    "    doc = doc.lower()  # Lower the text.\n",
    "    doc = word_tokenize(doc)  # Split into words.\n",
    "    doc = [w for w in doc if not w in stop_words]  # Remove stopwords.\n",
    "    doc = [w for w in doc if w.isalpha()]  # Remove numbers and punctuation.\n",
    "    return doc\n",
    "\n",
    "def _lemmatize(tags):\n",
    "    \"\"\"단어 리스트를 받아 품사를 구분하여 원형으로 바꿔줍니다.\"\"\"\n",
    "    result = list()\n",
    "    n=WordNetLemmatizer()\n",
    "    for word , tag in tags:\n",
    "        if tag in ['VB', 'VBD', 'VBG', 'VBN', 'VBP']:\n",
    "            result.append(n.lemmatize(word,'v'))\n",
    "        else:\n",
    "            result.append(n.lemmatize(word))\n",
    "    return result"
   ]
  },
  {
   "cell_type": "code",
   "execution_count": 3,
   "metadata": {},
   "outputs": [],
   "source": [
    "originText = \"\"\"\n",
    "For their own benefit, companies have various ways of offering lower prices. One way of doing this is a\n",
    "trade discount. It is offered to the shops or businesses that buy goods on a large scale and sell them. There is\n",
    "also a quantity discount, which is offered to individuals who order quantities of a product. The company gives a\n",
    "price break to these buyers because they help cut the costs of selling, storing, shipping, and billing. Finally, a\n",
    "cash discount is a lower price offered to people who pay in cash.\n",
    "\"\"\""
   ]
  },
  {
   "cell_type": "code",
   "execution_count": 4,
   "metadata": {},
   "outputs": [],
   "source": [
    "options = [\"Types of Discount Pricing\",\n",
    "           \"Ways to Improve Products\",\n",
    "           \"How to Buy Products in Cash\",\n",
    "           \"Locations of Discount Stores\",\n",
    "           \"How to Start a Business\"]\n",
    "\n",
    "answer = 1 #1번"
   ]
  },
  {
   "cell_type": "code",
   "execution_count": 5,
   "metadata": {},
   "outputs": [],
   "source": [
    "import gensim.models.keyedvectors as word2vec\n",
    "path = './GoogleNews-vectors-negative300-SLIM.bin.gz'\n",
    "w2vModel = word2vec.KeyedVectors.load_word2vec_format(path, binary=True)"
   ]
  },
  {
   "cell_type": "code",
   "execution_count": 6,
   "metadata": {},
   "outputs": [],
   "source": [
    "TextTokens = _preprocess(originText)\n",
    "textTags = nltk.pos_tag(TextTokens)"
   ]
  },
  {
   "cell_type": "code",
   "execution_count": 7,
   "metadata": {},
   "outputs": [],
   "source": [
    "text_words = _lemmatize(textTags)"
   ]
  },
  {
   "cell_type": "code",
   "execution_count": 8,
   "metadata": {
    "scrolled": true
   },
   "outputs": [],
   "source": [
    "#정답 리스트를 단어별로 쪼개서 원형으로 바꿔줍니다.\n",
    "resultChoice = list()\n",
    "for choice in options:\n",
    "    tempChoice = _lemmatize(nltk.pos_tag(_preprocess(choice)))\n",
    "    resultChoice.append(tempChoice)"
   ]
  },
  {
   "cell_type": "code",
   "execution_count": 9,
   "metadata": {},
   "outputs": [],
   "source": [
    "# 본문에 있는 단어들과 보기단어들의 wmd의 거리를 계산하여 distanceList에 추가합니다.\n",
    "# tuple 형식으로 번호를 추가하고 거리가 가까운 순으로 정렬합니다.\n",
    "distanceList = []\n",
    "for i in range(len(options)):\n",
    "    distance = w2vModel.wmdistance(text_words,resultChoice[i])\n",
    "    distanceList.append((distance , i))\n",
    "\n",
    "distanceList.sort(key=lambda x : x[0])"
   ]
  },
  {
   "cell_type": "code",
   "execution_count": 10,
   "metadata": {},
   "outputs": [
    {
     "data": {
      "text/plain": [
       "[(1.0948977324125935, 2),\n",
       " (1.1234846038598156, 0),\n",
       " (1.138055826572937, 3),\n",
       " (1.1765813972018972, 1),\n",
       " (1.2263925364015407, 4)]"
      ]
     },
     "execution_count": 10,
     "metadata": {},
     "output_type": "execute_result"
    }
   ],
   "source": [
    "distanceList"
   ]
  },
  {
   "cell_type": "code",
   "execution_count": 31,
   "metadata": {},
   "outputs": [],
   "source": [
    "def question_solving(originText , options ,answer):\n",
    "    \"\"\"\n",
    "    Type : orginText(str) , options(list) , answer(int)\n",
    "    0. args 의 전처리 과정을 거칩니다.\n",
    "    1. 선택보기들과 본문단어들의 거리값들을 모아둔 distanceList에서 가장 가까운거리의 인덱스를 정답이라고 판단합니다.\n",
    "    2. picked 와 answer를 비교하여 정답이면 1을 리턴 아니면 0을 리턴합니다.\n",
    "    \"\"\"\n",
    "    text_words = _lemmatize(nltk.pos_tag(_preprocess(originText)))\n",
    "    resultChoice = list()\n",
    "    for choice in options:\n",
    "        tempChoice = _lemmatize(nltk.pos_tag(_preprocess(choice)))\n",
    "        resultChoice.append(tempChoice)\n",
    "    \n",
    "    distanceList = list()\n",
    "    for choiceNum in range(len(options)):\n",
    "        distance = w2vModel.wmdistance(text_words,resultChoice[choiceNum])\n",
    "        distanceList.append(distance)\n",
    "    \n",
    "    picked = distanceList.index(min(distanceList)) + 1\n",
    "    \n",
    "    print(\"정답은 {}번 입니다.\".format(picked))\n",
    "    if(answer == picked):\n",
    "        print(\"정답을 맞췄습니다.\")\n",
    "        return 1\n",
    "    elif(answer != picked):\n",
    "        print(\"틀렸습니다. 실제정답은 {} 입니다\".format(answer))\n",
    "        return 0"
   ]
  },
  {
   "cell_type": "markdown",
   "metadata": {},
   "source": [
    "### 실제 데이터에 사용하여 성능 확인하기"
   ]
  },
  {
   "cell_type": "code",
   "execution_count": 43,
   "metadata": {},
   "outputs": [],
   "source": [
    "data = pd.read_excel('text_data.xlsx')\n",
    "data = data.replace(np.NaN, 'None')"
   ]
  },
  {
   "cell_type": "code",
   "execution_count": 44,
   "metadata": {},
   "outputs": [],
   "source": [
    "#정답이 영어인 행만 추출\n",
    "import re\n",
    "index_list = list()\n",
    "reg=re.compile(r'[a-zA-Z]')\n",
    "\n",
    "for raw in range(len(data)):\n",
    "    matchObj=reg.match(data['#2'][raw])\n",
    "    if matchObj:index_list.append(raw)\n",
    "        \n",
    "data = data.loc[index_list,:].reset_index(drop=True)"
   ]
  },
  {
   "cell_type": "code",
   "execution_count": 45,
   "metadata": {},
   "outputs": [
    {
     "name": "stdout",
     "output_type": "stream",
     "text": [
      "정답은 2번 입니다.\n",
      "틀렸습니다. 실제정답은 1 입니다\n",
      "정답은 2번 입니다.\n",
      "틀렸습니다. 실제정답은 1 입니다\n",
      "정답은 3번 입니다.\n",
      "정답을 맞췄습니다.\n",
      "정답은 3번 입니다.\n",
      "정답을 맞췄습니다.\n",
      "정답은 3번 입니다.\n",
      "틀렸습니다. 실제정답은 1 입니다\n",
      "정답은 4번 입니다.\n",
      "정답을 맞췄습니다.\n",
      "정답은 2번 입니다.\n",
      "정답을 맞췄습니다.\n",
      "정답은 4번 입니다.\n",
      "틀렸습니다. 실제정답은 1 입니다\n",
      "정답은 3번 입니다.\n",
      "정답을 맞췄습니다.\n",
      "정답은 3번 입니다.\n",
      "정답을 맞췄습니다.\n",
      "정답은 4번 입니다.\n",
      "틀렸습니다. 실제정답은 3 입니다\n",
      "정답은 3번 입니다.\n",
      "틀렸습니다. 실제정답은 1 입니다\n",
      "정답은 5번 입니다.\n",
      "틀렸습니다. 실제정답은 2 입니다\n",
      "정답은 5번 입니다.\n",
      "틀렸습니다. 실제정답은 4 입니다\n",
      "정답은 5번 입니다.\n",
      "정답을 맞췄습니다.\n",
      "정답은 4번 입니다.\n",
      "틀렸습니다. 실제정답은 1 입니다\n",
      "정답은 5번 입니다.\n",
      "틀렸습니다. 실제정답은 1 입니다\n",
      "정답은 5번 입니다.\n",
      "정답을 맞췄습니다.\n",
      "정답은 1번 입니다.\n",
      "정답을 맞췄습니다.\n",
      "정답은 2번 입니다.\n",
      "틀렸습니다. 실제정답은 5 입니다\n",
      "정답은 2번 입니다.\n",
      "정답을 맞췄습니다.\n",
      "정답은 2번 입니다.\n",
      "틀렸습니다. 실제정답은 5 입니다\n",
      "정답은 2번 입니다.\n",
      "틀렸습니다. 실제정답은 3 입니다\n",
      "정답은 3번 입니다.\n",
      "정답을 맞췄습니다.\n",
      "정답은 5번 입니다.\n",
      "정답을 맞췄습니다.\n",
      "정답은 1번 입니다.\n",
      "정답을 맞췄습니다.\n",
      "정답은 5번 입니다.\n",
      "정답을 맞췄습니다.\n",
      "정답은 5번 입니다.\n",
      "틀렸습니다. 실제정답은 3 입니다\n",
      "정답은 3번 입니다.\n",
      "정답을 맞췄습니다.\n",
      "정답은 2번 입니다.\n",
      "정답을 맞췄습니다.\n",
      "정답은 4번 입니다.\n",
      "틀렸습니다. 실제정답은 3 입니다\n",
      "정답은 4번 입니다.\n",
      "정답을 맞췄습니다.\n",
      "정답은 3번 입니다.\n",
      "정답을 맞췄습니다.\n",
      "정답은 1번 입니다.\n",
      "정답을 맞췄습니다.\n",
      "정답은 1번 입니다.\n",
      "정답을 맞췄습니다.\n",
      "정답은 3번 입니다.\n",
      "정답을 맞췄습니다.\n",
      "정답은 4번 입니다.\n",
      "틀렸습니다. 실제정답은 1 입니다\n",
      "정답은 2번 입니다.\n",
      "틀렸습니다. 실제정답은 3 입니다\n",
      "정답은 4번 입니다.\n",
      "정답을 맞췄습니다.\n",
      "정답은 4번 입니다.\n",
      "틀렸습니다. 실제정답은 5 입니다\n",
      "정답은 1번 입니다.\n",
      "정답을 맞췄습니다.\n",
      "정답은 1번 입니다.\n",
      "정답을 맞췄습니다.\n",
      "정답은 5번 입니다.\n",
      "정답을 맞췄습니다.\n",
      "정답은 1번 입니다.\n",
      "정답을 맞췄습니다.\n",
      "정답은 5번 입니다.\n",
      "정답을 맞췄습니다.\n",
      "정답은 1번 입니다.\n",
      "정답을 맞췄습니다.\n",
      "정답은 4번 입니다.\n",
      "정답을 맞췄습니다.\n",
      "정답은 4번 입니다.\n",
      "틀렸습니다. 실제정답은 1 입니다\n",
      "정답은 4번 입니다.\n",
      "틀렸습니다. 실제정답은 5 입니다\n",
      "정답은 3번 입니다.\n",
      "틀렸습니다. 실제정답은 5 입니다\n",
      "정답은 3번 입니다.\n",
      "정답을 맞췄습니다.\n",
      "정답은 4번 입니다.\n",
      "틀렸습니다. 실제정답은 3 입니다\n",
      "정답은 4번 입니다.\n",
      "틀렸습니다. 실제정답은 2 입니다\n",
      "정답은 2번 입니다.\n",
      "틀렸습니다. 실제정답은 3 입니다\n",
      "정답은 3번 입니다.\n",
      "틀렸습니다. 실제정답은 1 입니다\n",
      "정답은 4번 입니다.\n",
      "정답을 맞췄습니다.\n",
      "정답은 4번 입니다.\n",
      "틀렸습니다. 실제정답은 2 입니다\n",
      "정답은 1번 입니다.\n",
      "정답을 맞췄습니다.\n",
      "정답은 2번 입니다.\n",
      "틀렸습니다. 실제정답은 5 입니다\n",
      "정답은 1번 입니다.\n",
      "틀렸습니다. 실제정답은 2 입니다\n",
      "정답은 4번 입니다.\n",
      "정답을 맞췄습니다.\n",
      "정답은 1번 입니다.\n",
      "정답을 맞췄습니다.\n",
      "정답은 1번 입니다.\n",
      "틀렸습니다. 실제정답은 2 입니다\n",
      "정답은 4번 입니다.\n",
      "정답을 맞췄습니다.\n",
      "정답은 3번 입니다.\n",
      "정답을 맞췄습니다.\n",
      "정답은 1번 입니다.\n",
      "정답을 맞췄습니다.\n",
      "정답은 3번 입니다.\n",
      "틀렸습니다. 실제정답은 1 입니다\n",
      "정답은 4번 입니다.\n",
      "정답을 맞췄습니다.\n",
      "정답은 2번 입니다.\n",
      "정답을 맞췄습니다.\n",
      "정답은 1번 입니다.\n",
      "틀렸습니다. 실제정답은 3 입니다\n",
      "정답은 3번 입니다.\n",
      "정답을 맞췄습니다.\n",
      "정답은 4번 입니다.\n",
      "정답을 맞췄습니다.\n",
      "정답은 4번 입니다.\n",
      "정답을 맞췄습니다.\n",
      "정답은 2번 입니다.\n",
      "틀렸습니다. 실제정답은 1 입니다\n",
      "정답은 2번 입니다.\n",
      "정답을 맞췄습니다.\n",
      "정답은 5번 입니다.\n",
      "틀렸습니다. 실제정답은 4 입니다\n",
      "정답은 5번 입니다.\n",
      "정답을 맞췄습니다.\n",
      "정답은 2번 입니다.\n",
      "정답을 맞췄습니다.\n",
      "정답은 2번 입니다.\n",
      "틀렸습니다. 실제정답은 5 입니다\n",
      "정답은 4번 입니다.\n",
      "틀렸습니다. 실제정답은 2 입니다\n",
      "정확도 : 0.5625\n",
      "80 문제중 45개의 정답을 맞췄습니다.\n"
     ]
    }
   ],
   "source": [
    "#question_soving 함수가 정답이면 1을 리턴 하기때문에 맞은갯수 / 문제갯수를 통해 정확도를 계산합니다.\n",
    "accuracy = 0\n",
    "columns = ['#1','#2',\"#3\",'#4','#5','answer']\n",
    "for i in range(len(data['text'])):\n",
    "    origin_text = data['text'][i]\n",
    "    options = data[columns].loc[i].values[:5]\n",
    "    answer = data[columns].loc[i].values[-1]\n",
    "    accuracy += question_solving(origin_text,options , answer)\n",
    "print(\"정확도 : {}\".format((accuracy / len(data['text']))))\n",
    "print(\"{} 문제중 {}개의 정답을 맞췄습니다.\".format(len(data['text']), accuracy ))"
   ]
  },
  {
   "cell_type": "code",
   "execution_count": 36,
   "metadata": {},
   "outputs": [],
   "source": [
    "def question_solving_generous(originText , options ,answer):\n",
    "    \"\"\"\n",
    "    question_solving_generous 함수는 몇번시도만에 정답을 맞췄는지를 체크합니다.\n",
    "    \"\"\"\n",
    "    text_words = _lemmatize(nltk.pos_tag(_preprocess(originText)))\n",
    "    resultChoice = list()\n",
    "    for choice in options:\n",
    "        tempChoice = _lemmatize(nltk.pos_tag(_preprocess(choice)))\n",
    "        resultChoice.append(tempChoice)\n",
    "    \n",
    "    distanceList = list()\n",
    "    for choiceNum in range(len(options)):\n",
    "        distance = w2vModel.wmdistance(text_words,resultChoice[choiceNum])\n",
    "        distanceList.append((distance , choiceNum))\n",
    "    distanceList.sort(key=lambda x : x[0])\n",
    "    \n",
    "    picked = distanceList[0][1] + 1\n",
    "    picked2 = distanceList[1][1] + 1\n",
    "    picked3 = distanceList[2][1] + 1\n",
    "\n",
    "    tryOne = 0; tryTwo = 0; tryThree = 0;\n",
    "    if(answer == picked): tryOne = 1\n",
    "    elif(answer == picked2): tryTwo = 1\n",
    "    elif(answer == picked3): tryThree = 1\n",
    "\n",
    "    return tryOne , tryTwo , tryThree\n",
    "    "
   ]
  },
  {
   "cell_type": "code",
   "execution_count": 42,
   "metadata": {},
   "outputs": [
    {
     "name": "stdout",
     "output_type": "stream",
     "text": [
      "정답률은 56.99999999999999%입니다.\n",
      "너그러운 정답률은 75.0%입니다.\n",
      "더 너그러운 정답률은 89.0%입니다.\n"
     ]
    }
   ],
   "source": [
    "try1 = 0\n",
    "try2 = 0\n",
    "try3 = 0\n",
    "columns = ['#1','#2',\"#3\",'#4','#5','answer']\n",
    "for i in range(len(data['text'])):\n",
    "    origin_text = data['text'][i]\n",
    "    options = data[columns].loc[i].values[:5]\n",
    "    answer = data[columns].loc[i].values[-1]\n",
    "    tryOne , tryTwo , tryThree = question_solving_generous(origin_text,options , answer)\n",
    "    try1 += tryOne\n",
    "    try2 += tryOne + tryTwo\n",
    "    try3 += tryOne + tryTwo + tryThree\n",
    "    \n",
    "avg_score = round(try1 / len(data['text']),2) * 100\n",
    "gen_score = round(try2 / len(data['text']),2) * 100\n",
    "m_gen_score = round(try3 / len(data['text']),2) * 100\n",
    "print(f'정답률은 {avg_score}%입니다.')\n",
    "print(f'너그러운 정답률은 {gen_score}%입니다.' )\n",
    "print(f'더 너그러운 정답률은 {m_gen_score}%입니다.')"
   ]
  }
 ],
 "metadata": {
  "kernelspec": {
   "display_name": "Python 3",
   "language": "python",
   "name": "python3"
  },
  "language_info": {
   "codemirror_mode": {
    "name": "ipython",
    "version": 3
   },
   "file_extension": ".py",
   "mimetype": "text/x-python",
   "name": "python",
   "nbconvert_exporter": "python",
   "pygments_lexer": "ipython3",
   "version": "3.7.6"
  }
 },
 "nbformat": 4,
 "nbformat_minor": 4
}
