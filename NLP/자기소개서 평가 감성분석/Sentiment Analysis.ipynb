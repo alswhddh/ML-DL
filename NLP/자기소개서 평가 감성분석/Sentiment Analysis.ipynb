{
 "cells": [
  {
   "cell_type": "markdown",
   "metadata": {},
   "source": [
    "### 자기소개서 전문가 총평 감성분석"
   ]
  },
  {
   "cell_type": "code",
   "execution_count": 1,
   "metadata": {},
   "outputs": [],
   "source": [
    "from konlpy.tag import Okt\n",
    "import konlpy\n",
    "import pandas as pd"
   ]
  },
  {
   "cell_type": "code",
   "execution_count": 2,
   "metadata": {},
   "outputs": [],
   "source": [
    "df = pd.read_csv('essay.csv')"
   ]
  },
  {
   "cell_type": "code",
   "execution_count": 14,
   "metadata": {},
   "outputs": [
    {
     "data": {
      "text/plain": [
       "Unnamed: 0           0\n",
       "company_id           0\n",
       "company              0\n",
       "year                 0\n",
       "season               0\n",
       "experience           0\n",
       "position             0\n",
       "score             1200\n",
       "feedback          1202\n",
       "content              0\n",
       "views                0\n",
       "position_broad       0\n",
       "dtype: int64"
      ]
     },
     "execution_count": 14,
     "metadata": {},
     "output_type": "execute_result"
    }
   ],
   "source": [
    "df.isnull().sum()"
   ]
  },
  {
   "cell_type": "code",
   "execution_count": 19,
   "metadata": {},
   "outputs": [],
   "source": [
    "df = df[df.feedback.notna()] #결측치 제외\n",
    "df = df[['score' , 'feedback']]"
   ]
  },
  {
   "cell_type": "code",
   "execution_count": 21,
   "metadata": {},
   "outputs": [
    {
     "data": {
      "text/plain": [
       "score\n",
       "1.0     61\n",
       "2.0    549\n",
       "3.0    288\n",
       "3.5      1\n",
       "4.0    163\n",
       "4.5      4\n",
       "5.0     50\n",
       "dtype: int64"
      ]
     },
     "execution_count": 21,
     "metadata": {},
     "output_type": "execute_result"
    }
   ],
   "source": [
    "df.groupby('score').size()"
   ]
  },
  {
   "cell_type": "markdown",
   "metadata": {},
   "source": [
    "4점 이상 : 217개 <br>\n",
    "1점 : 61개 <br><br>\n",
    "\n",
    "217 : 217 로 맞춰주기 위해서 2점은 156개만 추출"
   ]
  },
  {
   "cell_type": "code",
   "execution_count": 24,
   "metadata": {},
   "outputs": [
    {
     "data": {
      "text/plain": [
       "156"
      ]
     },
     "execution_count": 24,
     "metadata": {},
     "output_type": "execute_result"
    }
   ],
   "source": [
    "#데이터 수를 맞춰주기 위해  2점짜리 언더 샘플링 \n",
    "\n",
    "two_point = df[(df['score'] == 2)].sample(n = 156, random_state = 0)\n",
    "len(two_point)"
   ]
  },
  {
   "cell_type": "code",
   "execution_count": 37,
   "metadata": {},
   "outputs": [],
   "source": [
    "# 1,2점  + 4 ,5 점으로 dataframe 만들기 \n",
    "\n",
    "result = df[(df['score'] == 1) | (df['score'] >= 4) ]\n",
    "\n",
    "result = pd.concat([result , two_point])"
   ]
  },
  {
   "cell_type": "code",
   "execution_count": 38,
   "metadata": {},
   "outputs": [],
   "source": [
    "result.sort_values('score' , inplace= True)\n",
    "result.reset_index(drop=True , inplace=True)"
   ]
  },
  {
   "cell_type": "code",
   "execution_count": 40,
   "metadata": {},
   "outputs": [],
   "source": [
    "result['score'] = result['score'].map(lambda x: 0 if x <= 2 else 1)"
   ]
  },
  {
   "cell_type": "code",
   "execution_count": 42,
   "metadata": {},
   "outputs": [
    {
     "data": {
      "text/plain": [
       "score\n",
       "0    217\n",
       "1    217\n",
       "dtype: int64"
      ]
     },
     "execution_count": 42,
     "metadata": {},
     "output_type": "execute_result"
    }
   ],
   "source": [
    "result.groupby('score').size()"
   ]
  },
  {
   "cell_type": "code",
   "execution_count": 47,
   "metadata": {},
   "outputs": [],
   "source": [
    "#불용어 처리\n",
    "stopwords = pd.read_json('stopwords-ko.json')\n",
    "stopwordsList = list(stopwords[0]) + ['이다','하다']"
   ]
  },
  {
   "cell_type": "code",
   "execution_count": 55,
   "metadata": {},
   "outputs": [],
   "source": [
    "def preprocessing(text):\n",
    "    okt = Okt()\n",
    "    raw_pos_tagged = okt.pos(text, norm=True,stem=True)\n",
    "    \n",
    "    cleanWords = []\n",
    "    \n",
    "    for word, tag in raw_pos_tagged: \n",
    "        if tag not in [\"Josa\", \"Eomi\", \"Punctuation\", \"Foreign\"]: \n",
    "            if (len(word) != 1) & (word not in stopwordsList): \n",
    "                cleanWords.append(word)\n",
    "    \n",
    "    new_text = ' '.join(cleanWords)\n",
    "    \n",
    "    return new_text"
   ]
  },
  {
   "cell_type": "code",
   "execution_count": 56,
   "metadata": {},
   "outputs": [],
   "source": [
    "result['feedback'] = result['feedback'].map(lambda x : preprocessing(x))"
   ]
  },
  {
   "cell_type": "code",
   "execution_count": 59,
   "metadata": {},
   "outputs": [
    {
     "data": {
      "text/plain": [
       "array(['개별 항목 목마 요구 내용 즉흥 작성 보이다 소개 소개 전체 구성 보다 지원 직무 관련 역량 강점 보여주다 전략 전혀 보이지 않다 내용 읽다 지원 인사 총무 직무 관련 되다 어떻다 지식 역량 경험 가지다 건지다 수가 없다 항목 요구 인지 이해 과정 선행 되어다 보이다 항목 자체 이해 항목 요구사항 관련 없다 내용 구성 되어다 부분 많이 띄다',\n",
       "       '아무리 분야 관련 경험 준비 호감 주다 회사 회사 쓰다 가장 크다 실수 이유 불문 탈락 지원 대위 지원 내용 그대로 복사 활용 과정 회사 수정 않다 특히 항목 마지막 기계 쓸다 다짐 대위 회사 반복 나오다 평가 필요 없다 소개',\n",
       "       '전반 아쉬움 많다 소개 보다 자다 개다 합격 이유 찾기 어렵다 자다 개다 없다 인사 담당자 호감 요인 인하다 합격 아니다 생각 소개 항목 의미 의도 자다 모르거나 쓰기 편하다 내용 쓸다 부분 보이다 목마 요구 사항 충족 않다 자다 개다 요구 사항 명확하다 이해 그게 맞다 작성 제일 중요하다'],\n",
       "      dtype=object)"
      ]
     },
     "execution_count": 59,
     "metadata": {},
     "output_type": "execute_result"
    }
   ],
   "source": [
    "result['feedback'][0:3].values"
   ]
  },
  {
   "cell_type": "code",
   "execution_count": 60,
   "metadata": {},
   "outputs": [],
   "source": [
    "from sklearn.model_selection import train_test_split\n",
    "import numpy as np\n",
    "from sklearn.feature_extraction.text import TfidfVectorizer\n",
    "from sklearn.metrics.pairwise import cosine_similarity\n",
    "from sklearn.metrics import accuracy_score\n",
    "from sklearn import datasets, model_selection, linear_model\n",
    "from sklearn.pipeline import Pipeline"
   ]
  },
  {
   "cell_type": "code",
   "execution_count": 66,
   "metadata": {},
   "outputs": [],
   "source": [
    "x_data = result.feedback.values\n",
    "y_data = result.score.values\n",
    "\n",
    "X_train, X_test, y_train, y_test = train_test_split(x_data, y_data, test_size=0.3, random_state=0)"
   ]
  },
  {
   "cell_type": "code",
   "execution_count": 67,
   "metadata": {},
   "outputs": [
    {
     "name": "stdout",
     "output_type": "stream",
     "text": [
      "303 [149 154]\n",
      "131 [68 63]\n"
     ]
    }
   ],
   "source": [
    "print(len(X_train), np.bincount(y_train)) # train 데이터 크기 확인\n",
    "print(len(X_test), np.bincount(y_test))"
   ]
  },
  {
   "cell_type": "code",
   "execution_count": 68,
   "metadata": {},
   "outputs": [
    {
     "data": {
      "text/plain": [
       "Pipeline(steps=[('vect',\n",
       "                 TfidfVectorizer(lowercase=False,\n",
       "                                 tokenizer=<bound method Okt.morphs of <konlpy.tag._okt.Okt object at 0x7fcf85256590>>)),\n",
       "                ('clf', LogisticRegression())])"
      ]
     },
     "execution_count": 68,
     "metadata": {},
     "output_type": "execute_result"
    }
   ],
   "source": [
    "okt = Okt()\n",
    "\n",
    "tfidf = TfidfVectorizer(lowercase=False, tokenizer = okt.morphs)\n",
    "model = linear_model.LogisticRegression()\n",
    "pipe = Pipeline([('vect', tfidf), ('clf', model)])\n",
    "pipe.fit(X_train, y_train)"
   ]
  },
  {
   "cell_type": "code",
   "execution_count": 70,
   "metadata": {},
   "outputs": [
    {
     "name": "stdout",
     "output_type": "stream",
     "text": [
      "Accuracy:  0.9389312977099237\n"
     ]
    }
   ],
   "source": [
    "print('Accuracy: ', accuracy_score(pipe.predict(X_test), y_test))"
   ]
  },
  {
   "cell_type": "code",
   "execution_count": 80,
   "metadata": {},
   "outputs": [],
   "source": [
    "# 총평 긍/부정 분류기\n",
    "\n",
    "def sentiment_cls():\n",
    "    feedback = input('총평을 입력하세요 : ')\n",
    "    \n",
    "    processed = preprocessing(feedback)\n",
    "    prediction = pipe.predict([processed])\n",
    "    \n",
    "    if prediction == 0: # 부정\n",
    "        print('\\n' , np.max(pipe.predict_proba([processed])) * 100, '% 의 확률로 부정적인 총평입니다.')\n",
    "    else : # 긍정\n",
    "        print('\\n' , np.max(pipe.predict_proba([processed])) * 100, '% 의 확률로 긍정적인 총평입니다.')"
   ]
  },
  {
   "cell_type": "code",
   "execution_count": 88,
   "metadata": {},
   "outputs": [
    {
     "name": "stdout",
     "output_type": "stream",
     "text": [
      "총평을 입력하세요 : 범한 지원동기와 입사 후 포부를 제외하고 나머지 부분은 수정할 필요가 없이 핵심 위주로 잘 쓴 자기소개서 입니다. 전체적으로 읽어보면 지원자는 지원하는 회사에 대해 많은 것을 알고 있다는 것을 알 수 있습니다. 즉, 지원회사에 대한 애정이 있고 시간을 두고 준비를 해 왔다는 느낌을 주고 있습니다.. 지원자의 가장 큰 강점은 글을 잘 쓴다는 것입니다. 한편의 보고서를 보는 것 같이 요구사항에 딱 맞아 떨어지는 소재와 내용으로 군더더기 없이 잘 작성하였고, 지원자가 경험한 사례 역시 신입지원자로서는 수준이 느껴지는 경험이었다는 점이 호감을 주고 있습니다. 면접에서 한 번 보고 싶은 지원자입니다.\n",
      "\n",
      " 77.71792962496437 % 의 확률로 긍정적인 총평입니다.\n"
     ]
    }
   ],
   "source": [
    "#별점 5점짜리 총평\n",
    "\n",
    "sentiment_cls()"
   ]
  },
  {
   "cell_type": "code",
   "execution_count": 89,
   "metadata": {},
   "outputs": [
    {
     "name": "stdout",
     "output_type": "stream",
     "text": [
      "총평을 입력하세요 : 항목의 요구사항에 완벽히 맞도록 작성하지 않은 부분이 대부분이라 아쉽습니다. 지원자의 강점을 직접적으로 묻는 항목에서는 자신의 직무강점이나 역량이 아닌 자신이 중요하게 생각하는 가치에 대해서 작성했고, 단점을 묻는 항목에서는 장단점을 작성하고 장점에 더 많은 분량을 할애하고 있습니다. 또한 회사에 입사하기 위한 노력을 묻는 항목에서는 직무선택동기를 작성하고, ‘차근차근’준비했다고 말하고 있지만 정확히 어떤 것들을 준비해왔다는 것인지 알수가 없습니다. 마지막으로 많지 않은 분량의 글에 매 항목마다 마지막 문장을 기계적인 다짐이나 포부로 작성하였습니다. 하지만 이런 글을 썼다고 해서 지원자에게 특별히 호감을 갖는 인사담당자는 많지 않습니다. 이런 기계적 다짐보다는 항목에서 요구하는 내용에 초점을 맞춰 작성해야 합니다.\n",
      "\n",
      " 60.26296079572283 % 의 확률로 부정적인 총평입니다.\n"
     ]
    }
   ],
   "source": [
    "#별정 1점짜리 총평\n",
    "\n",
    "sentiment_cls()"
   ]
  },
  {
   "cell_type": "code",
   "execution_count": 90,
   "metadata": {},
   "outputs": [
    {
     "name": "stdout",
     "output_type": "stream",
     "text": [
      "총평을 입력하세요 : 내가 써도 이거보단 잘 쓰겠다.\n",
      "\n",
      " 61.82821738141294 % 의 확률로 긍정적인 총평입니다.\n"
     ]
    }
   ],
   "source": [
    "#반어법 감지 못함\n",
    "\n",
    "sentiment_cls()"
   ]
  },
  {
   "cell_type": "code",
   "execution_count": 91,
   "metadata": {},
   "outputs": [
    {
     "name": "stdout",
     "output_type": "stream",
     "text": [
      "총평을 입력하세요 : 진짜 이건 무조건 합격임\n",
      "\n",
      " 58.562255661673944 % 의 확률로 긍정적인 총평입니다.\n"
     ]
    }
   ],
   "source": [
    "# 짧은 총평\n",
    "\n",
    "sentiment_cls()"
   ]
  }
 ],
 "metadata": {
  "kernelspec": {
   "display_name": "Python 3",
   "language": "python",
   "name": "python3"
  },
  "language_info": {
   "codemirror_mode": {
    "name": "ipython",
    "version": 3
   },
   "file_extension": ".py",
   "mimetype": "text/x-python",
   "name": "python",
   "nbconvert_exporter": "python",
   "pygments_lexer": "ipython3",
   "version": "3.7.6"
  }
 },
 "nbformat": 4,
 "nbformat_minor": 4
}
