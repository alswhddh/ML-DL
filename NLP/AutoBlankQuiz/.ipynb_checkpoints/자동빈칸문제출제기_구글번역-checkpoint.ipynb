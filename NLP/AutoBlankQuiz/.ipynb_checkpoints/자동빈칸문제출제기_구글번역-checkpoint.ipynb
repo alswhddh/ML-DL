{
 "cells": [
  {
   "cell_type": "code",
   "execution_count": 11,
   "metadata": {},
   "outputs": [
    {
     "name": "stdout",
     "output_type": "stream",
     "text": [
      "showing info https://raw.githubusercontent.com/nltk/nltk_data/gh-pages/index.xml\n"
     ]
    },
    {
     "data": {
      "text/plain": [
       "True"
      ]
     },
     "execution_count": 11,
     "metadata": {},
     "output_type": "execute_result"
    }
   ],
   "source": [
    "#!pip install googletrans\n",
    "#nltk.download()"
   ]
  },
  {
   "cell_type": "code",
   "execution_count": 12,
   "metadata": {},
   "outputs": [],
   "source": [
    "import nltk\n",
    "import os\n",
    "import sys\n",
    "import urllib.request\n",
    "import json\n",
    "from pprint import pprint\n",
    "from googletrans import Translator\n",
    "\n",
    "from selenium import webdriver\n",
    "from selenium.webdriver.common.by import By\n",
    "from selenium.webdriver.common.keys import Keys\n",
    "\n",
    "from nltk.corpus import stopwords\n",
    "from collections import Counter\n",
    "from bs4 import BeautifulSoup\n",
    "import time"
   ]
  },
  {
   "cell_type": "code",
   "execution_count": 13,
   "metadata": {},
   "outputs": [],
   "source": [
    "#핵심단어를 빈칸으로 바꿔서 문장 반환\n",
    "def mkBlank(imWord,words):\n",
    "    blankWords = []\n",
    "    blankStr = \"\"\n",
    "    blank = \"\"\n",
    "    for word in words:\n",
    "        if word == imWord:\n",
    "            for i in range(len(word)):\n",
    "                blank = blank + \" \"\n",
    "            word = \"(\" + blank + \")\"\n",
    "        blankWords.append(word)\n",
    "    for word in blankWords:\n",
    "       blankStr = blankStr + word + \" \"\n",
    "    return blankStr"
   ]
  },
  {
   "cell_type": "code",
   "execution_count": 14,
   "metadata": {},
   "outputs": [],
   "source": [
    "originText = \"\"\"From VOA Learning English, this is the Health & Lifestyle report.\n",
    "\n",
    "Marriage ceremonies, or weddings, are among the most important events in the lives of many people. The COVID-19 health crisis has severely affected weddings and damaged the multi-billion dollar industry that supports them.\n",
    "\n",
    "Because of the virus, many couples in the United States and around the world have had to postpone “The Big Day” -- another way of saying wedding.\n",
    "\n",
    "But now that some areas have eased rules on public gatherings, plenty of couples are ready to say, “I do!” However, they may need to wear a face mask when they say it. And that has led to some problems.\n",
    "\n",
    "Many couples are not willing to have a pandemic-looking wedding party. So, they are not willing to follow restrictions on large gatherings -- like wearing face masks, limiting the number of guests and social-distancing.\"\"\""
   ]
  },
  {
   "cell_type": "code",
   "execution_count": 27,
   "metadata": {},
   "outputs": [],
   "source": [
    "translator = Translator() # 번역\n",
    "\n",
    "# tr_results = translator.translate(originText,src='en',dest='ko')\n",
    "# tr_results.text"
   ]
  },
  {
   "cell_type": "code",
   "execution_count": 28,
   "metadata": {},
   "outputs": [],
   "source": [
    "tokens = nltk.word_tokenize(originText)"
   ]
  },
  {
   "cell_type": "code",
   "execution_count": 29,
   "metadata": {},
   "outputs": [],
   "source": [
    "stopWords = stopwords.words('english') # 불용어 제거\n",
    "stopWords.append(',')\n",
    "stopWords.append('.')\n",
    "stopWords.append(\"'s\")\n",
    "stopWords.append('``')\n",
    "stopWords.append('--')\n",
    "stopWords.append(\"'\")\n",
    "stopWords.append(\"''\")"
   ]
  },
  {
   "cell_type": "code",
   "execution_count": 30,
   "metadata": {
    "scrolled": true
   },
   "outputs": [],
   "source": [
    "result = []\n",
    "for token in tokens:\n",
    "    if token.lower() not in stopWords:\n",
    "        result.append(token)"
   ]
  },
  {
   "cell_type": "code",
   "execution_count": 31,
   "metadata": {},
   "outputs": [],
   "source": [
    "wordListNN = []\n",
    "tags = nltk.pos_tag(result) # 명사만 골라서 넣기 ( 고유명사 제외 )\n",
    "for word, tag in tags:\n",
    "    if tag in ['NN','NNS']:\n",
    "        wordListNN.append(word.lower())\n",
    "countNN = Counter(wordListNN)"
   ]
  },
  {
   "cell_type": "code",
   "execution_count": 32,
   "metadata": {},
   "outputs": [
    {
     "data": {
      "text/plain": [
       "Counter({'report': 1,\n",
       "         'weddings': 2,\n",
       "         'events': 1,\n",
       "         'people': 1,\n",
       "         'health': 1,\n",
       "         'crisis': 1,\n",
       "         'dollar': 1,\n",
       "         'industry': 1,\n",
       "         'couples': 3,\n",
       "         'world': 1,\n",
       "         'postpone': 1,\n",
       "         'way': 1,\n",
       "         'areas': 1,\n",
       "         'rules': 1,\n",
       "         'gatherings': 2,\n",
       "         'plenty': 1,\n",
       "         'face': 2,\n",
       "         'mask': 1,\n",
       "         'problems': 1,\n",
       "         'wedding': 1,\n",
       "         'party': 1,\n",
       "         'restrictions': 1,\n",
       "         'masks': 1,\n",
       "         'number': 1,\n",
       "         'guests': 1})"
      ]
     },
     "execution_count": 32,
     "metadata": {},
     "output_type": "execute_result"
    }
   ],
   "source": [
    "countNN"
   ]
  },
  {
   "cell_type": "code",
   "execution_count": 33,
   "metadata": {},
   "outputs": [],
   "source": [
    "# wordListNN = set(wordListNN) # set으로 바꿔 중복제거\n",
    "# wordListNN = list(wordListNN) # 다시 list로 변환\n",
    "# wordListNN"
   ]
  },
  {
   "cell_type": "code",
   "execution_count": 34,
   "metadata": {},
   "outputs": [],
   "source": [
    "def output(impWord,textData):\n",
    "    splitText = textData.split('.')\n",
    "    for sentens in splitText:\n",
    "        splitList = sentens.split()\n",
    "        for i in splitList:\n",
    "            if i == impWord:\n",
    "                print(mkBlank(i,splitList))\n",
    "                trans = translator.translate(sentens,src='en',dest='ko')\n",
    "                print()\n",
    "                print(trans.text)"
   ]
  },
  {
   "cell_type": "code",
   "execution_count": 35,
   "metadata": {},
   "outputs": [
    {
     "data": {
      "text/plain": [
       "'\\n\\nMarriage ceremonies, or weddings, are among the most important events in the lives of many people'"
      ]
     },
     "execution_count": 35,
     "metadata": {},
     "output_type": "execute_result"
    }
   ],
   "source": [
    "originText.split('.')[1]"
   ]
  },
  {
   "cell_type": "code",
   "execution_count": 36,
   "metadata": {},
   "outputs": [
    {
     "name": "stdout",
     "output_type": "stream",
     "text": [
      "From VOA Learning English, this is the Health & Lifestyle (      ) \n",
      "\n",
      "VOA Learning English의 건강 및 라이프 스타일 보고서입니다\n",
      "\n",
      "report\n",
      "\n",
      "The COVID-19 health crisis has severely affected (        ) and damaged the multi-billion dollar industry that supports them \n",
      "\n",
      "COVID-19 건강 위기는 결혼식에 심각한 영향을 미치고 결혼식을 지원하는 수십억 달러 산업을 손상 시켰습니다.\n",
      "\n",
      "weddings\n",
      "\n",
      "Marriage ceremonies, or weddings, are among the most important (      ) in the lives of many people \n",
      "\n",
      "결혼 예식 또는 결혼식은 많은 사람들의 삶에서 가장 중요한 행사 중 하나입니다.\n",
      "\n",
      "events\n",
      "\n",
      "Marriage ceremonies, or weddings, are among the most important events in the lives of many (      ) \n",
      "\n",
      "결혼 예식 또는 결혼식은 많은 사람들의 삶에서 가장 중요한 행사 중 하나입니다.\n",
      "\n",
      "people\n",
      "\n",
      "The COVID-19 (      ) crisis has severely affected weddings and damaged the multi-billion dollar industry that supports them \n",
      "\n",
      "COVID-19 건강 위기는 결혼식에 심각한 영향을 미치고 결혼식을 지원하는 수십억 달러 산업을 손상 시켰습니다.\n",
      "\n",
      "health\n",
      "\n",
      "The COVID-19 health (      ) has severely affected weddings and damaged the multi-billion dollar industry that supports them \n",
      "\n",
      "COVID-19 건강 위기는 결혼식에 심각한 영향을 미치고 결혼식을 지원하는 수십억 달러 산업을 손상 시켰습니다.\n",
      "\n",
      "crisis\n",
      "\n",
      "The COVID-19 health crisis has severely affected (        ) and damaged the multi-billion dollar industry that supports them \n",
      "\n",
      "COVID-19 건강 위기는 결혼식에 심각한 영향을 미치고 결혼식을 지원하는 수십억 달러 산업을 손상 시켰습니다.\n",
      "\n",
      "weddings\n",
      "\n",
      "The COVID-19 health crisis has severely affected weddings and damaged the multi-billion (      ) industry that supports them \n",
      "\n",
      "COVID-19 건강 위기는 결혼식에 심각한 영향을 미치고 결혼식을 지원하는 수십억 달러 산업을 손상 시켰습니다.\n",
      "\n",
      "dollar\n",
      "\n",
      "The COVID-19 health crisis has severely affected weddings and damaged the multi-billion dollar (        ) that supports them \n",
      "\n",
      "COVID-19 건강 위기는 결혼식에 심각한 영향을 미치고 결혼식을 지원하는 수십억 달러 산업을 손상 시켰습니다.\n",
      "\n",
      "industry\n",
      "\n",
      "Because of the virus, many (       ) in the United States and around the world have had to postpone “The Big Day” -- another way of saying wedding \n",
      "\n",
      "바이러스로 인해 미국과 전 세계의 많은 커플들이 \"The Big Day\"(결혼식을 말하는 또 다른 표현)를 연기해야했습니다.\n",
      "But now that some areas have eased rules on public gatherings, plenty of (       ) are ready to say, “I do!” However, they may need to wear a face mask when they say it \n",
      "\n",
      "그러나 일부 지역에서는 공개 모임에 대한 규칙이 완화되었으므로 많은 커플이“내가 해요!”라고 말할 준비가되어 있습니다. 그러나 그들은 말할 때 안면 마스크를 착용해야 할 수도 있습니다.\n",
      "Many (       ) are not willing to have a pandemic-looking wedding party \n",
      "\n",
      "많은 커플이 유행성 웨딩 파티를 원하지 않습니다\n",
      "\n",
      "couples\n",
      "\n",
      "Because of the virus, many couples in the United States and around the (     ) have had to postpone “The Big Day” -- another way of saying wedding \n",
      "\n",
      "바이러스로 인해 미국과 전 세계의 많은 커플들이 \"The Big Day\"(결혼식을 말하는 또 다른 표현)를 연기해야했습니다.\n",
      "\n",
      "world\n",
      "\n",
      "Because of the virus, many couples in the United States and around the world have had to (        ) “The Big Day” -- another way of saying wedding \n",
      "\n",
      "바이러스로 인해 미국과 전 세계의 많은 커플들이 \"The Big Day\"(결혼식을 말하는 또 다른 표현)를 연기해야했습니다.\n",
      "\n",
      "postpone\n",
      "\n",
      "Because of the virus, many couples in the United States and around the world have had to postpone “The Big Day” -- another (   ) of saying wedding \n",
      "\n",
      "바이러스로 인해 미국과 전 세계의 많은 커플들이 \"The Big Day\"(결혼식을 말하는 또 다른 표현)를 연기해야했습니다.\n",
      "\n",
      "way\n",
      "\n",
      "But now that some (     ) have eased rules on public gatherings, plenty of couples are ready to say, “I do!” However, they may need to wear a face mask when they say it \n",
      "\n",
      "그러나 일부 지역에서는 공개 모임에 대한 규칙이 완화되었으므로 많은 커플이“내가 해요!”라고 말할 준비가되어 있습니다. 그러나 그들은 말할 때 안면 마스크를 착용해야 할 수도 있습니다.\n",
      "\n",
      "areas\n",
      "\n",
      "But now that some areas have eased (     ) on public gatherings, plenty of couples are ready to say, “I do!” However, they may need to wear a face mask when they say it \n",
      "\n",
      "그러나 일부 지역에서는 공개 모임에 대한 규칙이 완화되었으므로 많은 커플이“내가 해요!”라고 말할 준비가되어 있습니다. 그러나 그들은 말할 때 안면 마스크를 착용해야 할 수도 있습니다.\n",
      "\n",
      "rules\n",
      "\n",
      "So, they are not willing to follow restrictions on large (          ) -- like wearing face masks, limiting the number of guests and social-distancing \n",
      "\n",
      "따라서 그들은 마스크 착용, 손님 수 제한 및 사회적 거리와 같은 대규모 모임에 대한 제한을 기꺼이 따르지 않습니다.\n",
      "\n",
      "gatherings\n",
      "\n",
      "But now that some areas have eased rules on public gatherings, (      ) of couples are ready to say, “I do!” However, they may need to wear a face mask when they say it \n",
      "\n",
      "그러나 일부 지역에서는 공개 모임에 대한 규칙이 완화되었으므로 많은 커플이“내가 해요!”라고 말할 준비가되어 있습니다. 그러나 그들은 말할 때 안면 마스크를 착용해야 할 수도 있습니다.\n",
      "\n",
      "plenty\n",
      "\n",
      "Because of the virus, many (       ) in the United States and around the world have had to postpone “The Big Day” -- another way of saying wedding \n",
      "\n",
      "바이러스로 인해 미국과 전 세계의 많은 커플들이 \"The Big Day\"(결혼식을 말하는 또 다른 표현)를 연기해야했습니다.\n",
      "But now that some areas have eased rules on public gatherings, plenty of (       ) are ready to say, “I do!” However, they may need to wear a face mask when they say it \n",
      "\n",
      "그러나 일부 지역에서는 공개 모임에 대한 규칙이 완화되었으므로 많은 커플이“내가 해요!”라고 말할 준비가되어 있습니다. 그러나 그들은 말할 때 안면 마스크를 착용해야 할 수도 있습니다.\n",
      "Many (       ) are not willing to have a pandemic-looking wedding party \n",
      "\n",
      "많은 커플이 유행성 웨딩 파티를 원하지 않습니다\n",
      "\n",
      "couples\n",
      "\n",
      "But now that some areas have eased rules on public gatherings, plenty of couples are ready to say, “I do!” However, they may need to wear a (    ) mask when they say it \n",
      "\n",
      "그러나 일부 지역에서는 공개 모임에 대한 규칙이 완화되었으므로 많은 커플이“내가 해요!”라고 말할 준비가되어 있습니다. 그러나 그들은 말할 때 안면 마스크를 착용해야 할 수도 있습니다.\n",
      "So, they are not willing to follow restrictions on large gatherings -- like wearing (    ) masks, limiting the number of guests and social-distancing \n",
      "\n",
      "따라서 그들은 마스크 착용, 손님 수 제한 및 사회적 거리와 같은 대규모 모임에 대한 제한을 기꺼이 따르지 않습니다.\n",
      "\n",
      "face\n",
      "\n",
      "But now that some areas have eased rules on public gatherings, plenty of couples are ready to say, “I do!” However, they may need to wear a face (    ) when they say it \n",
      "\n",
      "그러나 일부 지역에서는 공개 모임에 대한 규칙이 완화되었으므로 많은 커플이“내가 해요!”라고 말할 준비가되어 있습니다. 그러나 그들은 말할 때 안면 마스크를 착용해야 할 수도 있습니다.\n",
      "\n",
      "mask\n",
      "\n",
      "And that has led to some (        ) \n",
      "\n",
      "그리고 그로 인해 몇 가지 문제가 발생했습니다.\n",
      "\n",
      "problems\n",
      "\n",
      "Because of the virus, many (       ) in the United States and around the world have had to postpone “The Big Day” -- another way of saying wedding \n",
      "\n",
      "바이러스로 인해 미국과 전 세계의 많은 커플들이 \"The Big Day\"(결혼식을 말하는 또 다른 표현)를 연기해야했습니다.\n",
      "But now that some areas have eased rules on public gatherings, plenty of (       ) are ready to say, “I do!” However, they may need to wear a face mask when they say it \n",
      "\n",
      "그러나 일부 지역에서는 공개 모임에 대한 규칙이 완화되었으므로 많은 커플이“내가 해요!”라고 말할 준비가되어 있습니다. 그러나 그들은 말할 때 안면 마스크를 착용해야 할 수도 있습니다.\n",
      "Many (       ) are not willing to have a pandemic-looking wedding party \n",
      "\n",
      "많은 커플이 유행성 웨딩 파티를 원하지 않습니다\n",
      "\n",
      "couples\n",
      "\n",
      "Because of the virus, many couples in the United States and around the world have had to postpone “The Big Day” -- another way of saying (       ) \n",
      "\n",
      "바이러스로 인해 미국과 전 세계의 많은 커플들이 \"The Big Day\"(결혼식을 말하는 또 다른 표현)를 연기해야했습니다.\n",
      "Many couples are not willing to have a pandemic-looking (       ) party \n",
      "\n",
      "많은 커플이 유행성 웨딩 파티를 원하지 않습니다\n",
      "\n",
      "wedding\n",
      "\n",
      "Many couples are not willing to have a pandemic-looking wedding (     ) \n",
      "\n",
      "많은 커플이 유행성 웨딩 파티를 원하지 않습니다\n",
      "\n",
      "party\n",
      "\n",
      "So, they are not willing to follow (            ) on large gatherings -- like wearing face masks, limiting the number of guests and social-distancing \n",
      "\n",
      "따라서 그들은 마스크 착용, 손님 수 제한 및 사회적 거리와 같은 대규모 모임에 대한 제한을 기꺼이 따르지 않습니다.\n",
      "\n",
      "restrictions\n",
      "\n",
      "So, they are not willing to follow restrictions on large (          ) -- like wearing face masks, limiting the number of guests and social-distancing \n",
      "\n",
      "따라서 그들은 마스크 착용, 손님 수 제한 및 사회적 거리와 같은 대규모 모임에 대한 제한을 기꺼이 따르지 않습니다.\n",
      "\n",
      "gatherings\n",
      "\n",
      "But now that some areas have eased rules on public gatherings, plenty of couples are ready to say, “I do!” However, they may need to wear a (    ) mask when they say it \n",
      "\n",
      "그러나 일부 지역에서는 공개 모임에 대한 규칙이 완화되었으므로 많은 커플이“내가 해요!”라고 말할 준비가되어 있습니다. 그러나 그들은 말할 때 안면 마스크를 착용해야 할 수도 있습니다.\n",
      "So, they are not willing to follow restrictions on large gatherings -- like wearing (    ) masks, limiting the number of guests and social-distancing \n",
      "\n",
      "따라서 그들은 마스크 착용, 손님 수 제한 및 사회적 거리와 같은 대규모 모임에 대한 제한을 기꺼이 따르지 않습니다.\n",
      "\n",
      "face\n",
      "\n",
      "\n",
      "masks\n",
      "\n",
      "So, they are not willing to follow restrictions on large gatherings -- like wearing face masks, limiting the (      ) of guests and social-distancing \n",
      "\n",
      "따라서 그들은 마스크 착용, 손님 수 제한 및 사회적 거리와 같은 대규모 모임에 대한 제한을 기꺼이 따르지 않습니다.\n",
      "\n",
      "number\n",
      "\n",
      "So, they are not willing to follow restrictions on large gatherings -- like wearing face masks, limiting the number of (      ) and social-distancing \n",
      "\n",
      "따라서 그들은 마스크 착용, 손님 수 제한 및 사회적 거리와 같은 대규모 모임에 대한 제한을 기꺼이 따르지 않습니다.\n",
      "\n",
      "guests\n",
      "\n"
     ]
    }
   ],
   "source": [
    "for impWords in wordListNN:\n",
    "    output(impWords,originText)\n",
    "    print()\n",
    "    print(impWords)\n",
    "    print()"
   ]
  },
  {
   "cell_type": "code",
   "execution_count": 39,
   "metadata": {},
   "outputs": [
    {
     "name": "stdout",
     "output_type": "stream",
     "text": [
      "From VOA Learning English, this is the Health & Lifestyle (      ) \n",
      "\n",
      "VOA Learning English의 건강 및 라이프 스타일 보고서입니다\n",
      "\n",
      "report\n",
      "report\n",
      "정답입니다.\n",
      "\n",
      "The COVID-19 health crisis has severely affected (        ) and damaged the multi-billion dollar industry that supports them \n",
      "\n",
      "COVID-19 건강 위기는 결혼식에 심각한 영향을 미치고 결혼식을 지원하는 수십억 달러 산업을 손상 시켰습니다.\n",
      "\n"
     ]
    },
    {
     "ename": "KeyboardInterrupt",
     "evalue": "Interrupted by user",
     "output_type": "error",
     "traceback": [
      "\u001b[1;31m---------------------------------------------------------------------------\u001b[0m",
      "\u001b[1;31mKeyboardInterrupt\u001b[0m                         Traceback (most recent call last)",
      "\u001b[1;32m<ipython-input-39-57f023d43431>\u001b[0m in \u001b[0;36m<module>\u001b[1;34m\u001b[0m\n\u001b[0;32m      3\u001b[0m     \u001b[0moutput\u001b[0m\u001b[1;33m(\u001b[0m\u001b[0mimpWords\u001b[0m\u001b[1;33m,\u001b[0m\u001b[0moriginText\u001b[0m\u001b[1;33m)\u001b[0m\u001b[1;33m\u001b[0m\u001b[1;33m\u001b[0m\u001b[0m\n\u001b[0;32m      4\u001b[0m     \u001b[0mprint\u001b[0m\u001b[1;33m(\u001b[0m\u001b[1;33m)\u001b[0m\u001b[1;33m\u001b[0m\u001b[1;33m\u001b[0m\u001b[0m\n\u001b[1;32m----> 5\u001b[1;33m     \u001b[0manswer\u001b[0m \u001b[1;33m=\u001b[0m \u001b[0minput\u001b[0m\u001b[1;33m(\u001b[0m\u001b[1;33m)\u001b[0m\u001b[1;33m\u001b[0m\u001b[1;33m\u001b[0m\u001b[0m\n\u001b[0m\u001b[0;32m      6\u001b[0m     \u001b[0mprint\u001b[0m\u001b[1;33m(\u001b[0m\u001b[0mimpWords\u001b[0m\u001b[1;33m)\u001b[0m\u001b[1;33m\u001b[0m\u001b[1;33m\u001b[0m\u001b[0m\n\u001b[0;32m      7\u001b[0m     \u001b[1;32mif\u001b[0m \u001b[0manswer\u001b[0m \u001b[1;33m==\u001b[0m \u001b[0mimpWords\u001b[0m\u001b[1;33m:\u001b[0m\u001b[1;33m\u001b[0m\u001b[1;33m\u001b[0m\u001b[0m\n",
      "\u001b[1;32m~\\anaconda3\\lib\\site-packages\\ipykernel\\kernelbase.py\u001b[0m in \u001b[0;36mraw_input\u001b[1;34m(self, prompt)\u001b[0m\n\u001b[0;32m    858\u001b[0m                 \u001b[1;34m\"raw_input was called, but this frontend does not support input requests.\"\u001b[0m\u001b[1;33m\u001b[0m\u001b[1;33m\u001b[0m\u001b[0m\n\u001b[0;32m    859\u001b[0m             )\n\u001b[1;32m--> 860\u001b[1;33m         return self._input_request(str(prompt),\n\u001b[0m\u001b[0;32m    861\u001b[0m             \u001b[0mself\u001b[0m\u001b[1;33m.\u001b[0m\u001b[0m_parent_ident\u001b[0m\u001b[1;33m,\u001b[0m\u001b[1;33m\u001b[0m\u001b[1;33m\u001b[0m\u001b[0m\n\u001b[0;32m    862\u001b[0m             \u001b[0mself\u001b[0m\u001b[1;33m.\u001b[0m\u001b[0m_parent_header\u001b[0m\u001b[1;33m,\u001b[0m\u001b[1;33m\u001b[0m\u001b[1;33m\u001b[0m\u001b[0m\n",
      "\u001b[1;32m~\\anaconda3\\lib\\site-packages\\ipykernel\\kernelbase.py\u001b[0m in \u001b[0;36m_input_request\u001b[1;34m(self, prompt, ident, parent, password)\u001b[0m\n\u001b[0;32m    902\u001b[0m             \u001b[1;32mexcept\u001b[0m \u001b[0mKeyboardInterrupt\u001b[0m\u001b[1;33m:\u001b[0m\u001b[1;33m\u001b[0m\u001b[1;33m\u001b[0m\u001b[0m\n\u001b[0;32m    903\u001b[0m                 \u001b[1;31m# re-raise KeyboardInterrupt, to truncate traceback\u001b[0m\u001b[1;33m\u001b[0m\u001b[1;33m\u001b[0m\u001b[1;33m\u001b[0m\u001b[0m\n\u001b[1;32m--> 904\u001b[1;33m                 \u001b[1;32mraise\u001b[0m \u001b[0mKeyboardInterrupt\u001b[0m\u001b[1;33m(\u001b[0m\u001b[1;34m\"Interrupted by user\"\u001b[0m\u001b[1;33m)\u001b[0m \u001b[1;32mfrom\u001b[0m \u001b[1;32mNone\u001b[0m\u001b[1;33m\u001b[0m\u001b[1;33m\u001b[0m\u001b[0m\n\u001b[0m\u001b[0;32m    905\u001b[0m             \u001b[1;32mexcept\u001b[0m \u001b[0mException\u001b[0m \u001b[1;32mas\u001b[0m \u001b[0me\u001b[0m\u001b[1;33m:\u001b[0m\u001b[1;33m\u001b[0m\u001b[1;33m\u001b[0m\u001b[0m\n\u001b[0;32m    906\u001b[0m                 \u001b[0mself\u001b[0m\u001b[1;33m.\u001b[0m\u001b[0mlog\u001b[0m\u001b[1;33m.\u001b[0m\u001b[0mwarning\u001b[0m\u001b[1;33m(\u001b[0m\u001b[1;34m\"Invalid Message:\"\u001b[0m\u001b[1;33m,\u001b[0m \u001b[0mexc_info\u001b[0m\u001b[1;33m=\u001b[0m\u001b[1;32mTrue\u001b[0m\u001b[1;33m)\u001b[0m\u001b[1;33m\u001b[0m\u001b[1;33m\u001b[0m\u001b[0m\n",
      "\u001b[1;31mKeyboardInterrupt\u001b[0m: Interrupted by user"
     ]
    }
   ],
   "source": [
    "#Quiz Start\n",
    "for impWords in wordListNN:\n",
    "    output(impWords,originText)\n",
    "    print()\n",
    "    answer = input()\n",
    "    print(impWords)\n",
    "    if answer == impWords:\n",
    "        print(\"정답입니다.\")\n",
    "    print()\n",
    "    time.sleep(3)"
   ]
  },
  {
   "cell_type": "code",
   "execution_count": 1,
   "metadata": {},
   "outputs": [],
   "source": [
    "trainNews = pd.read_csv()"
   ]
  },
  {
   "cell_type": "code",
   "execution_count": null,
   "metadata": {},
   "outputs": [],
   "source": []
  }
 ],
 "metadata": {
  "kernelspec": {
   "display_name": "Python 3",
   "language": "python",
   "name": "python3"
  },
  "language_info": {
   "codemirror_mode": {
    "name": "ipython",
    "version": 3
   },
   "file_extension": ".py",
   "mimetype": "text/x-python",
   "name": "python",
   "nbconvert_exporter": "python",
   "pygments_lexer": "ipython3",
   "version": "3.8.3"
  }
 },
 "nbformat": 4,
 "nbformat_minor": 4
}
