{
 "cells": [
  {
   "cell_type": "code",
   "execution_count": 163,
   "metadata": {},
   "outputs": [],
   "source": [
    "#!pip install sumy\n",
    "#!pip install pyemd"
   ]
  },
  {
   "cell_type": "code",
   "execution_count": 71,
   "metadata": {},
   "outputs": [],
   "source": [
    "from sumy.parsers.plaintext import PlaintextParser\n",
    "from sumy.nlp.tokenizers import Tokenizer\n",
    "from sumy.summarizers.lsa import LsaSummarizer\n",
    "from sumy.summarizers.text_rank import TextRankSummarizer\n",
    "from sumy.summarizers.lex_rank import LexRankSummarizer\n",
    "from sumy.summarizers.luhn import LuhnSummarizer\n",
    "\n",
    "from collections import Counter"
   ]
  },
  {
   "cell_type": "code",
   "execution_count": 4,
   "metadata": {},
   "outputs": [],
   "source": [
    "text = \"\"\"\n",
    "For their own benefit, companies have various ways of offering lower prices. One way of doing this is a\n",
    "trade discount. It is offered to the shops or businesses that buy goods on a large scale and sell them. There is\n",
    "also a quantity discount, which is offered to individuals who order quantities of a product. The company gives a\n",
    "price break to these buyers because they help cut the costs of selling, storing, shipping, and billing. Finally, a\n",
    "cash discount is a lower price offered to people who pay in cash.\n",
    "\"\"\""
   ]
  },
  {
   "cell_type": "code",
   "execution_count": 6,
   "metadata": {},
   "outputs": [],
   "source": [
    "parser = PlaintextParser.from_string(text, Tokenizer(\"english\"))"
   ]
  },
  {
   "cell_type": "code",
   "execution_count": 26,
   "metadata": {},
   "outputs": [],
   "source": [
    "sumarizer_lsa = LsaSummarizer()\n",
    "summary_lsa = sumarizer_lsa(parser.document , 3)"
   ]
  },
  {
   "cell_type": "code",
   "execution_count": 27,
   "metadata": {},
   "outputs": [
    {
     "name": "stdout",
     "output_type": "stream",
     "text": [
      "For their own benefit, companies have various ways of offering lower prices.\n",
      "One way of doing this is a trade discount.\n",
      "It is offered to the shops or businesses that buy goods on a large scale and sell them.\n"
     ]
    }
   ],
   "source": [
    "for sentence in summary_lsa:\n",
    "    print(sentence)"
   ]
  },
  {
   "cell_type": "code",
   "execution_count": 28,
   "metadata": {},
   "outputs": [],
   "source": [
    "summary_textRank = TextRankSummarizer()\n",
    "summary_textRank = summary_textRank(parser.document, 3)"
   ]
  },
  {
   "cell_type": "code",
   "execution_count": 75,
   "metadata": {},
   "outputs": [
    {
     "data": {
      "text/plain": [
       "['There is also a quantity discount, which is offered to individuals who order quantities of a product.',\n",
       " 'The company gives a price break to these buyers because they help cut the costs of selling, storing, shipping, and billing.',\n",
       " 'Finally, a cash discount is a lower price offered to people who pay in cash.']"
      ]
     },
     "execution_count": 75,
     "metadata": {},
     "output_type": "execute_result"
    }
   ],
   "source": [
    "textRankSentence = list()\n",
    "for sentence in summary_textRank:\n",
    "    sentence = str(sentence)\n",
    "    textRankSentence.append(sentence)\n",
    "    \n",
    "textRankSentence"
   ]
  },
  {
   "cell_type": "code",
   "execution_count": 32,
   "metadata": {},
   "outputs": [],
   "source": [
    "summary_LexRank = LexRankSummarizer()\n",
    "summary_LexRank = summary_LexRank(parser.document , 3)"
   ]
  },
  {
   "cell_type": "code",
   "execution_count": 33,
   "metadata": {},
   "outputs": [
    {
     "name": "stdout",
     "output_type": "stream",
     "text": [
      "For their own benefit, companies have various ways of offering lower prices.\n",
      "One way of doing this is a trade discount.\n",
      "It is offered to the shops or businesses that buy goods on a large scale and sell them.\n"
     ]
    }
   ],
   "source": [
    "for sentence in summary_LexRank:\n",
    "    print(sentence)"
   ]
  },
  {
   "cell_type": "code",
   "execution_count": 37,
   "metadata": {},
   "outputs": [],
   "source": [
    "summarizer_luhn = LuhnSummarizer()\n",
    "summarizer_luhn = summarizer_luhn(parser.document, 3)"
   ]
  },
  {
   "cell_type": "code",
   "execution_count": 49,
   "metadata": {},
   "outputs": [
    {
     "data": {
      "text/plain": [
       "['It is offered to the shops or businesses that buy goods on a large scale and sell them.',\n",
       " 'There is also a quantity discount, which is offered to individuals who order quantities of a product.',\n",
       " 'Finally, a cash discount is a lower price offered to people who pay in cash.']"
      ]
     },
     "execution_count": 49,
     "metadata": {},
     "output_type": "execute_result"
    }
   ],
   "source": [
    "luhnSentence = list()\n",
    "for sentence in summarizer_luhn:\n",
    "    sentence = str(sentence)\n",
    "    luhnSentence.append(sentence)"
   ]
  }
 ],
 "metadata": {
  "kernelspec": {
   "display_name": "Python 3",
   "language": "python",
   "name": "python3"
  },
  "language_info": {
   "codemirror_mode": {
    "name": "ipython",
    "version": 3
   },
   "file_extension": ".py",
   "mimetype": "text/x-python",
   "name": "python",
   "nbconvert_exporter": "python",
   "pygments_lexer": "ipython3",
   "version": "3.7.6"
  }
 },
 "nbformat": 4,
 "nbformat_minor": 4
}
