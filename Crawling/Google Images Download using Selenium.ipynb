{
 "cells": [
  {
   "cell_type": "code",
   "execution_count": 12,
   "metadata": {},
   "outputs": [],
   "source": [
    "#!pip install gids"
   ]
  },
  {
   "cell_type": "code",
   "execution_count": 1,
   "metadata": {},
   "outputs": [],
   "source": [
    "from gids import builder"
   ]
  },
  {
   "cell_type": "code",
   "execution_count": 4,
   "metadata": {},
   "outputs": [
    {
     "name": "stderr",
     "output_type": "stream",
     "text": [
      "ERROR:root:Internal Python error in the inspect module.\n",
      "Below is the traceback from this internal error.\n",
      "\n"
     ]
    },
    {
     "name": "stdout",
     "output_type": "stream",
     "text": [
      "No found chromedriver in this environment.\n",
      "Install on your machine. exception: Message: session not created: This version of ChromeDriver only supports Chrome version 86\n",
      "Current browser version is 88.0.4324.150 with binary path /Applications/Google Chrome.app/Contents/MacOS/Google Chrome\n",
      "\n",
      "Traceback (most recent call last):\n",
      "  File \"/opt/anaconda3/lib/python3.7/site-packages/gids/builder.py\", line 141, in build\n",
      "    driver = webdriver.Chrome(config['driver_path'], options=options)\n",
      "  File \"/opt/anaconda3/lib/python3.7/site-packages/selenium/webdriver/chrome/webdriver.py\", line 81, in __init__\n",
      "    desired_capabilities=desired_capabilities)\n",
      "  File \"/opt/anaconda3/lib/python3.7/site-packages/selenium/webdriver/remote/webdriver.py\", line 157, in __init__\n",
      "    self.start_session(capabilities, browser_profile)\n",
      "  File \"/opt/anaconda3/lib/python3.7/site-packages/selenium/webdriver/remote/webdriver.py\", line 252, in start_session\n",
      "    response = self.execute(Command.NEW_SESSION, parameters)\n",
      "  File \"/opt/anaconda3/lib/python3.7/site-packages/selenium/webdriver/remote/webdriver.py\", line 321, in execute\n",
      "    self.error_handler.check_response(response)\n",
      "  File \"/opt/anaconda3/lib/python3.7/site-packages/selenium/webdriver/remote/errorhandler.py\", line 242, in check_response\n",
      "    raise exception_class(message, screen, stacktrace)\n",
      "selenium.common.exceptions.SessionNotCreatedException: Message: session not created: This version of ChromeDriver only supports Chrome version 86\n",
      "Current browser version is 88.0.4324.150 with binary path /Applications/Google Chrome.app/Contents/MacOS/Google Chrome\n",
      "\n",
      "\n",
      "During handling of the above exception, another exception occurred:\n",
      "\n",
      "Traceback (most recent call last):\n",
      "  File \"/opt/anaconda3/lib/python3.7/site-packages/IPython/core/interactiveshell.py\", line 3331, in run_code\n",
      "    exec(code_obj, self.user_global_ns, self.user_ns)\n",
      "  File \"<ipython-input-4-c3f02e34cdda>\", line 24, in <module>\n",
      "    downloader = builder.build(config)\n",
      "  File \"/opt/anaconda3/lib/python3.7/site-packages/gids/builder.py\", line 145, in build\n",
      "    sys.exit()\n",
      "SystemExit\n",
      "\n",
      "During handling of the above exception, another exception occurred:\n",
      "\n",
      "Traceback (most recent call last):\n",
      "  File \"/opt/anaconda3/lib/python3.7/site-packages/IPython/core/ultratb.py\", line 1151, in get_records\n",
      "    return _fixed_getinnerframes(etb, number_of_lines_of_context, tb_offset)\n",
      "  File \"/opt/anaconda3/lib/python3.7/site-packages/IPython/core/ultratb.py\", line 319, in wrapped\n",
      "    return f(*args, **kwargs)\n",
      "  File \"/opt/anaconda3/lib/python3.7/site-packages/IPython/core/ultratb.py\", line 353, in _fixed_getinnerframes\n",
      "    records = fix_frame_records_filenames(inspect.getinnerframes(etb, context))\n",
      "  File \"/opt/anaconda3/lib/python3.7/inspect.py\", line 1502, in getinnerframes\n",
      "    frameinfo = (tb.tb_frame,) + getframeinfo(tb, context)\n",
      "AttributeError: 'tuple' object has no attribute 'tb_frame'\n"
     ]
    },
    {
     "ename": "SystemExit",
     "evalue": "",
     "output_type": "error",
     "traceback": [
      "An exception has occurred, use %tb to see the full traceback.\n",
      "\u001b[0;31m---------------------------------------------------------------------------\u001b[0m",
      "\nDuring handling of the above exception, another exception occurred:\n",
      "\u001b[0;31mSystemExit\u001b[0m\n"
     ]
    }
   ],
   "source": [
    "config = {\n",
    "    'driver_path': './chromedriver',\n",
    "    'headless': True,\n",
    "    'window-size': '720x480',\n",
    "    'disable_gpu': False\n",
    "}\n",
    "\n",
    "first_item = {\n",
    "    'keyword': '사자',\n",
    "    'limit': 10, # The number of images\n",
    "    'download_context': './downloads',\n",
    "    'path': 'animal' # save in ./data/animal/img_01...10\n",
    "}\n",
    "\n",
    "second_item = {\n",
    "    'keyword': '안개꽃',\n",
    "    'limit': 10, # The number of images\n",
    "    'download_context': './downloads',\n",
    "    'path': 'plant' # save in ./data/plant/img_01...10\n",
    "}\n",
    "\n",
    "items = [first_item, second_item]\n",
    "\n",
    "downloader = builder.build(config)\n",
    "\n",
    "downloader.download(items)"
   ]
  },
  {
   "cell_type": "code",
   "execution_count": null,
   "metadata": {},
   "outputs": [],
   "source": []
  }
 ],
 "metadata": {
  "kernelspec": {
   "display_name": "Python 3",
   "language": "python",
   "name": "python3"
  },
  "language_info": {
   "codemirror_mode": {
    "name": "ipython",
    "version": 3
   },
   "file_extension": ".py",
   "mimetype": "text/x-python",
   "name": "python",
   "nbconvert_exporter": "python",
   "pygments_lexer": "ipython3",
   "version": "3.7.6"
  }
 },
 "nbformat": 4,
 "nbformat_minor": 4
}
