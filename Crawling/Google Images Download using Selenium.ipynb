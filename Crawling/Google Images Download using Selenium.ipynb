{
 "cells": [
  {
   "cell_type": "code",
   "execution_count": 12,
   "metadata": {},
   "outputs": [],
   "source": [
    "#!pip install gids"
   ]
  },
  {
   "cell_type": "code",
   "execution_count": 2,
   "metadata": {},
   "outputs": [],
   "source": [
    "from gids import builder"
   ]
  },
  {
   "cell_type": "code",
   "execution_count": 11,
   "metadata": {},
   "outputs": [],
   "source": [
    "config = {\n",
    "    'driver_path': './chromedriver',\n",
    "    'headless': True,\n",
    "    'window-size': '720x480',\n",
    "    'disable_gpu': False\n",
    "}\n",
    "\n",
    "first_item = {\n",
    "    'keyword': '사자',\n",
    "    'limit': 10, # The number of images\n",
    "    'download_context': './downloads',\n",
    "    'path': 'animal' # save in ./data/animal/img_01...10\n",
    "}\n",
    "\n",
    "second_item = {\n",
    "    'keyword': '안개꽃',\n",
    "    'limit': 10, # The number of images\n",
    "    'download_context': './downloads',\n",
    "    'path': 'plant' # save in ./data/plant/img_01...10\n",
    "}\n",
    "\n",
    "items = [first_item, second_item]\n",
    "\n",
    "downloader = builder.build(config)\n",
    "\n",
    "downloader.download(items)"
   ]
  },
  {
   "cell_type": "code",
   "execution_count": null,
   "metadata": {},
   "outputs": [],
   "source": []
  }
 ],
 "metadata": {
  "kernelspec": {
   "display_name": "Python 3",
   "language": "python",
   "name": "python3"
  },
  "language_info": {
   "codemirror_mode": {
    "name": "ipython",
    "version": 3
   },
   "file_extension": ".py",
   "mimetype": "text/x-python",
   "name": "python",
   "nbconvert_exporter": "python",
   "pygments_lexer": "ipython3",
   "version": "3.7.6"
  }
 },
 "nbformat": 4,
 "nbformat_minor": 4
}
