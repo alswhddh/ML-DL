{
 "cells": [
  {
   "cell_type": "markdown",
   "metadata": {},
   "source": [
    "https://somjang.tistory.com/entry/PythonSelenium%EC%9D%84-%EC%82%AC%EC%9A%A9%ED%95%98%EC%97%AC-%EC%9C%A0%ED%8A%9C%EB%B8%8C-%EB%8C%93%EA%B8%80-%EA%B0%80%EC%A0%B8%EC%98%A4%EA%B8%B0"
   ]
  },
  {
   "cell_type": "code",
   "execution_count": 5,
   "metadata": {},
   "outputs": [],
   "source": [
    "from selenium import webdriver as wd\n",
    "from bs4 import BeautifulSoup\n",
    "import time"
   ]
  },
  {
   "cell_type": "markdown",
   "metadata": {},
   "source": [
    "#### 스크롤을 해서 댓글을 모두 볼 수 있게 해야함으로 selenium 을 사용해야한다."
   ]
  },
  {
   "cell_type": "code",
   "execution_count": 6,
   "metadata": {},
   "outputs": [],
   "source": [
    "#백그라운드로 하기\n",
    "options = wd.ChromeOptions()\n",
    "options.add_argument('headless')"
   ]
  },
  {
   "cell_type": "code",
   "execution_count": 7,
   "metadata": {},
   "outputs": [
    {
     "name": "stderr",
     "output_type": "stream",
     "text": [
      "<ipython-input-7-45a6e0752a69>:1: DeprecationWarning: use options instead of chrome_options\n",
      "  driver = wd.Chrome(\"./chromedriver\",chrome_options=options)\n"
     ]
    },
    {
     "ename": "KeyboardInterrupt",
     "evalue": "",
     "output_type": "error",
     "traceback": [
      "\u001b[0;31m---------------------------------------------------------------------------\u001b[0m",
      "\u001b[0;31mKeyboardInterrupt\u001b[0m                         Traceback (most recent call last)",
      "\u001b[0;32m<ipython-input-7-45a6e0752a69>\u001b[0m in \u001b[0;36m<module>\u001b[0;34m\u001b[0m\n\u001b[1;32m      7\u001b[0m \u001b[0;32mwhile\u001b[0m \u001b[0;32mTrue\u001b[0m\u001b[0;34m:\u001b[0m\u001b[0;34m\u001b[0m\u001b[0;34m\u001b[0m\u001b[0m\n\u001b[1;32m      8\u001b[0m     \u001b[0mdriver\u001b[0m\u001b[0;34m.\u001b[0m\u001b[0mexecute_script\u001b[0m\u001b[0;34m(\u001b[0m\u001b[0;34m\"window.scrollTo(0, document.documentElement.scrollHeight);\"\u001b[0m\u001b[0;34m)\u001b[0m\u001b[0;34m\u001b[0m\u001b[0;34m\u001b[0m\u001b[0m\n\u001b[0;32m----> 9\u001b[0;31m     \u001b[0mtime\u001b[0m\u001b[0;34m.\u001b[0m\u001b[0msleep\u001b[0m\u001b[0;34m(\u001b[0m\u001b[0;36m3.0\u001b[0m\u001b[0;34m)\u001b[0m\u001b[0;34m\u001b[0m\u001b[0;34m\u001b[0m\u001b[0m\n\u001b[0m\u001b[1;32m     10\u001b[0m     \u001b[0mnew_page_height\u001b[0m \u001b[0;34m=\u001b[0m \u001b[0mdriver\u001b[0m\u001b[0;34m.\u001b[0m\u001b[0mexecute_script\u001b[0m\u001b[0;34m(\u001b[0m\u001b[0;34m\"return document.documentElement.scrollHeight\"\u001b[0m\u001b[0;34m)\u001b[0m\u001b[0;34m\u001b[0m\u001b[0;34m\u001b[0m\u001b[0m\n\u001b[1;32m     11\u001b[0m \u001b[0;34m\u001b[0m\u001b[0m\n",
      "\u001b[0;31mKeyboardInterrupt\u001b[0m: "
     ]
    }
   ],
   "source": [
    "driver = wd.Chrome(\"./chromedriver\",chrome_options=options)\n",
    "url = 'https://www.youtube.com/watch?v=xBqCNDegljk'\n",
    "driver.get(url)\n",
    "\n",
    "last_page_height = driver.execute_script(\"return document.documentElement.scrollHeight\")\n",
    "\n",
    "while True:\n",
    "    driver.execute_script(\"window.scrollTo(0, document.documentElement.scrollHeight);\")\n",
    "    time.sleep(3.0)\n",
    "    new_page_height = driver.execute_script(\"return document.documentElement.scrollHeight\")\n",
    "    \n",
    "    if new_page_height == last_page_height:\n",
    "        break\n",
    "    last_page_height = new_page_height\n",
    "\n",
    "html_source = driver.page_source\n",
    "\n",
    "#driver.close()\n",
    "soup = BeautifulSoup(html_source, 'lxml')"
   ]
  },
  {
   "cell_type": "code",
   "execution_count": 10,
   "metadata": {},
   "outputs": [],
   "source": [
    "youtube_user_IDs = soup.select('div#header-author > a > span')\n",
    "youtube_comments = soup.select('yt-formatted-string#content-text')"
   ]
  },
  {
   "cell_type": "code",
   "execution_count": 11,
   "metadata": {},
   "outputs": [],
   "source": [
    "str_youtube_userIDs = []\n",
    "str_youtube_comments = []\n",
    "\n",
    "for i in range(len(youtube_user_IDs)):\n",
    "    str_tmp = str(youtube_user_IDs[i].text)\n",
    "    str_tmp = str_tmp.replace('\\n','')\n",
    "    str_tmp = str_tmp.replace('\\t','')\n",
    "    str_tmp = str_tmp.replace('                ','')\n",
    "    str_youtube_userIDs.append(str_tmp)\n",
    "    \n",
    "    str_tmp = str(youtube_comments[i].text)\n",
    "    str_tmp = str_tmp.replace('\\n','')\n",
    "    str_tmp = str_tmp.replace('\\t','')\n",
    "    str_tmp = str_tmp.replace('                ','')\n",
    "    str_youtube_comments.append(str_tmp)"
   ]
  },
  {
   "cell_type": "markdown",
   "metadata": {},
   "source": [
    "## DataFrame을 활용하여 가독성 높이기"
   ]
  },
  {
   "cell_type": "code",
   "execution_count": 12,
   "metadata": {},
   "outputs": [],
   "source": [
    "import pandas as pd"
   ]
  },
  {
   "cell_type": "code",
   "execution_count": 13,
   "metadata": {},
   "outputs": [],
   "source": [
    "data = {\"ID\":str_youtube_userIDs,\"Comment\":str_youtube_comments}"
   ]
  },
  {
   "cell_type": "code",
   "execution_count": 14,
   "metadata": {},
   "outputs": [],
   "source": [
    "df = pd.DataFrame(data)"
   ]
  },
  {
   "cell_type": "code",
   "execution_count": 15,
   "metadata": {},
   "outputs": [
    {
     "data": {
      "text/html": [
       "<div>\n",
       "<style scoped>\n",
       "    .dataframe tbody tr th:only-of-type {\n",
       "        vertical-align: middle;\n",
       "    }\n",
       "\n",
       "    .dataframe tbody tr th {\n",
       "        vertical-align: top;\n",
       "    }\n",
       "\n",
       "    .dataframe thead th {\n",
       "        text-align: right;\n",
       "    }\n",
       "</style>\n",
       "<table border=\"1\" class=\"dataframe\">\n",
       "  <thead>\n",
       "    <tr style=\"text-align: right;\">\n",
       "      <th></th>\n",
       "      <th>ID</th>\n",
       "      <th>Comment</th>\n",
       "    </tr>\n",
       "  </thead>\n",
       "  <tbody>\n",
       "    <tr>\n",
       "      <th>0</th>\n",
       "      <td>Humans of North Korea</td>\n",
       "      <td>무슨 골을 밥먹듯이 넣어버리는 그는...</td>\n",
       "    </tr>\n",
       "    <tr>\n",
       "      <th>1</th>\n",
       "      <td>예쁜글씨</td>\n",
       "      <td>와!!! 와!!!  앞으로 5골도 거뜬 하겠어요 기분좋은 날 이었습니다.</td>\n",
       "    </tr>\n",
       "    <tr>\n",
       "      <th>2</th>\n",
       "      <td>Humans of North Korea</td>\n",
       "      <td>So proud of Son🥇</td>\n",
       "    </tr>\n",
       "    <tr>\n",
       "      <th>3</th>\n",
       "      <td>김현우</td>\n",
       "      <td>케인이 욕심내지않고 손흥민을 믿기때문에 이런좋은모습이 나온것같다 두선수다 서로를 위...</td>\n",
       "    </tr>\n",
       "    <tr>\n",
       "      <th>4</th>\n",
       "      <td>JH K</td>\n",
       "      <td>케인 진짜 대단하다 욕심낼만도 한데 침착하게 패스넣어주는게... 진짜 멋지다</td>\n",
       "    </tr>\n",
       "    <tr>\n",
       "      <th>...</th>\n",
       "      <td>...</td>\n",
       "      <td>...</td>\n",
       "    </tr>\n",
       "    <tr>\n",
       "      <th>1575</th>\n",
       "      <td>성다빈</td>\n",
       "      <td>나이스 원 쏘니</td>\n",
       "    </tr>\n",
       "    <tr>\n",
       "      <th>1576</th>\n",
       "      <td>Anne</td>\n",
       "      <td>와 해설자가 계속 ‘대한민국의 손흥민’ 이라고 하는거 나만 좋은건가 진짜 너무 자랑...</td>\n",
       "    </tr>\n",
       "    <tr>\n",
       "      <th>1577</th>\n",
       "      <td>독도는일본땅</td>\n",
       "      <td>독도는 일본땅</td>\n",
       "    </tr>\n",
       "    <tr>\n",
       "      <th>1578</th>\n",
       "      <td>윤주열</td>\n",
       "      <td>현지해설이라면 현지해설인데 이거는 토트넘 구단매치후 더빙아닌가요?</td>\n",
       "    </tr>\n",
       "    <tr>\n",
       "      <th>1579</th>\n",
       "      <td>Korea First</td>\n",
       "      <td>반드시 밝히고, 처단해야 할 중국 공산당도 관여된 4.15부정/ 조작선거  증거들....</td>\n",
       "    </tr>\n",
       "  </tbody>\n",
       "</table>\n",
       "<p>1580 rows × 2 columns</p>\n",
       "</div>"
      ],
      "text/plain": [
       "                                               ID  \\\n",
       "0                 Humans of North Korea             \n",
       "1                                  예쁜글씨             \n",
       "2                 Humans of North Korea             \n",
       "3                                   김현우             \n",
       "4                                  JH K             \n",
       "...                                           ...   \n",
       "1575                                성다빈             \n",
       "1576                               Anne             \n",
       "1577                             독도는일본땅             \n",
       "1578                                윤주열             \n",
       "1579                        Korea First             \n",
       "\n",
       "                                                Comment  \n",
       "0                                무슨 골을 밥먹듯이 넣어버리는 그는...  \n",
       "1              와!!! 와!!!  앞으로 5골도 거뜬 하겠어요 기분좋은 날 이었습니다.  \n",
       "2                                      So proud of Son🥇  \n",
       "3     케인이 욕심내지않고 손흥민을 믿기때문에 이런좋은모습이 나온것같다 두선수다 서로를 위...  \n",
       "4            케인 진짜 대단하다 욕심낼만도 한데 침착하게 패스넣어주는게... 진짜 멋지다  \n",
       "...                                                 ...  \n",
       "1575                                           나이스 원 쏘니  \n",
       "1576  와 해설자가 계속 ‘대한민국의 손흥민’ 이라고 하는거 나만 좋은건가 진짜 너무 자랑...  \n",
       "1577                                            독도는 일본땅  \n",
       "1578               현지해설이라면 현지해설인데 이거는 토트넘 구단매치후 더빙아닌가요?  \n",
       "1579  반드시 밝히고, 처단해야 할 중국 공산당도 관여된 4.15부정/ 조작선거  증거들....  \n",
       "\n",
       "[1580 rows x 2 columns]"
      ]
     },
     "execution_count": 15,
     "metadata": {},
     "output_type": "execute_result"
    }
   ],
   "source": [
    "df"
   ]
  },
  {
   "cell_type": "code",
   "execution_count": null,
   "metadata": {},
   "outputs": [],
   "source": []
  }
 ],
 "metadata": {
  "kernelspec": {
   "display_name": "Python 3",
   "language": "python",
   "name": "python3"
  },
  "language_info": {
   "codemirror_mode": {
    "name": "ipython",
    "version": 3
   },
   "file_extension": ".py",
   "mimetype": "text/x-python",
   "name": "python",
   "nbconvert_exporter": "python",
   "pygments_lexer": "ipython3",
   "version": "3.8.8"
  }
 },
 "nbformat": 4,
 "nbformat_minor": 4
}
