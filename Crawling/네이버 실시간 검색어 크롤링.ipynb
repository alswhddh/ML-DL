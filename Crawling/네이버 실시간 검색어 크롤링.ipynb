{
 "cells": [
  {
   "cell_type": "code",
   "execution_count": 1,
   "metadata": {},
   "outputs": [],
   "source": [
    "import requests\n",
    "from bs4 import BeautifulSoup"
   ]
  },
  {
   "cell_type": "code",
   "execution_count": 2,
   "metadata": {},
   "outputs": [],
   "source": [
    "url = 'https://search.naver.com/search.naver?sm=top_hty&fbm=1&ie=utf8&query=SBA'\n",
    "response = requests.get(url)"
   ]
  },
  {
   "cell_type": "code",
   "execution_count": 4,
   "metadata": {},
   "outputs": [],
   "source": [
    "soup = BeautifulSoup(response.text, 'html.parser')"
   ]
  },
  {
   "cell_type": "code",
   "execution_count": 13,
   "metadata": {
    "scrolled": true
   },
   "outputs": [
    {
     "name": "stdout",
     "output_type": "stream",
     "text": [
      "1위 : 신규확진 63명\n",
      "2위 : 이틀째 두 자릿수\n",
      "3위 : 지역발생 53명\n",
      "4위 : 코로나19 확진자\n",
      "5위 : 도쿄 증시\n",
      "6위 : 부산→서울 5시간10분\n",
      "7위 : 귀경길은 원활\n",
      "8위 : 공무원 12일째 수색\n",
      "9위 : 하루 만에 정상 거래 재개\n",
      "10위 : 공무원 피격\n",
      "11위 : 지금 이순간\n",
      "12위 : 트롯어워즈 대상 이미자\n",
      "13위 : 2020 트롯 어워즈\n",
      "14위 : 故 최진실\n",
      "15위 : 시청률 22.4%\n",
      "16위 : 임영웅 6관왕\n",
      "17위 : 사랑의 콜센타 PART26\n",
      "18위 : 방탄소년단 출연\n",
      "19위 : 김호중 외가 친척 이시현\n",
      "20위 : 전참시 지현우\n"
     ]
    }
   ],
   "source": [
    "topKeyword = soup.find_all('span',{'class':'tit'})[:20]\n",
    "#find / find_all / select_one / select\n",
    "\n",
    "for index, keyword_tag in enumerate(topKeyword):\n",
    "    print('{}위 : {}'.format(index+1,keyword_tag.get_text()))"
   ]
  },
  {
   "cell_type": "markdown",
   "metadata": {},
   "source": [
    "## enumerate : 반복문을 돌때 자동으로 인덱스를 매겨준다."
   ]
  },
  {
   "cell_type": "code",
   "execution_count": null,
   "metadata": {},
   "outputs": [],
   "source": []
  }
 ],
 "metadata": {
  "kernelspec": {
   "display_name": "Python 3",
   "language": "python",
   "name": "python3"
  },
  "language_info": {
   "codemirror_mode": {
    "name": "ipython",
    "version": 3
   },
   "file_extension": ".py",
   "mimetype": "text/x-python",
   "name": "python",
   "nbconvert_exporter": "python",
   "pygments_lexer": "ipython3",
   "version": "3.7.6"
  }
 },
 "nbformat": 4,
 "nbformat_minor": 4
}
