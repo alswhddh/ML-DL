{
 "cells": [
  {
   "cell_type": "code",
   "execution_count": 1,
   "metadata": {
    "scrolled": true
   },
   "outputs": [],
   "source": [
    "from selenium import webdriver\n",
    "from selenium.webdriver.common.keys import Keys\n",
    "import time\n",
    "from tqdm import tqdm\n",
    "from urllib.request import urlretrieve\n",
    "import os\n",
    "import glob"
   ]
  },
  {
   "cell_type": "code",
   "execution_count": 6,
   "metadata": {},
   "outputs": [],
   "source": [
    "def youConThuDown(youtuberName , maxCount ,url, filetype=\".jpg\"):\n",
    "    # 웹 접속 - 네이버 이미지 접속\n",
    "    print(\"접속중\")\n",
    "    driver = webdriver.Chrome('./chromedriver')\n",
    "    driver.implicitly_wait(10)\n",
    "\n",
    "    driver.get(url)\n",
    "\n",
    "    #페이지 스크롤 다운\n",
    "    body = driver.find_element_by_css_selector('body')\n",
    "    for i in range(3):\n",
    "        body.send_keys(Keys.PAGE_DOWN)\n",
    "        time.sleep(1)\n",
    "\n",
    "    #이미지 링크 수집\n",
    "    imgs = driver.find_elements_by_id(\"img\")[:maxCount]\n",
    "    result = []\n",
    "    for img in imgs:\n",
    "        if 'jpg' in img.get_attribute('src'):\n",
    "            result.append(img.get_attribute('src')[:48])\n",
    "    #print(result)\n",
    "    \n",
    "    driver.close()\n",
    "    print(\"수집완료\")\n",
    "\n",
    "    #폴더생성\n",
    "    print(\"폴더생성\")\n",
    "    if not os.path.isdir('./{}'.format(youtuberName)):\n",
    "        os.mkdir('./{}'.format(youtuberName))\n",
    "\n",
    "    #다운로드\n",
    "    print(\"다운로드\")\n",
    "    for index , link in tqdm(enumerate(result)):\n",
    "        start = link.rfind('.')\n",
    "        end = link.rfind('&')\n",
    "        # print(link[start:end])\n",
    "        urlretrieve(link , './{}/{}{}{}'.format(youtuberName,youtuberName,index,filetype))\n",
    "\n",
    "\n",
    "    print(\"다운로드 완료\")"
   ]
  },
  {
   "cell_type": "code",
   "execution_count": null,
   "metadata": {
    "scrolled": true
   },
   "outputs": [
    {
     "name": "stdout",
     "output_type": "stream",
     "text": [
      "접속중\n"
     ]
    }
   ],
   "source": [
    "youtuber = \"JaneASMR제인\"\n",
    "count = 25\n",
    "youConThuDown(youtuber,count,\"https://www.youtube.com/c/JaneASMR%EC%A0%9C%EC%9D%B8/videos?view=0&sort=p&flow=grid\")"
   ]
  },
  {
   "cell_type": "code",
   "execution_count": 4,
   "metadata": {},
   "outputs": [],
   "source": [
    "imagesPath = glob.glob(os.getcwd() + \"/{}/*.jpg\".format(youtuber))"
   ]
  },
  {
   "cell_type": "code",
   "execution_count": null,
   "metadata": {},
   "outputs": [],
   "source": []
  },
  {
   "cell_type": "code",
   "execution_count": 5,
   "metadata": {},
   "outputs": [
    {
     "ename": "WebDriverException",
     "evalue": "Message: 'chromedriver.exe' executable needs to be in PATH. Please see https://sites.google.com/a/chromium.org/chromedriver/home\n",
     "output_type": "error",
     "traceback": [
      "\u001b[0;31m---------------------------------------------------------------------------\u001b[0m",
      "\u001b[0;31mFileNotFoundError\u001b[0m                         Traceback (most recent call last)",
      "\u001b[0;32m/opt/anaconda3/lib/python3.7/site-packages/selenium/webdriver/common/service.py\u001b[0m in \u001b[0;36mstart\u001b[0;34m(self)\u001b[0m\n\u001b[1;32m     75\u001b[0m                                             \u001b[0mstderr\u001b[0m\u001b[0;34m=\u001b[0m\u001b[0mself\u001b[0m\u001b[0;34m.\u001b[0m\u001b[0mlog_file\u001b[0m\u001b[0;34m,\u001b[0m\u001b[0;34m\u001b[0m\u001b[0;34m\u001b[0m\u001b[0m\n\u001b[0;32m---> 76\u001b[0;31m                                             stdin=PIPE)\n\u001b[0m\u001b[1;32m     77\u001b[0m         \u001b[0;32mexcept\u001b[0m \u001b[0mTypeError\u001b[0m\u001b[0;34m:\u001b[0m\u001b[0;34m\u001b[0m\u001b[0;34m\u001b[0m\u001b[0m\n",
      "\u001b[0;32m/opt/anaconda3/lib/python3.7/subprocess.py\u001b[0m in \u001b[0;36m__init__\u001b[0;34m(self, args, bufsize, executable, stdin, stdout, stderr, preexec_fn, close_fds, shell, cwd, env, universal_newlines, startupinfo, creationflags, restore_signals, start_new_session, pass_fds, encoding, errors, text)\u001b[0m\n\u001b[1;32m    799\u001b[0m                                 \u001b[0merrread\u001b[0m\u001b[0;34m,\u001b[0m \u001b[0merrwrite\u001b[0m\u001b[0;34m,\u001b[0m\u001b[0;34m\u001b[0m\u001b[0;34m\u001b[0m\u001b[0m\n\u001b[0;32m--> 800\u001b[0;31m                                 restore_signals, start_new_session)\n\u001b[0m\u001b[1;32m    801\u001b[0m         \u001b[0;32mexcept\u001b[0m\u001b[0;34m:\u001b[0m\u001b[0;34m\u001b[0m\u001b[0;34m\u001b[0m\u001b[0m\n",
      "\u001b[0;32m/opt/anaconda3/lib/python3.7/subprocess.py\u001b[0m in \u001b[0;36m_execute_child\u001b[0;34m(self, args, executable, preexec_fn, close_fds, pass_fds, cwd, env, startupinfo, creationflags, shell, p2cread, p2cwrite, c2pread, c2pwrite, errread, errwrite, restore_signals, start_new_session)\u001b[0m\n\u001b[1;32m   1550\u001b[0m                             \u001b[0merr_msg\u001b[0m \u001b[0;34m+=\u001b[0m \u001b[0;34m': '\u001b[0m \u001b[0;34m+\u001b[0m \u001b[0mrepr\u001b[0m\u001b[0;34m(\u001b[0m\u001b[0merr_filename\u001b[0m\u001b[0;34m)\u001b[0m\u001b[0;34m\u001b[0m\u001b[0;34m\u001b[0m\u001b[0m\n\u001b[0;32m-> 1551\u001b[0;31m                     \u001b[0;32mraise\u001b[0m \u001b[0mchild_exception_type\u001b[0m\u001b[0;34m(\u001b[0m\u001b[0merrno_num\u001b[0m\u001b[0;34m,\u001b[0m \u001b[0merr_msg\u001b[0m\u001b[0;34m,\u001b[0m \u001b[0merr_filename\u001b[0m\u001b[0;34m)\u001b[0m\u001b[0;34m\u001b[0m\u001b[0;34m\u001b[0m\u001b[0m\n\u001b[0m\u001b[1;32m   1552\u001b[0m                 \u001b[0;32mraise\u001b[0m \u001b[0mchild_exception_type\u001b[0m\u001b[0;34m(\u001b[0m\u001b[0merr_msg\u001b[0m\u001b[0;34m)\u001b[0m\u001b[0;34m\u001b[0m\u001b[0;34m\u001b[0m\u001b[0m\n",
      "\u001b[0;31mFileNotFoundError\u001b[0m: [Errno 2] No such file or directory: './chromedriver.exe': './chromedriver.exe'",
      "\nDuring handling of the above exception, another exception occurred:\n",
      "\u001b[0;31mWebDriverException\u001b[0m                        Traceback (most recent call last)",
      "\u001b[0;32m<ipython-input-5-27e3a136d108>\u001b[0m in \u001b[0;36m<module>\u001b[0;34m\u001b[0m\n\u001b[0;32m----> 1\u001b[0;31m \u001b[0mdriver\u001b[0m \u001b[0;34m=\u001b[0m \u001b[0mwebdriver\u001b[0m\u001b[0;34m.\u001b[0m\u001b[0mChrome\u001b[0m\u001b[0;34m(\u001b[0m\u001b[0;34m'./chromedriver.exe'\u001b[0m\u001b[0;34m)\u001b[0m\u001b[0;34m\u001b[0m\u001b[0;34m\u001b[0m\u001b[0m\n\u001b[0m\u001b[1;32m      2\u001b[0m \u001b[0mdriver\u001b[0m\u001b[0;34m.\u001b[0m\u001b[0mimplicitly_wait\u001b[0m\u001b[0;34m(\u001b[0m\u001b[0;36m10\u001b[0m\u001b[0;34m)\u001b[0m\u001b[0;34m\u001b[0m\u001b[0;34m\u001b[0m\u001b[0m\n\u001b[1;32m      3\u001b[0m \u001b[0;34m\u001b[0m\u001b[0m\n\u001b[1;32m      4\u001b[0m \u001b[0mdriver\u001b[0m\u001b[0;34m.\u001b[0m\u001b[0mget\u001b[0m\u001b[0;34m(\u001b[0m\u001b[0;34m\"https://www.youtube.com/c/JaneASMR%EC%A0%9C%EC%9D%B8/videos?view=0&sort=p&flow=grid\"\u001b[0m\u001b[0;34m)\u001b[0m\u001b[0;34m\u001b[0m\u001b[0;34m\u001b[0m\u001b[0m\n",
      "\u001b[0;32m/opt/anaconda3/lib/python3.7/site-packages/selenium/webdriver/chrome/webdriver.py\u001b[0m in \u001b[0;36m__init__\u001b[0;34m(self, executable_path, port, options, service_args, desired_capabilities, service_log_path, chrome_options, keep_alive)\u001b[0m\n\u001b[1;32m     71\u001b[0m             \u001b[0mservice_args\u001b[0m\u001b[0;34m=\u001b[0m\u001b[0mservice_args\u001b[0m\u001b[0;34m,\u001b[0m\u001b[0;34m\u001b[0m\u001b[0;34m\u001b[0m\u001b[0m\n\u001b[1;32m     72\u001b[0m             log_path=service_log_path)\n\u001b[0;32m---> 73\u001b[0;31m         \u001b[0mself\u001b[0m\u001b[0;34m.\u001b[0m\u001b[0mservice\u001b[0m\u001b[0;34m.\u001b[0m\u001b[0mstart\u001b[0m\u001b[0;34m(\u001b[0m\u001b[0;34m)\u001b[0m\u001b[0;34m\u001b[0m\u001b[0;34m\u001b[0m\u001b[0m\n\u001b[0m\u001b[1;32m     74\u001b[0m \u001b[0;34m\u001b[0m\u001b[0m\n\u001b[1;32m     75\u001b[0m         \u001b[0;32mtry\u001b[0m\u001b[0;34m:\u001b[0m\u001b[0;34m\u001b[0m\u001b[0;34m\u001b[0m\u001b[0m\n",
      "\u001b[0;32m/opt/anaconda3/lib/python3.7/site-packages/selenium/webdriver/common/service.py\u001b[0m in \u001b[0;36mstart\u001b[0;34m(self)\u001b[0m\n\u001b[1;32m     81\u001b[0m                 raise WebDriverException(\n\u001b[1;32m     82\u001b[0m                     \"'%s' executable needs to be in PATH. %s\" % (\n\u001b[0;32m---> 83\u001b[0;31m                         os.path.basename(self.path), self.start_error_message)\n\u001b[0m\u001b[1;32m     84\u001b[0m                 )\n\u001b[1;32m     85\u001b[0m             \u001b[0;32melif\u001b[0m \u001b[0merr\u001b[0m\u001b[0;34m.\u001b[0m\u001b[0merrno\u001b[0m \u001b[0;34m==\u001b[0m \u001b[0merrno\u001b[0m\u001b[0;34m.\u001b[0m\u001b[0mEACCES\u001b[0m\u001b[0;34m:\u001b[0m\u001b[0;34m\u001b[0m\u001b[0;34m\u001b[0m\u001b[0m\n",
      "\u001b[0;31mWebDriverException\u001b[0m: Message: 'chromedriver.exe' executable needs to be in PATH. Please see https://sites.google.com/a/chromium.org/chromedriver/home\n"
     ]
    }
   ],
   "source": [
    "driver = webdriver.Chrome('./chromedriver.exe')\n",
    "driver.implicitly_wait(10)\n",
    "\n",
    "driver.get(\"https://www.youtube.com/c/JaneASMR%EC%A0%9C%EC%9D%B8/videos?view=0&sort=p&flow=grid\")"
   ]
  },
  {
   "cell_type": "code",
   "execution_count": 156,
   "metadata": {},
   "outputs": [],
   "source": [
    "text = driver.find_elements_by_id(\"video-title\")[0].get_attribute('aria-label')"
   ]
  },
  {
   "cell_type": "code",
   "execution_count": 160,
   "metadata": {},
   "outputs": [
    {
     "data": {
      "text/plain": [
       "'조회수 153,395,656회'"
      ]
     },
     "execution_count": 160,
     "metadata": {},
     "output_type": "execute_result"
    }
   ],
   "source": [
    "text[text.index(\"조회수\"):]"
   ]
  },
  {
   "cell_type": "code",
   "execution_count": 163,
   "metadata": {},
   "outputs": [],
   "source": [
    "title = []\n",
    "views = []\n",
    "for contents in driver.find_elements_by_id(\"video-title\")[:maxCount]:\n",
    "    title.append(contents.text)\n",
    "    temp = contents.get_attribute('aria-label')\n",
    "    views.append(temp[temp.index(\"조회수\"):])"
   ]
  },
  {
   "cell_type": "code",
   "execution_count": 164,
   "metadata": {},
   "outputs": [
    {
     "data": {
      "text/plain": [
       "['ASMR RAINBOW CREPE CAKE, EDIBLE SPOON, MACARON, NERDS ROPE JELLY 레인보우 크레이프 케이크, 너드 로프젤리, 먹는 숟가락 먹방',\n",
       " 'ASMR EDIBLE HAIR BRUSH, SPOON, BUBBLE TEA, GUMMY 먹는 빗, 숟가락, 햄버거 젤리, 주사위 사탕, 버블티 먹방 (EATING SOUNDS)',\n",
       " 'ASMR BLACK BEAN NOODLES + FRIED CHICKEN 시크릿 양념치킨 짜장 불닭볶음면 먹방 (EATING SOUNDS) NO TALKING MUKBANG',\n",
       " 'ASMR RAINBOW ICE DONUTS, EDIBLE SPOON, OREO 무지개 얼음, 먹는 숟가락, 오레오 먹방 (EATING SOUNDS) MUKBANG',\n",
       " 'ASMR JELLY NOODLES, GUMMY JELLY 젤리국수, 젤리 구미 먹방 (EATING SOUNDS) NO TALKING MUKBANG',\n",
       " 'ASMR SPOON + ICE CREAM 먹는 숟가락 + 베라 아이스크림 리얼사운드 먹방 (CRUNCHY EATING SOUNDS) NO TALKING MUKBANG',\n",
       " 'ASMR LOLLIPOP ICE CREAM, MARSHMALLOW, GUMMY JELLY 롤리팝 아이스크림, 마쉬멜로우, 젤리 먹방 EATING SOUNDS',\n",
       " 'MOST POPULAR FOOD FOR ASMR *HONEYCOMB, CANDIED FRUITS TANGHULU, TAPIOCA PEARLS BOBA 벌집꿀, 탕후루 먹방',\n",
       " 'ASMR WATERMELON ICE CREAM, MACARON, CAKE, JUICE 수박 아이스크림, 마카롱, 케이크, 수박주스 먹방 EATING SOUNDS',\n",
       " 'ASMR RAINBOW POPPING BOBA, ROCK CANDY, CREPE CAKE 무지개 팝핑보바, 락캔디, 크레이프 케이크 먹방 EATING SOUNDS',\n",
       " 'ASMR PURPLE FOOD EDIBLE ROSE, HAIR BRUSH, CANDLE, UNICORN CAKE 먹는 장미꽃, 먹는 빗, 먹는 캔들, 유니콘 케이크 먹방',\n",
       " 'ASMR EDIBLE ICE SPOON, ICE CREAM, KOHAKUTO, MACARON 숟가락 얼음, 구슬 아이스크림, 코하쿠토, 마카롱 먹방 EATING SOUNDS',\n",
       " 'ASMR BLACK BEAN FIRE NOODLES, KOREAN FRIED CHICKEN 짜장 불닭볶음면, 양념 치킨 먹방 (EATING SOUNDS)',\n",
       " 'ASMR GUMMY JELLY, LIPSTICK CANDY, CHOCOLATE 초콜릿, 젤리, 립스틱 사탕 먹방 (EATING SOUNDS) NO TALKING MUKBANG',\n",
       " 'ASMR EDIBLE LIPSTICK, GRAPE JELLY, CREPE CAKE, TIKTOK JELLO 먹는 립스틱, 포도 젤리, 크레이프 케이크 먹방 EATING SOUNDS',\n",
       " 'ASMR ICE CREAM PARTY *OREO ICE CREAM, CHOCOLATE ICE CREAM 오레오 아이스크림, 배라 초콜릿 아이스크림 먹방 EATING SOUNDS',\n",
       " 'ASMR EDIBLE iPHONE, EDIBLE SPOON, JELLY NOODLES 먹는 아이폰, 먹는 숟가락, 젤리 국수 먹방 EATING SOUNDS',\n",
       " 'ASMR SPOON, CREPE CAKE, HONEYCOMB, TANGHULU 숟가락, 크레이프 케이크, 벌집꿀, 과일 사탕 탕후루 먹방 (EATING SOUNDS)',\n",
       " 'ASMR *TRUFFLE BLACK BEAN NOODLES 화사님의 트러플오일 짜파게티 먹방 (EATING SOUNDS) NO TALKING MUKBANG',\n",
       " 'ASMR GREEN TEA BUBBLE TEA, EDIBLE SPOON, CHEESE CAKE, DICE CANDY 녹차 버블티, 먹는 숟가락, 주사위 먹방EATING SOUNDS',\n",
       " 'ASMR LIGHT JELLY, NIK-L-NIP WAX BALL, RAINBOW CREPE CAKE 불빛 젤리, 닉클립 왁스볼, 크레이프 케이크 먹방 EATING SOUNDS',\n",
       " 'ASMR NIK-L-NIP WAX STICK, BUBBLES RICE CAKES, CREPE CAKE 닉클립 왁스 스틱, 크레이프 케이크 먹방 EATING SOUNDS',\n",
       " 'ASMR WAGASHI MOCHI (EATING SOUNDS) 화과자 리얼사운드 먹방 NO TALKING MUKBANG',\n",
       " 'ASMR RED VELVET ICE CREAM, JELLY, MOCHI, CREPE CAKE, MARSHMALLOW 레드벨벳 아이스크림, 크레이프 케이크, 찰떡아이스, 젤리 먹방',\n",
       " 'ASMR NUTELLA CHOCOLATE ICE CREAM, BUBBLE TEA, CHOU, MACARON 누텔라 초콜릿 아이스크림, 버블티, 마카롱 먹방 EATING SOUNDS']"
      ]
     },
     "execution_count": 164,
     "metadata": {},
     "output_type": "execute_result"
    }
   ],
   "source": [
    "title"
   ]
  },
  {
   "cell_type": "code",
   "execution_count": 165,
   "metadata": {},
   "outputs": [
    {
     "data": {
      "text/plain": [
       "['조회수 153,395,656회',\n",
       " '조회수 86,678,751회',\n",
       " '조회수 87,100,598회',\n",
       " '조회수 70,959,266회',\n",
       " '조회수 69,521,111회',\n",
       " '조회수 53,366,080회',\n",
       " '조회수 45,181,652회',\n",
       " '조회수 43,600,338회',\n",
       " '조회수 33,955,289회',\n",
       " '조회수 23,998,625회',\n",
       " '조회수 23,768,637회',\n",
       " '조회수 23,367,976회',\n",
       " '조회수 23,935,763회',\n",
       " '조회수 23,188,382회',\n",
       " '조회수 23,259,191회',\n",
       " '조회수 22,497,580회',\n",
       " '조회수 21,115,078회',\n",
       " '조회수 20,547,397회',\n",
       " '조회수 19,402,696회',\n",
       " '조회수 18,567,019회',\n",
       " '조회수 17,435,771회',\n",
       " '조회수 17,284,901회',\n",
       " '조회수 17,590,938회',\n",
       " '조회수 16,818,318회',\n",
       " '조회수 16,051,179회']"
      ]
     },
     "execution_count": 165,
     "metadata": {},
     "output_type": "execute_result"
    }
   ],
   "source": [
    "views"
   ]
  },
  {
   "cell_type": "code",
   "execution_count": null,
   "metadata": {},
   "outputs": [],
   "source": []
  }
 ],
 "metadata": {
  "kernelspec": {
   "display_name": "Python 3",
   "language": "python",
   "name": "python3"
  },
  "language_info": {
   "codemirror_mode": {
    "name": "ipython",
    "version": 3
   },
   "file_extension": ".py",
   "mimetype": "text/x-python",
   "name": "python",
   "nbconvert_exporter": "python",
   "pygments_lexer": "ipython3",
   "version": "3.7.6"
  }
 },
 "nbformat": 4,
 "nbformat_minor": 4
}
