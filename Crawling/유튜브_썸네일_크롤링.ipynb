{
 "cells": [
  {
   "cell_type": "code",
   "execution_count": 166,
   "metadata": {
    "scrolled": true
   },
   "outputs": [],
   "source": [
    "from selenium import webdriver\n",
    "from selenium.webdriver.common.keys import Keys\n",
    "import time\n",
    "from tqdm import tqdm\n",
    "from urllib.request import urlretrieve\n",
    "import os\n",
    "import glob"
   ]
  },
  {
   "cell_type": "code",
   "execution_count": 168,
   "metadata": {},
   "outputs": [],
   "source": [
    "def youConThuDown(youtuberName , maxCount ,url, filetype=\".jpg\"):\n",
    "    # 웹 접속 - 네이버 이미지 접속\n",
    "    print(\"접속중\")\n",
    "    driver = webdriver.Chrome('./chromedriver.exe')\n",
    "    driver.implicitly_wait(10)\n",
    "\n",
    "    driver.get(url)\n",
    "\n",
    "    #페이지 스크롤 다운\n",
    "    body = driver.find_element_by_css_selector('body')\n",
    "    for i in range(3):\n",
    "        body.send_keys(Keys.PAGE_DOWN)\n",
    "        time.sleep(1)\n",
    "\n",
    "    #이미지 링크 수집\n",
    "    imgs = driver.find_elements_by_id(\"img\")[:maxCount]\n",
    "    result = []\n",
    "    for img in imgs:\n",
    "        if 'jpg' in img.get_attribute('src'):\n",
    "            result.append(img.get_attribute('src')[:48])\n",
    "    #print(result)\n",
    "    \n",
    "    driver.close()\n",
    "    print(\"수집완료\")\n",
    "\n",
    "    #폴더생성\n",
    "    print(\"폴더생성\")\n",
    "    if not os.path.isdir('./{}'.format(youtuberName)):\n",
    "        os.mkdir('./{}'.format(youtuberName))\n",
    "\n",
    "    #다운로드\n",
    "    print(\"다운로드\")\n",
    "    for index , link in tqdm(enumerate(result)):\n",
    "        start = link.rfind('.')\n",
    "        end = link.rfind('&')\n",
    "        # print(link[start:end])\n",
    "        urlretrieve(link , './{}/{}{}{}'.format(youtuberName,youtuberName,index,filetype))\n",
    "\n",
    "\n",
    "    print(\"다운로드 완료\")"
   ]
  },
  {
   "cell_type": "code",
   "execution_count": 167,
   "metadata": {
    "scrolled": true
   },
   "outputs": [
    {
     "name": "stdout",
     "output_type": "stream",
     "text": [
      "접속중\n",
      "['https://i.ytimg.com/vi/ZwXE7A-KLjw/hqdefault.jpg', 'https://i.ytimg.com/vi/8sdbWMEmsV4/hqdefault.jpg', 'https://i.ytimg.com/vi/Q5jnMD1z86k/hqdefault.jpg', 'https://i.ytimg.com/vi/bf6dUnegA8A/hqdefault.jpg', 'https://i.ytimg.com/vi/ttSLYuIqbKw/hqdefault.jpg', 'https://i.ytimg.com/vi/oISunQB3w0M/hqdefault.jpg', 'https://i.ytimg.com/vi/NT8Q6eigST0/hqdefault.jpg', 'https://i.ytimg.com/vi/c626gqD2InM/hqdefault.jpg', 'https://i.ytimg.com/vi/apcT31SWBo0/hqdefault.jpg', 'https://i.ytimg.com/vi/gUf26yHmYpU/hqdefault.jpg', 'https://i.ytimg.com/vi/oMNatl7EQW0/hqdefault.jpg', 'https://i.ytimg.com/vi/pnnQSi6IYlw/hqdefault.jpg', 'https://i.ytimg.com/vi/DIPSjSx8-CM/hqdefault.jpg', 'https://i.ytimg.com/vi/QFe3Pd_Ta5o/hqdefault.jpg', 'https://i.ytimg.com/vi/NhbZBKier2Y/hqdefault.jpg', 'https://i.ytimg.com/vi/1h0hwiTOXwI/hqdefault.jpg', 'https://i.ytimg.com/vi/v_xsrEHLTRI/hqdefault.jpg', 'https://i.ytimg.com/vi/XdnfO_oLpjY/hqdefault.jpg', 'https://i.ytimg.com/vi/7E51fgYwvjI/hqdefault.jpg', 'https://i.ytimg.com/vi/fB7-p-70dvg/hqdefault.jpg', 'https://i.ytimg.com/vi/zVVjlXWUK8A/hqdefault.jpg', 'https://i.ytimg.com/vi/zBWSsx956bM/hqdefault.jpg', 'https://i.ytimg.com/vi/64smA29mDHc/hqdefault.jpg']\n"
     ]
    },
    {
     "name": "stderr",
     "output_type": "stream",
     "text": [
      "\r",
      "0it [00:00, ?it/s]"
     ]
    },
    {
     "name": "stdout",
     "output_type": "stream",
     "text": [
      "수집완료\n",
      "폴더생성\n",
      "다운로드\n"
     ]
    },
    {
     "name": "stderr",
     "output_type": "stream",
     "text": [
      "23it [00:22,  1.01it/s]"
     ]
    },
    {
     "name": "stdout",
     "output_type": "stream",
     "text": [
      "다운로드 완료\n"
     ]
    },
    {
     "name": "stderr",
     "output_type": "stream",
     "text": [
      "\n"
     ]
    }
   ],
   "source": [
    "youtuber = \"JaneASMR제인\"\n",
    "count = 25\n",
    "youConThuDown(youtuber,count,\"https://www.youtube.com/c/JaneASMR%EC%A0%9C%EC%9D%B8/videos?view=0&sort=p&flow=grid\")"
   ]
  },
  {
   "cell_type": "code",
   "execution_count": 172,
   "metadata": {},
   "outputs": [],
   "source": [
    "imagesPath = glob.glob(os.getcwd() + \"/{}/*.jpg\".format(youtuber))"
   ]
  },
  {
   "cell_type": "code",
   "execution_count": null,
   "metadata": {},
   "outputs": [],
   "source": []
  },
  {
   "cell_type": "code",
   "execution_count": 150,
   "metadata": {},
   "outputs": [],
   "source": [
    "driver = webdriver.Chrome('./chromedriver.exe')\n",
    "driver.implicitly_wait(10)\n",
    "\n",
    "driver.get(\"https://www.youtube.com/c/JaneASMR%EC%A0%9C%EC%9D%B8/videos?view=0&sort=p&flow=grid\")"
   ]
  },
  {
   "cell_type": "code",
   "execution_count": 156,
   "metadata": {},
   "outputs": [],
   "source": [
    "text = driver.find_elements_by_id(\"video-title\")[0].get_attribute('aria-label')"
   ]
  },
  {
   "cell_type": "code",
   "execution_count": 160,
   "metadata": {},
   "outputs": [
    {
     "data": {
      "text/plain": [
       "'조회수 153,395,656회'"
      ]
     },
     "execution_count": 160,
     "metadata": {},
     "output_type": "execute_result"
    }
   ],
   "source": [
    "text[text.index(\"조회수\"):]"
   ]
  },
  {
   "cell_type": "code",
   "execution_count": 163,
   "metadata": {},
   "outputs": [],
   "source": [
    "title = []\n",
    "views = []\n",
    "for contents in driver.find_elements_by_id(\"video-title\")[:maxCount]:\n",
    "    title.append(contents.text)\n",
    "    temp = contents.get_attribute('aria-label')\n",
    "    views.append(temp[temp.index(\"조회수\"):])"
   ]
  },
  {
   "cell_type": "code",
   "execution_count": 164,
   "metadata": {},
   "outputs": [
    {
     "data": {
      "text/plain": [
       "['ASMR RAINBOW CREPE CAKE, EDIBLE SPOON, MACARON, NERDS ROPE JELLY 레인보우 크레이프 케이크, 너드 로프젤리, 먹는 숟가락 먹방',\n",
       " 'ASMR EDIBLE HAIR BRUSH, SPOON, BUBBLE TEA, GUMMY 먹는 빗, 숟가락, 햄버거 젤리, 주사위 사탕, 버블티 먹방 (EATING SOUNDS)',\n",
       " 'ASMR BLACK BEAN NOODLES + FRIED CHICKEN 시크릿 양념치킨 짜장 불닭볶음면 먹방 (EATING SOUNDS) NO TALKING MUKBANG',\n",
       " 'ASMR RAINBOW ICE DONUTS, EDIBLE SPOON, OREO 무지개 얼음, 먹는 숟가락, 오레오 먹방 (EATING SOUNDS) MUKBANG',\n",
       " 'ASMR JELLY NOODLES, GUMMY JELLY 젤리국수, 젤리 구미 먹방 (EATING SOUNDS) NO TALKING MUKBANG',\n",
       " 'ASMR SPOON + ICE CREAM 먹는 숟가락 + 베라 아이스크림 리얼사운드 먹방 (CRUNCHY EATING SOUNDS) NO TALKING MUKBANG',\n",
       " 'ASMR LOLLIPOP ICE CREAM, MARSHMALLOW, GUMMY JELLY 롤리팝 아이스크림, 마쉬멜로우, 젤리 먹방 EATING SOUNDS',\n",
       " 'MOST POPULAR FOOD FOR ASMR *HONEYCOMB, CANDIED FRUITS TANGHULU, TAPIOCA PEARLS BOBA 벌집꿀, 탕후루 먹방',\n",
       " 'ASMR WATERMELON ICE CREAM, MACARON, CAKE, JUICE 수박 아이스크림, 마카롱, 케이크, 수박주스 먹방 EATING SOUNDS',\n",
       " 'ASMR RAINBOW POPPING BOBA, ROCK CANDY, CREPE CAKE 무지개 팝핑보바, 락캔디, 크레이프 케이크 먹방 EATING SOUNDS',\n",
       " 'ASMR PURPLE FOOD EDIBLE ROSE, HAIR BRUSH, CANDLE, UNICORN CAKE 먹는 장미꽃, 먹는 빗, 먹는 캔들, 유니콘 케이크 먹방',\n",
       " 'ASMR EDIBLE ICE SPOON, ICE CREAM, KOHAKUTO, MACARON 숟가락 얼음, 구슬 아이스크림, 코하쿠토, 마카롱 먹방 EATING SOUNDS',\n",
       " 'ASMR BLACK BEAN FIRE NOODLES, KOREAN FRIED CHICKEN 짜장 불닭볶음면, 양념 치킨 먹방 (EATING SOUNDS)',\n",
       " 'ASMR GUMMY JELLY, LIPSTICK CANDY, CHOCOLATE 초콜릿, 젤리, 립스틱 사탕 먹방 (EATING SOUNDS) NO TALKING MUKBANG',\n",
       " 'ASMR EDIBLE LIPSTICK, GRAPE JELLY, CREPE CAKE, TIKTOK JELLO 먹는 립스틱, 포도 젤리, 크레이프 케이크 먹방 EATING SOUNDS',\n",
       " 'ASMR ICE CREAM PARTY *OREO ICE CREAM, CHOCOLATE ICE CREAM 오레오 아이스크림, 배라 초콜릿 아이스크림 먹방 EATING SOUNDS',\n",
       " 'ASMR EDIBLE iPHONE, EDIBLE SPOON, JELLY NOODLES 먹는 아이폰, 먹는 숟가락, 젤리 국수 먹방 EATING SOUNDS',\n",
       " 'ASMR SPOON, CREPE CAKE, HONEYCOMB, TANGHULU 숟가락, 크레이프 케이크, 벌집꿀, 과일 사탕 탕후루 먹방 (EATING SOUNDS)',\n",
       " 'ASMR *TRUFFLE BLACK BEAN NOODLES 화사님의 트러플오일 짜파게티 먹방 (EATING SOUNDS) NO TALKING MUKBANG',\n",
       " 'ASMR GREEN TEA BUBBLE TEA, EDIBLE SPOON, CHEESE CAKE, DICE CANDY 녹차 버블티, 먹는 숟가락, 주사위 먹방EATING SOUNDS',\n",
       " 'ASMR LIGHT JELLY, NIK-L-NIP WAX BALL, RAINBOW CREPE CAKE 불빛 젤리, 닉클립 왁스볼, 크레이프 케이크 먹방 EATING SOUNDS',\n",
       " 'ASMR NIK-L-NIP WAX STICK, BUBBLES RICE CAKES, CREPE CAKE 닉클립 왁스 스틱, 크레이프 케이크 먹방 EATING SOUNDS',\n",
       " 'ASMR WAGASHI MOCHI (EATING SOUNDS) 화과자 리얼사운드 먹방 NO TALKING MUKBANG',\n",
       " 'ASMR RED VELVET ICE CREAM, JELLY, MOCHI, CREPE CAKE, MARSHMALLOW 레드벨벳 아이스크림, 크레이프 케이크, 찰떡아이스, 젤리 먹방',\n",
       " 'ASMR NUTELLA CHOCOLATE ICE CREAM, BUBBLE TEA, CHOU, MACARON 누텔라 초콜릿 아이스크림, 버블티, 마카롱 먹방 EATING SOUNDS']"
      ]
     },
     "execution_count": 164,
     "metadata": {},
     "output_type": "execute_result"
    }
   ],
   "source": [
    "title"
   ]
  },
  {
   "cell_type": "code",
   "execution_count": 165,
   "metadata": {},
   "outputs": [
    {
     "data": {
      "text/plain": [
       "['조회수 153,395,656회',\n",
       " '조회수 86,678,751회',\n",
       " '조회수 87,100,598회',\n",
       " '조회수 70,959,266회',\n",
       " '조회수 69,521,111회',\n",
       " '조회수 53,366,080회',\n",
       " '조회수 45,181,652회',\n",
       " '조회수 43,600,338회',\n",
       " '조회수 33,955,289회',\n",
       " '조회수 23,998,625회',\n",
       " '조회수 23,768,637회',\n",
       " '조회수 23,367,976회',\n",
       " '조회수 23,935,763회',\n",
       " '조회수 23,188,382회',\n",
       " '조회수 23,259,191회',\n",
       " '조회수 22,497,580회',\n",
       " '조회수 21,115,078회',\n",
       " '조회수 20,547,397회',\n",
       " '조회수 19,402,696회',\n",
       " '조회수 18,567,019회',\n",
       " '조회수 17,435,771회',\n",
       " '조회수 17,284,901회',\n",
       " '조회수 17,590,938회',\n",
       " '조회수 16,818,318회',\n",
       " '조회수 16,051,179회']"
      ]
     },
     "execution_count": 165,
     "metadata": {},
     "output_type": "execute_result"
    }
   ],
   "source": [
    "views"
   ]
  },
  {
   "cell_type": "code",
   "execution_count": null,
   "metadata": {},
   "outputs": [],
   "source": []
  }
 ],
 "metadata": {
  "kernelspec": {
   "display_name": "Python 3",
   "language": "python",
   "name": "python3"
  },
  "language_info": {
   "codemirror_mode": {
    "name": "ipython",
    "version": 3
   },
   "file_extension": ".py",
   "mimetype": "text/x-python",
   "name": "python",
   "nbconvert_exporter": "python",
   "pygments_lexer": "ipython3",
   "version": "3.8.3"
  }
 },
 "nbformat": 4,
 "nbformat_minor": 4
}
