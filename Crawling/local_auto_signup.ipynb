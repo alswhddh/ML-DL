{
 "cells": [
  {
   "cell_type": "code",
   "execution_count": 28,
   "metadata": {},
   "outputs": [],
   "source": [
    "from selenium import webdriver\n",
    "from selenium.webdriver.common.keys import Keys\n",
    "import time\n",
    "from urllib.request import urlretrieve\n",
    "import os\n",
    "import glob"
   ]
  },
  {
   "cell_type": "code",
   "execution_count": 31,
   "metadata": {},
   "outputs": [],
   "source": [
    "#로그인\n",
    "#driver = webdriver.Chrome('./chromedriver')\n",
    "\n",
    "for i in range(1,611):\n",
    "    driver.implicitly_wait(20)\n",
    "\n",
    "    driver.get('http://127.0.0.1:8000/common/signup/')\n",
    "\n",
    "    driver.find_element_by_xpath('//*[@id=\"username\"]').send_keys('temptemp'+str(i) )\n",
    "    driver.find_element_by_xpath('//*[@id=\"password1\"]').send_keys('rlaqhdwns'+str(i))\n",
    "    driver.find_element_by_xpath('//*[@id=\"password2\"]').send_keys('rlaqhdwns'+str(i))\n",
    "    driver.find_element_by_xpath('//*[@id=\"email\"]').send_keys('temp@temp.com')\n",
    "    \n",
    "    driver.find_element_by_xpath('//*[@id=\"signup\"]/div/form/div[5]/input').click()"
   ]
  },
  {
   "cell_type": "code",
   "execution_count": null,
   "metadata": {},
   "outputs": [],
   "source": []
  }
 ],
 "metadata": {
  "kernelspec": {
   "display_name": "Python 3",
   "language": "python",
   "name": "python3"
  },
  "language_info": {
   "codemirror_mode": {
    "name": "ipython",
    "version": 3
   },
   "file_extension": ".py",
   "mimetype": "text/x-python",
   "name": "python",
   "nbconvert_exporter": "python",
   "pygments_lexer": "ipython3",
   "version": "3.7.6"
  }
 },
 "nbformat": 4,
 "nbformat_minor": 4
}
