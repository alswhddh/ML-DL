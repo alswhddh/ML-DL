{
 "cells": [
  {
   "cell_type": "markdown",
   "metadata": {},
   "source": [
    "## YouTube 댓글 크롤링"
   ]
  },
  {
   "cell_type": "code",
   "execution_count": 22,
   "metadata": {},
   "outputs": [],
   "source": [
    "from selenium import webdriver as wd\n",
    "from bs4 import BeautifulSoup\n",
    "import time\n",
    "import pandas as pd"
   ]
  },
  {
   "cell_type": "code",
   "execution_count": 23,
   "metadata": {},
   "outputs": [],
   "source": [
    "#백그라운드로 하기\n",
    "options = wd.ChromeOptions()\n",
    "options.add_argument('headless')"
   ]
  },
  {
   "cell_type": "code",
   "execution_count": 24,
   "metadata": {},
   "outputs": [],
   "source": [
    "def youTubeComentCrawler(url):\n",
    "    driver = wd.Chrome(\"./chromedriver\",chrome_options=options)\n",
    "    driver.get(url)\n",
    "    last_page_height = driver.execute_script(\"return document.documentElement.scrollHeight\")\n",
    "\n",
    "    while True:\n",
    "        driver.execute_script(\"window.scrollTo(0, document.documentElement.scrollHeight);\")\n",
    "        time.sleep(3.0)\n",
    "        new_page_height = driver.execute_script(\"return document.documentElement.scrollHeight\")\n",
    "\n",
    "        if new_page_height == last_page_height:\n",
    "            break\n",
    "        last_page_height = new_page_height\n",
    "\n",
    "    html_source = driver.page_source\n",
    "\n",
    "    #driver.close()\n",
    "    soup = BeautifulSoup(html_source, 'lxml')\n",
    "    \n",
    "    youtube_user_IDs = soup.select('div#header-author > a > span')\n",
    "    youtube_comments = soup.select('yt-formatted-string#content-text')\n",
    "    \n",
    "    str_youtube_userIDs = []\n",
    "    str_youtube_comments = []\n",
    "    for i in range(len(youtube_user_IDs)):\n",
    "        str_tmp = str(youtube_user_IDs[i].text)\n",
    "        str_tmp = str_tmp.replace('\\n','')\n",
    "        str_tmp = str_tmp.replace('\\t','')\n",
    "        str_tmp = str_tmp.replace('                ','')\n",
    "        str_youtube_userIDs.append(str_tmp)\n",
    "\n",
    "        str_tmp = str(youtube_comments[i].text)\n",
    "        str_tmp = str_tmp.replace('\\n','')\n",
    "        str_tmp = str_tmp.replace('\\t','')\n",
    "        str_tmp = str_tmp.replace('                ','')\n",
    "        str_youtube_comments.append(str_tmp)\n",
    "    \n",
    "    data = {\"ID\":str_youtube_userIDs,\"Comment\":str_youtube_comments}\n",
    "    df = pd.DataFrame(data)\n",
    "    return df"
   ]
  },
  {
   "cell_type": "code",
   "execution_count": 25,
   "metadata": {},
   "outputs": [
    {
     "name": "stderr",
     "output_type": "stream",
     "text": [
      "/opt/anaconda3/lib/python3.7/site-packages/ipykernel_launcher.py:2: DeprecationWarning: use options instead of chrome_options\n",
      "  \n"
     ]
    }
   ],
   "source": [
    "df = youTubeComentCrawler(\"https://www.youtube.com/watch?v=xBqCNDegljk\")"
   ]
  },
  {
   "cell_type": "code",
   "execution_count": 27,
   "metadata": {},
   "outputs": [
    {
     "data": {
      "text/plain": [
       "0                                  무슨 골을 밥먹듯이 넣어버리는 그는...\n",
       "1                                        So proud of Son🥇\n",
       "2       케인이 욕심내지않고 손흥민을 믿기때문에 이런좋은모습이 나온것같다 두선수다 서로를 위...\n",
       "3                                   군면제 안됐으면 어쩔뻔했냐 진짜 ㅋㅋㅋ\n",
       "4       난 태어나서 한국인이 한 경기에서 3 골 넣는 장면도 못봤는데.....4골이라니.....\n",
       "                              ...                        \n",
       "1488                                           골퍼...존나못하네\n",
       "1489                  손흥민이 5골을 넣지 않은이유...그에겐 '오점' 이란 없으니깐\n",
       "1490    손흥민 발길질해서 걸렸으면 퇴장당할뻔한 장면있었는데 다행이네 ㅋㅋ 선수쓰러져서 va...\n",
       "1491    문재인 특징 : n번방, 민식이법 등등 자기 이미지 챙기기 좋은 사건에는 귀신같이 ...\n",
       "1492    이렇게 양학만하고 또 리버풀 첼시 맨유상대로 골 못넣겠지ㅋㅋㅋ 손뽕들은 그걸 또 월...\n",
       "Name: Comment, Length: 1493, dtype: object"
      ]
     },
     "execution_count": 27,
     "metadata": {},
     "output_type": "execute_result"
    }
   ],
   "source": [
    "df['Comment']"
   ]
  },
  {
   "cell_type": "code",
   "execution_count": null,
   "metadata": {},
   "outputs": [],
   "source": []
  }
 ],
 "metadata": {
  "kernelspec": {
   "display_name": "Python 3",
   "language": "python",
   "name": "python3"
  },
  "language_info": {
   "codemirror_mode": {
    "name": "ipython",
    "version": 3
   },
   "file_extension": ".py",
   "mimetype": "text/x-python",
   "name": "python",
   "nbconvert_exporter": "python",
   "pygments_lexer": "ipython3",
   "version": "3.7.6"
  }
 },
 "nbformat": 4,
 "nbformat_minor": 4
}
