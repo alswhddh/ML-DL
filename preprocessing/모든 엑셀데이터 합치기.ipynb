{
 "cells": [
  {
   "cell_type": "code",
   "execution_count": 1,
   "metadata": {},
   "outputs": [],
   "source": [
    "import pandas as pd\n",
    "import numpy as np\n",
    "import os\n",
    "import glob\n",
    "import re"
   ]
  },
  {
   "cell_type": "code",
   "execution_count": 1,
   "metadata": {},
   "outputs": [
    {
     "ename": "NameError",
     "evalue": "name 'glob' is not defined",
     "output_type": "error",
     "traceback": [
      "\u001b[1;31m---------------------------------------------------------------------------\u001b[0m",
      "\u001b[1;31mNameError\u001b[0m                                 Traceback (most recent call last)",
      "\u001b[1;32m<ipython-input-1-cd995cfe7e4c>\u001b[0m in \u001b[0;36m<module>\u001b[1;34m\u001b[0m\n\u001b[1;32m----> 1\u001b[1;33m \u001b[0mitems\u001b[0m \u001b[1;33m=\u001b[0m \u001b[0mglob\u001b[0m\u001b[1;33m.\u001b[0m\u001b[0mglob\u001b[0m\u001b[1;33m(\u001b[0m\u001b[0mos\u001b[0m\u001b[1;33m.\u001b[0m\u001b[0mgetcwd\u001b[0m\u001b[1;33m(\u001b[0m\u001b[1;33m)\u001b[0m \u001b[1;33m+\u001b[0m \u001b[1;34m\"/rowdata/*.csv\"\u001b[0m\u001b[1;33m)\u001b[0m\u001b[1;33m\u001b[0m\u001b[1;33m\u001b[0m\u001b[0m\n\u001b[0m",
      "\u001b[1;31mNameError\u001b[0m: name 'glob' is not defined"
     ]
    }
   ],
   "source": [
    "items = glob.glob(os.getcwd() + \"/rowdata/*.csv\")"
   ]
  },
  {
   "cell_type": "code",
   "execution_count": 16,
   "metadata": {},
   "outputs": [],
   "source": [
    "concatList = []\n",
    "for item in items:\n",
    "    df = pd.read_csv(item, encoding=\"euc-kr\")\n",
    "    temp = pd.concat([changeDf(df,201901) , changeDf(df,201902),changeDf(df,201903),changeDf(df,201904),changeDf(df,201905),changeDf(df,201906),changeDf(df,201907),changeDf(df,201908),changeDf(df,201909),changeDf(df,201910),changeDf(df,201911),changeDf(df,201912)])\n",
    "    concatList.append(temp)"
   ]
  },
  {
   "cell_type": "code",
   "execution_count": 8,
   "metadata": {},
   "outputs": [],
   "source": [
    "def changeDf(df,month):\n",
    "    index = month - 201901\n",
    "    index = str(index)\n",
    "    raw_data = {\"INDEX_ID\" : df['코드명'][:24] , \"STD_YM\" : month , \"TIME\" : list(range(0,24)),\"H\" : df[df.종류 == \"주거인구\"][index].values, \"W\" : df[df.종류 == \"직장인구\"][index].values,\"V\" : df[df.종류 == \"방문인구\"][index].values}\n",
    "    return pd.DataFrame(raw_data)"
   ]
  },
  {
   "cell_type": "code",
   "execution_count": 17,
   "metadata": {},
   "outputs": [],
   "source": [
    "result = pd.concat(concatList)"
   ]
  },
  {
   "cell_type": "code",
   "execution_count": 18,
   "metadata": {},
   "outputs": [],
   "source": [
    "result.to_csv(\"bupyeong_service_2019_250m_1.csv\",encoding=\"euc-kr\")"
   ]
  },
  {
   "cell_type": "code",
   "execution_count": 19,
   "metadata": {},
   "outputs": [
    {
     "data": {
      "text/plain": [
       "534"
      ]
     },
     "execution_count": 19,
     "metadata": {},
     "output_type": "execute_result"
    }
   ],
   "source": [
    "len(result['INDEX_ID'].unique())"
   ]
  },
  {
   "cell_type": "code",
   "execution_count": 21,
   "metadata": {},
   "outputs": [],
   "source": [
    "result2 = result[(result['TIME'] < 17)&(result['TIME'] >= 9)]\n",
    "result2 = result2.groupby(\"INDEX_ID\").agg([\"sum\"])[[\"H\",\"W\",\"V\"]]\n",
    "result2 = result2.reset_index()\n",
    "result2.columns = ['INDEX_ID',\"H\",\"W\",\"V\"]\n",
    "result2['STD_YM'] = 2019"
   ]
  },
  {
   "cell_type": "code",
   "execution_count": 36,
   "metadata": {},
   "outputs": [],
   "source": [
    "result2[['INDEX_ID','STD_YM','H','W','V']].to_csv(\"bupyeong_service_2019_250_month_sum.csv\",encoding=\"euc-kr\")"
   ]
  },
  {
   "cell_type": "code",
   "execution_count": null,
   "metadata": {},
   "outputs": [],
   "source": []
  }
 ],
 "metadata": {
  "kernelspec": {
   "display_name": "Python 3",
   "language": "python",
   "name": "python3"
  },
  "language_info": {
   "codemirror_mode": {
    "name": "ipython",
    "version": 3
   },
   "file_extension": ".py",
   "mimetype": "text/x-python",
   "name": "python",
   "nbconvert_exporter": "python",
   "pygments_lexer": "ipython3",
   "version": "3.8.3"
  }
 },
 "nbformat": 4,
 "nbformat_minor": 4
}
